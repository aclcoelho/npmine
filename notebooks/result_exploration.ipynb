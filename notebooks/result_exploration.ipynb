{
 "cells": [
  {
   "cell_type": "code",
   "execution_count": 1,
   "metadata": {},
   "outputs": [],
   "source": [
    "import pandas as pd\n",
    "import numpy as np\n",
    "import matplotlib.pyplot as plt\n",
    "from matplotlib.backends.backend_pdf import PdfPages\n",
    "\n",
    "%matplotlib inline"
   ]
  },
  {
   "cell_type": "code",
   "execution_count": 2,
   "metadata": {
    "scrolled": true
   },
   "outputs": [
    {
     "name": "stderr",
     "output_type": "stream",
     "text": [
      "/opt/conda/envs/nplibrary/lib/python3.6/site-packages/IPython/core/interactiveshell.py:3063: DtypeWarning: Columns (1,5) have mixed types.Specify dtype option on import or set low_memory=False.\n",
      "  interactivity=interactivity, compiler=compiler, result=result)\n",
      "/opt/conda/envs/nplibrary/lib/python3.6/site-packages/IPython/core/interactiveshell.py:3063: DtypeWarning: Columns (1) have mixed types.Specify dtype option on import or set low_memory=False.\n",
      "  interactivity=interactivity, compiler=compiler, result=result)\n"
     ]
    }
   ],
   "source": [
    "jnatprod = pd.read_csv('data/entities_img_dataframe_jnatprod.tsv', sep='\\t')  \n",
    "metabo = pd.read_csv('data/entities_img_dataframe_metabo.tsv', sep='\\t')\n",
    "phytorev = pd.read_csv('data/entities_img_dataframe_phytorev.tsv', sep='\\t')  \n",
    "qn = pd.read_csv('data/entities_img_dataframe_qn.tsv', sep='\\t')\n",
    "chrom_a = pd.read_csv('data/entities_img_dataframe_chroma_a.tsv', sep='\\t')\n",
    "chrom_b = pd.read_csv('data/entities_img_dataframe_chroma_b.tsv', sep='\\t')"
   ]
  },
  {
   "cell_type": "code",
   "execution_count": 3,
   "metadata": {},
   "outputs": [],
   "source": [
    "jnatprod = pd.concat([pd.DataFrame(['jnatprod']*jnatprod.shape[0], \n",
    "                                   columns=['journal']), jnatprod], axis=1, sort=False)\n",
    "metabo = pd.concat([pd.DataFrame(['metabo']*metabo.shape[0], \n",
    "                                   columns=['journal']), metabo], axis=1, sort=False)\n",
    "phytorev = pd.concat([pd.DataFrame(['phytorev']*phytorev.shape[0], \n",
    "                                   columns=['journal']), phytorev], axis=1, sort=False)\n",
    "qn = pd.concat([pd.DataFrame(['qn']*qn.shape[0], \n",
    "                             columns=['journal']), qn], axis=1, sort=False)\n",
    "chrom_a = pd.concat([pd.DataFrame(['chrom_a']*chrom_a.shape[0], \n",
    "                                  columns=['journal']), chrom_a], axis=1, sort=False)\n",
    "chrom_b = pd.concat([pd.DataFrame(['chrom_b']*chrom_b.shape[0], \n",
    "                                  columns=['journal']), chrom_b], axis=1, sort=False)"
   ]
  },
  {
   "cell_type": "code",
   "execution_count": 4,
   "metadata": {},
   "outputs": [
    {
     "data": {
      "text/html": [
       "<div>\n",
       "<style scoped>\n",
       "    .dataframe tbody tr th:only-of-type {\n",
       "        vertical-align: middle;\n",
       "    }\n",
       "\n",
       "    .dataframe tbody tr th {\n",
       "        vertical-align: top;\n",
       "    }\n",
       "\n",
       "    .dataframe thead th {\n",
       "        text-align: right;\n",
       "    }\n",
       "</style>\n",
       "<table border=\"1\" class=\"dataframe\">\n",
       "  <thead>\n",
       "    <tr style=\"text-align: right;\">\n",
       "      <th></th>\n",
       "      <th>journal</th>\n",
       "      <th>doi</th>\n",
       "      <th>smiles</th>\n",
       "      <th>standardInChIKey</th>\n",
       "      <th>ExactMolWt</th>\n",
       "      <th>pubchem</th>\n",
       "      <th>standardInChI</th>\n",
       "      <th>source</th>\n",
       "    </tr>\n",
       "  </thead>\n",
       "  <tbody>\n",
       "    <tr>\n",
       "      <th>0</th>\n",
       "      <td>jnatprod</td>\n",
       "      <td>np50051a041</td>\n",
       "      <td></td>\n",
       "      <td>MBMQEIFVQACCCH-QBODLPLBSA-N</td>\n",
       "      <td>318.146724</td>\n",
       "      <td>5281576</td>\n",
       "      <td>InChI=1S/C18H22O5/c1-12-6-5-9-14(19)8-4-2-3-7-...</td>\n",
       "      <td>oscar</td>\n",
       "    </tr>\n",
       "    <tr>\n",
       "      <th>1</th>\n",
       "      <td>jnatprod</td>\n",
       "      <td>np50051a041</td>\n",
       "      <td></td>\n",
       "      <td>RGSFGYAAUTVSQA-UHFFFAOYSA-N</td>\n",
       "      <td>70.078250</td>\n",
       "      <td>9253</td>\n",
       "      <td>InChI=1S/C5H10/c1-2-4-5-3-1/h1-5H2</td>\n",
       "      <td>oscar</td>\n",
       "    </tr>\n",
       "    <tr>\n",
       "      <th>2</th>\n",
       "      <td>jnatprod</td>\n",
       "      <td>np50051a041</td>\n",
       "      <td></td>\n",
       "      <td>OKTJSMMVPCPJKN-UHFFFAOYSA-N</td>\n",
       "      <td>12.000000</td>\n",
       "      <td>5462310</td>\n",
       "      <td>InChI=1S/C</td>\n",
       "      <td>oscar</td>\n",
       "    </tr>\n",
       "    <tr>\n",
       "      <th>3</th>\n",
       "      <td>jnatprod</td>\n",
       "      <td>np50051a041</td>\n",
       "      <td></td>\n",
       "      <td>BUGBHKTXTAQXES-UHFFFAOYSA-N</td>\n",
       "      <td>79.916521</td>\n",
       "      <td>6326970</td>\n",
       "      <td>InChI=1S/Se</td>\n",
       "      <td>oscar</td>\n",
       "    </tr>\n",
       "    <tr>\n",
       "      <th>4</th>\n",
       "      <td>jnatprod</td>\n",
       "      <td>np50051a041</td>\n",
       "      <td></td>\n",
       "      <td>OKTJSMMVPCPJKN-UHFFFAOYSA-N</td>\n",
       "      <td>12.000000</td>\n",
       "      <td>5462310</td>\n",
       "      <td>InChI=1S/C</td>\n",
       "      <td>oscar</td>\n",
       "    </tr>\n",
       "  </tbody>\n",
       "</table>\n",
       "</div>"
      ],
      "text/plain": [
       "    journal          doi smiles             standardInChIKey  ExactMolWt  \\\n",
       "0  jnatprod  np50051a041         MBMQEIFVQACCCH-QBODLPLBSA-N  318.146724   \n",
       "1  jnatprod  np50051a041         RGSFGYAAUTVSQA-UHFFFAOYSA-N   70.078250   \n",
       "2  jnatprod  np50051a041         OKTJSMMVPCPJKN-UHFFFAOYSA-N   12.000000   \n",
       "3  jnatprod  np50051a041         BUGBHKTXTAQXES-UHFFFAOYSA-N   79.916521   \n",
       "4  jnatprod  np50051a041         OKTJSMMVPCPJKN-UHFFFAOYSA-N   12.000000   \n",
       "\n",
       "   pubchem                                      standardInChI source  \n",
       "0  5281576  InChI=1S/C18H22O5/c1-12-6-5-9-14(19)8-4-2-3-7-...  oscar  \n",
       "1     9253                 InChI=1S/C5H10/c1-2-4-5-3-1/h1-5H2  oscar  \n",
       "2  5462310                                         InChI=1S/C  oscar  \n",
       "3  6326970                                        InChI=1S/Se  oscar  \n",
       "4  5462310                                         InChI=1S/C  oscar  "
      ]
     },
     "execution_count": 4,
     "metadata": {},
     "output_type": "execute_result"
    }
   ],
   "source": [
    "comp = pd.concat([jnatprod, metabo, phytorev, \n",
    "                  qn, chrom_a, chrom_b])\n",
    "comp.loc[comp['pubchem'].isnull(), 'pubchem'] = 0\n",
    "comp['pubchem'] = comp['pubchem'].astype(str)\n",
    "comp.loc[comp['pubchem'].str.contains('csid'), 'pubchem'] = 0\n",
    "comp['pubchem'] = comp['pubchem'].astype(float)\n",
    "comp['pubchem'] = comp['pubchem'].astype(int)\n",
    "comp.loc[comp['pubchem']==0, 'pubchem'] = ''\n",
    "comp.fillna('', inplace=True)\n",
    "comp.reset_index(drop=True, inplace=True)\n",
    "comp.head()"
   ]
  },
  {
   "cell_type": "code",
   "execution_count": 5,
   "metadata": {},
   "outputs": [
    {
     "data": {
      "text/plain": [
       "(1533872, 8)"
      ]
     },
     "execution_count": 5,
     "metadata": {},
     "output_type": "execute_result"
    }
   ],
   "source": [
    "comp.shape"
   ]
  },
  {
   "cell_type": "code",
   "execution_count": 6,
   "metadata": {},
   "outputs": [
    {
     "data": {
      "text/html": [
       "<div>\n",
       "<style scoped>\n",
       "    .dataframe tbody tr th:only-of-type {\n",
       "        vertical-align: middle;\n",
       "    }\n",
       "\n",
       "    .dataframe tbody tr th {\n",
       "        vertical-align: top;\n",
       "    }\n",
       "\n",
       "    .dataframe thead tr th {\n",
       "        text-align: left;\n",
       "    }\n",
       "\n",
       "    .dataframe thead tr:last-of-type th {\n",
       "        text-align: right;\n",
       "    }\n",
       "</style>\n",
       "<table border=\"1\" class=\"dataframe\">\n",
       "  <thead>\n",
       "    <tr>\n",
       "      <th></th>\n",
       "      <th>doi</th>\n",
       "      <th>standardInChIKey</th>\n",
       "      <th>pubchem</th>\n",
       "    </tr>\n",
       "    <tr>\n",
       "      <th></th>\n",
       "      <th>nunique</th>\n",
       "      <th>nunique</th>\n",
       "      <th>nunique</th>\n",
       "    </tr>\n",
       "    <tr>\n",
       "      <th>journal</th>\n",
       "      <th></th>\n",
       "      <th></th>\n",
       "      <th></th>\n",
       "    </tr>\n",
       "  </thead>\n",
       "  <tbody>\n",
       "    <tr>\n",
       "      <th>chrom_a</th>\n",
       "      <td>22786</td>\n",
       "      <td>36045</td>\n",
       "      <td>29056</td>\n",
       "    </tr>\n",
       "    <tr>\n",
       "      <th>chrom_b</th>\n",
       "      <td>10202</td>\n",
       "      <td>25928</td>\n",
       "      <td>18365</td>\n",
       "    </tr>\n",
       "    <tr>\n",
       "      <th>jnatprod</th>\n",
       "      <td>14058</td>\n",
       "      <td>53006</td>\n",
       "      <td>31563</td>\n",
       "    </tr>\n",
       "    <tr>\n",
       "      <th>metabo</th>\n",
       "      <td>1409</td>\n",
       "      <td>6284</td>\n",
       "      <td>5450</td>\n",
       "    </tr>\n",
       "    <tr>\n",
       "      <th>phytorev</th>\n",
       "      <td>774</td>\n",
       "      <td>14321</td>\n",
       "      <td>9599</td>\n",
       "    </tr>\n",
       "    <tr>\n",
       "      <th>qn</th>\n",
       "      <td>6153</td>\n",
       "      <td>17946</td>\n",
       "      <td>11188</td>\n",
       "    </tr>\n",
       "  </tbody>\n",
       "</table>\n",
       "</div>"
      ],
      "text/plain": [
       "             doi standardInChIKey pubchem\n",
       "         nunique          nunique nunique\n",
       "journal                                  \n",
       "chrom_a    22786            36045   29056\n",
       "chrom_b    10202            25928   18365\n",
       "jnatprod   14058            53006   31563\n",
       "metabo      1409             6284    5450\n",
       "phytorev     774            14321    9599\n",
       "qn          6153            17946   11188"
      ]
     },
     "execution_count": 6,
     "metadata": {},
     "output_type": "execute_result"
    }
   ],
   "source": [
    "tab1 = comp.groupby(['journal'])[['doi', 'standardInChIKey', 'pubchem']].agg(['nunique'])\n",
    "tab1"
   ]
  },
  {
   "cell_type": "code",
   "execution_count": 7,
   "metadata": {},
   "outputs": [
    {
     "data": {
      "text/html": [
       "<div>\n",
       "<style scoped>\n",
       "    .dataframe tbody tr th:only-of-type {\n",
       "        vertical-align: middle;\n",
       "    }\n",
       "\n",
       "    .dataframe tbody tr th {\n",
       "        vertical-align: top;\n",
       "    }\n",
       "\n",
       "    .dataframe thead tr th {\n",
       "        text-align: left;\n",
       "    }\n",
       "\n",
       "    .dataframe thead tr:last-of-type th {\n",
       "        text-align: right;\n",
       "    }\n",
       "</style>\n",
       "<table border=\"1\" class=\"dataframe\">\n",
       "  <thead>\n",
       "    <tr>\n",
       "      <th></th>\n",
       "      <th>doi</th>\n",
       "      <th>standardInChIKey</th>\n",
       "      <th>pubchem</th>\n",
       "    </tr>\n",
       "    <tr>\n",
       "      <th></th>\n",
       "      <th>nunique</th>\n",
       "      <th>nunique</th>\n",
       "      <th>nunique</th>\n",
       "    </tr>\n",
       "    <tr>\n",
       "      <th>journal</th>\n",
       "      <th></th>\n",
       "      <th></th>\n",
       "      <th></th>\n",
       "    </tr>\n",
       "  </thead>\n",
       "  <tbody>\n",
       "    <tr>\n",
       "      <th>chrom_a</th>\n",
       "      <td>22786</td>\n",
       "      <td>36044</td>\n",
       "      <td>29055</td>\n",
       "    </tr>\n",
       "    <tr>\n",
       "      <th>chrom_b</th>\n",
       "      <td>10202</td>\n",
       "      <td>25927</td>\n",
       "      <td>18364</td>\n",
       "    </tr>\n",
       "    <tr>\n",
       "      <th>jnatprod</th>\n",
       "      <td>14058</td>\n",
       "      <td>53005</td>\n",
       "      <td>31562</td>\n",
       "    </tr>\n",
       "    <tr>\n",
       "      <th>metabo</th>\n",
       "      <td>1409</td>\n",
       "      <td>6283</td>\n",
       "      <td>5449</td>\n",
       "    </tr>\n",
       "    <tr>\n",
       "      <th>phytorev</th>\n",
       "      <td>774</td>\n",
       "      <td>14320</td>\n",
       "      <td>9598</td>\n",
       "    </tr>\n",
       "    <tr>\n",
       "      <th>qn</th>\n",
       "      <td>6153</td>\n",
       "      <td>17945</td>\n",
       "      <td>11187</td>\n",
       "    </tr>\n",
       "  </tbody>\n",
       "</table>\n",
       "</div>"
      ],
      "text/plain": [
       "             doi standardInChIKey pubchem\n",
       "         nunique          nunique nunique\n",
       "journal                                  \n",
       "chrom_a    22786            36044   29055\n",
       "chrom_b    10202            25927   18364\n",
       "jnatprod   14058            53005   31562\n",
       "metabo      1409             6283    5449\n",
       "phytorev     774            14320    9598\n",
       "qn          6153            17945   11187"
      ]
     },
     "execution_count": 7,
     "metadata": {},
     "output_type": "execute_result"
    }
   ],
   "source": [
    "tab1['standardInChIKey'] = tab1['standardInChIKey']-1\n",
    "tab1['pubchem'] = tab1['pubchem']-1\n",
    "tab1"
   ]
  },
  {
   "cell_type": "code",
   "execution_count": 8,
   "metadata": {},
   "outputs": [
    {
     "data": {
      "text/html": [
       "<div>\n",
       "<style scoped>\n",
       "    .dataframe tbody tr th:only-of-type {\n",
       "        vertical-align: middle;\n",
       "    }\n",
       "\n",
       "    .dataframe tbody tr th {\n",
       "        vertical-align: top;\n",
       "    }\n",
       "\n",
       "    .dataframe thead th {\n",
       "        text-align: right;\n",
       "    }\n",
       "</style>\n",
       "<table border=\"1\" class=\"dataframe\">\n",
       "  <thead>\n",
       "    <tr style=\"text-align: right;\">\n",
       "      <th></th>\n",
       "      <th>nunique</th>\n",
       "      <th>nunique</th>\n",
       "    </tr>\n",
       "    <tr>\n",
       "      <th>journal</th>\n",
       "      <th></th>\n",
       "      <th></th>\n",
       "    </tr>\n",
       "  </thead>\n",
       "  <tbody>\n",
       "    <tr>\n",
       "      <th>chrom_a</th>\n",
       "      <td>0.297961</td>\n",
       "      <td>0.395694</td>\n",
       "    </tr>\n",
       "    <tr>\n",
       "      <th>chrom_b</th>\n",
       "      <td>0.214328</td>\n",
       "      <td>0.250095</td>\n",
       "    </tr>\n",
       "    <tr>\n",
       "      <th>jnatprod</th>\n",
       "      <td>0.438170</td>\n",
       "      <td>0.429836</td>\n",
       "    </tr>\n",
       "    <tr>\n",
       "      <th>metabo</th>\n",
       "      <td>0.051939</td>\n",
       "      <td>0.074209</td>\n",
       "    </tr>\n",
       "    <tr>\n",
       "      <th>phytorev</th>\n",
       "      <td>0.118377</td>\n",
       "      <td>0.130713</td>\n",
       "    </tr>\n",
       "    <tr>\n",
       "      <th>qn</th>\n",
       "      <td>0.148344</td>\n",
       "      <td>0.152353</td>\n",
       "    </tr>\n",
       "  </tbody>\n",
       "</table>\n",
       "</div>"
      ],
      "text/plain": [
       "           nunique   nunique\n",
       "journal                     \n",
       "chrom_a   0.297961  0.395694\n",
       "chrom_b   0.214328  0.250095\n",
       "jnatprod  0.438170  0.429836\n",
       "metabo    0.051939  0.074209\n",
       "phytorev  0.118377  0.130713\n",
       "qn        0.148344  0.152353"
      ]
     },
     "execution_count": 8,
     "metadata": {},
     "output_type": "execute_result"
    }
   ],
   "source": [
    "pd.concat([tab1['standardInChIKey']/120969, tab1['pubchem']/73428], axis=1)"
   ]
  },
  {
   "cell_type": "code",
   "execution_count": 9,
   "metadata": {},
   "outputs": [
    {
     "data": {
      "text/html": [
       "<div>\n",
       "<style scoped>\n",
       "    .dataframe tbody tr th:only-of-type {\n",
       "        vertical-align: middle;\n",
       "    }\n",
       "\n",
       "    .dataframe tbody tr th {\n",
       "        vertical-align: top;\n",
       "    }\n",
       "\n",
       "    .dataframe thead th {\n",
       "        text-align: right;\n",
       "    }\n",
       "</style>\n",
       "<table border=\"1\" class=\"dataframe\">\n",
       "  <thead>\n",
       "    <tr style=\"text-align: right;\">\n",
       "      <th></th>\n",
       "      <th>nunique</th>\n",
       "    </tr>\n",
       "    <tr>\n",
       "      <th>journal</th>\n",
       "      <th></th>\n",
       "    </tr>\n",
       "  </thead>\n",
       "  <tbody>\n",
       "    <tr>\n",
       "      <th>chrom_a</th>\n",
       "      <td>0.806098</td>\n",
       "    </tr>\n",
       "    <tr>\n",
       "      <th>chrom_b</th>\n",
       "      <td>0.708296</td>\n",
       "    </tr>\n",
       "    <tr>\n",
       "      <th>jnatprod</th>\n",
       "      <td>0.595453</td>\n",
       "    </tr>\n",
       "    <tr>\n",
       "      <th>metabo</th>\n",
       "      <td>0.867261</td>\n",
       "    </tr>\n",
       "    <tr>\n",
       "      <th>phytorev</th>\n",
       "      <td>0.670251</td>\n",
       "    </tr>\n",
       "    <tr>\n",
       "      <th>qn</th>\n",
       "      <td>0.623405</td>\n",
       "    </tr>\n",
       "  </tbody>\n",
       "</table>\n",
       "</div>"
      ],
      "text/plain": [
       "           nunique\n",
       "journal           \n",
       "chrom_a   0.806098\n",
       "chrom_b   0.708296\n",
       "jnatprod  0.595453\n",
       "metabo    0.867261\n",
       "phytorev  0.670251\n",
       "qn        0.623405"
      ]
     },
     "execution_count": 9,
     "metadata": {},
     "output_type": "execute_result"
    }
   ],
   "source": [
    "tab1['pubchem']/tab1['standardInChIKey']"
   ]
  },
  {
   "cell_type": "code",
   "execution_count": 10,
   "metadata": {},
   "outputs": [
    {
     "data": {
      "text/html": [
       "<div>\n",
       "<style scoped>\n",
       "    .dataframe tbody tr th:only-of-type {\n",
       "        vertical-align: middle;\n",
       "    }\n",
       "\n",
       "    .dataframe tbody tr th {\n",
       "        vertical-align: top;\n",
       "    }\n",
       "\n",
       "    .dataframe thead th {\n",
       "        text-align: right;\n",
       "    }\n",
       "</style>\n",
       "<table border=\"1\" class=\"dataframe\">\n",
       "  <thead>\n",
       "    <tr style=\"text-align: right;\">\n",
       "      <th></th>\n",
       "      <th>nunique</th>\n",
       "      <th>nunique</th>\n",
       "    </tr>\n",
       "    <tr>\n",
       "      <th>journal</th>\n",
       "      <th></th>\n",
       "      <th></th>\n",
       "    </tr>\n",
       "  </thead>\n",
       "  <tbody>\n",
       "    <tr>\n",
       "      <th>chrom_a</th>\n",
       "      <td>1.581849</td>\n",
       "      <td>1.275125</td>\n",
       "    </tr>\n",
       "    <tr>\n",
       "      <th>chrom_b</th>\n",
       "      <td>2.541364</td>\n",
       "      <td>1.800039</td>\n",
       "    </tr>\n",
       "    <tr>\n",
       "      <th>jnatprod</th>\n",
       "      <td>3.770451</td>\n",
       "      <td>2.245127</td>\n",
       "    </tr>\n",
       "    <tr>\n",
       "      <th>metabo</th>\n",
       "      <td>4.459191</td>\n",
       "      <td>3.867282</td>\n",
       "    </tr>\n",
       "    <tr>\n",
       "      <th>phytorev</th>\n",
       "      <td>18.501292</td>\n",
       "      <td>12.400517</td>\n",
       "    </tr>\n",
       "    <tr>\n",
       "      <th>qn</th>\n",
       "      <td>2.916464</td>\n",
       "      <td>1.818137</td>\n",
       "    </tr>\n",
       "  </tbody>\n",
       "</table>\n",
       "</div>"
      ],
      "text/plain": [
       "            nunique    nunique\n",
       "journal                       \n",
       "chrom_a    1.581849   1.275125\n",
       "chrom_b    2.541364   1.800039\n",
       "jnatprod   3.770451   2.245127\n",
       "metabo     4.459191   3.867282\n",
       "phytorev  18.501292  12.400517\n",
       "qn         2.916464   1.818137"
      ]
     },
     "execution_count": 10,
     "metadata": {},
     "output_type": "execute_result"
    }
   ],
   "source": [
    "pd.concat([tab1['standardInChIKey']/tab1['doi'], tab1['pubchem']/tab1['doi']], axis=1)"
   ]
  },
  {
   "cell_type": "code",
   "execution_count": 11,
   "metadata": {},
   "outputs": [
    {
     "data": {
      "text/plain": [
       "36044"
      ]
     },
     "execution_count": 11,
     "metadata": {},
     "output_type": "execute_result"
    }
   ],
   "source": [
    "# Have to remove the '' for each journal\n",
    "chrom_a = comp.loc[comp['journal']=='chrom_a', 'standardInChIKey'].unique().tolist()\n",
    "chrom_a.remove('')\n",
    "len(chrom_a)"
   ]
  },
  {
   "cell_type": "code",
   "execution_count": 12,
   "metadata": {},
   "outputs": [
    {
     "data": {
      "text/plain": [
       "120970"
      ]
     },
     "execution_count": 12,
     "metadata": {},
     "output_type": "execute_result"
    }
   ],
   "source": [
    "# Number of unique compounds, total unique \n",
    "len(comp['standardInChIKey'].unique())"
   ]
  },
  {
   "cell_type": "code",
   "execution_count": 13,
   "metadata": {},
   "outputs": [
    {
     "data": {
      "text/plain": [
       "73429"
      ]
     },
     "execution_count": 13,
     "metadata": {},
     "output_type": "execute_result"
    }
   ],
   "source": [
    "# Number of unique pubchem ids, total unique \n",
    "len(comp['pubchem'].unique())"
   ]
  },
  {
   "cell_type": "code",
   "execution_count": 14,
   "metadata": {},
   "outputs": [
    {
     "data": {
      "text/plain": [
       "S0021967300915255           2453\n",
       "S0021967301916139           1660\n",
       "S0021967301879139           1550\n",
       "S0021967301876688           1479\n",
       "S0021967300940986           1395\n",
       "                            ... \n",
       "Vol25No2_186_02                1\n",
       "S0021967301994567              1\n",
       "S002196730091330X              1\n",
       "Vol31No6_1573_48-NT07503       1\n",
       "Vol15No4_328_v15_n4__9_        1\n",
       "Name: doi, Length: 55382, dtype: int64"
      ]
     },
     "execution_count": 14,
     "metadata": {},
     "output_type": "execute_result"
    }
   ],
   "source": [
    "# Number of structures by paper\n",
    "comp['doi'].value_counts()"
   ]
  },
  {
   "cell_type": "code",
   "execution_count": 15,
   "metadata": {},
   "outputs": [
    {
     "data": {
      "text/plain": [
       "<matplotlib.axes._subplots.AxesSubplot at 0x7f0a2b966b70>"
      ]
     },
     "execution_count": 15,
     "metadata": {},
     "output_type": "execute_result"
    },
    {
     "data": {
      "image/png": "[encoded data removed]",
      "text/plain": [
       "<Figure size 432x288 with 1 Axes>"
      ]
     },
     "metadata": {
      "needs_background": "light"
     },
     "output_type": "display_data"
    }
   ],
   "source": [
    "comp['doi'].value_counts().hist(bins=100)"
   ]
  },
  {
   "cell_type": "code",
   "execution_count": 16,
   "metadata": {},
   "outputs": [
    {
     "data": {
      "text/plain": [
       "                               184817\n",
       "XLYOFNOQVPJJNP-UHFFFAOYSA-N     47712\n",
       "OKKJLVBELUTLKV-UHFFFAOYSA-N     39031\n",
       "WEVYAHXRMPXWCK-UHFFFAOYSA-N     19854\n",
       "OKTJSMMVPCPJKN-UHFFFAOYSA-N     18616\n",
       "                                ...  \n",
       "UGSXDGAMMVTKSU-UHFFFAOYSA-N         1\n",
       "KMGMRELINJXTGB-JKNGZLQRSA-N         1\n",
       "SZPPKQYKHDNQKI-JBZHPUCOSA-N         1\n",
       "QNXDEBZEUMVFNP-UHFFFAOYSA-N         1\n",
       "FNZPZCTVRVPPAB-YZSQHPIKSA-N         1\n",
       "Name: standardInChIKey, Length: 120970, dtype: int64"
      ]
     },
     "execution_count": 16,
     "metadata": {},
     "output_type": "execute_result"
    }
   ],
   "source": [
    "# Number of occurencies of each compound\n",
    "comp['standardInChIKey'].value_counts()"
   ]
  },
  {
   "cell_type": "code",
   "execution_count": 17,
   "metadata": {},
   "outputs": [],
   "source": [
    "idx = comp[comp['standardInChIKey'].isin(comp['standardInChIKey'].value_counts().head(10).index)].index"
   ]
  },
  {
   "cell_type": "code",
   "execution_count": 18,
   "metadata": {},
   "outputs": [
    {
     "data": {
      "text/plain": [
       "<matplotlib.axes._subplots.AxesSubplot at 0x7f0a34c154e0>"
      ]
     },
     "execution_count": 18,
     "metadata": {},
     "output_type": "execute_result"
    },
    {
     "data": {
      "image/png": "[encoded data removed]",
      "text/plain": [
       "<Figure size 432x288 with 1 Axes>"
      ]
     },
     "metadata": {
      "needs_background": "light"
     },
     "output_type": "display_data"
    }
   ],
   "source": [
    "comp.loc[idx, 'standardInChIKey'].value_counts().hist()"
   ]
  },
  {
   "cell_type": "code",
   "execution_count": 19,
   "metadata": {
    "scrolled": true
   },
   "outputs": [
    {
     "data": {
      "text/html": [
       "<div>\n",
       "<style scoped>\n",
       "    .dataframe tbody tr th:only-of-type {\n",
       "        vertical-align: middle;\n",
       "    }\n",
       "\n",
       "    .dataframe tbody tr th {\n",
       "        vertical-align: top;\n",
       "    }\n",
       "\n",
       "    .dataframe thead th {\n",
       "        text-align: right;\n",
       "    }\n",
       "</style>\n",
       "<table border=\"1\" class=\"dataframe\">\n",
       "  <thead>\n",
       "    <tr style=\"text-align: right;\">\n",
       "      <th></th>\n",
       "      <th>journal</th>\n",
       "      <th>doi</th>\n",
       "      <th>verbatim</th>\n",
       "      <th>odds</th>\n",
       "      <th>dataSourceId</th>\n",
       "      <th>taxonId</th>\n",
       "      <th>classificationPath</th>\n",
       "      <th>classificationRank</th>\n",
       "      <th>matchType</th>\n",
       "    </tr>\n",
       "  </thead>\n",
       "  <tbody>\n",
       "    <tr>\n",
       "      <th>0</th>\n",
       "      <td>jnatprod</td>\n",
       "      <td>np100762s_gn.txt</td>\n",
       "      <td>Mammea americana</td>\n",
       "      <td>3.691610e+07</td>\n",
       "      <td>1.0</td>\n",
       "      <td>53490549</td>\n",
       "      <td>Plantae|Tracheophyta|Magnoliopsida|Malpighiale...</td>\n",
       "      <td>kingdom|phylum|class|order|family|genus|species</td>\n",
       "      <td>ExactCanonicalMatch</td>\n",
       "    </tr>\n",
       "    <tr>\n",
       "      <th>1</th>\n",
       "      <td>jnatprod</td>\n",
       "      <td>np100762s_gn.txt</td>\n",
       "      <td>Mammea</td>\n",
       "      <td>1.110529e+04</td>\n",
       "      <td>1.0</td>\n",
       "      <td>54930310</td>\n",
       "      <td>Plantae|Tracheophyta|Magnoliopsida|Malpighiale...</td>\n",
       "      <td>kingdom|phylum|class|order|family|genus</td>\n",
       "      <td>ExactMatch</td>\n",
       "    </tr>\n",
       "    <tr>\n",
       "      <th>2</th>\n",
       "      <td>jnatprod</td>\n",
       "      <td>np100762s_gn.txt</td>\n",
       "      <td>Mammea americana</td>\n",
       "      <td>3.691610e+07</td>\n",
       "      <td>1.0</td>\n",
       "      <td>53490549</td>\n",
       "      <td>Plantae|Tracheophyta|Magnoliopsida|Malpighiale...</td>\n",
       "      <td>kingdom|phylum|class|order|family|genus|species</td>\n",
       "      <td>ExactCanonicalMatch</td>\n",
       "    </tr>\n",
       "    <tr>\n",
       "      <th>3</th>\n",
       "      <td>jnatprod</td>\n",
       "      <td>np100762s_gn.txt</td>\n",
       "      <td>Mammea</td>\n",
       "      <td>1.110529e+04</td>\n",
       "      <td>1.0</td>\n",
       "      <td>54930310</td>\n",
       "      <td>Plantae|Tracheophyta|Magnoliopsida|Malpighiale...</td>\n",
       "      <td>kingdom|phylum|class|order|family|genus</td>\n",
       "      <td>ExactMatch</td>\n",
       "    </tr>\n",
       "    <tr>\n",
       "      <th>4</th>\n",
       "      <td>jnatprod</td>\n",
       "      <td>np100762s_gn.txt</td>\n",
       "      <td>Mammea</td>\n",
       "      <td>1.110529e+04</td>\n",
       "      <td>1.0</td>\n",
       "      <td>54930310</td>\n",
       "      <td>Plantae|Tracheophyta|Magnoliopsida|Malpighiale...</td>\n",
       "      <td>kingdom|phylum|class|order|family|genus</td>\n",
       "      <td>ExactMatch</td>\n",
       "    </tr>\n",
       "  </tbody>\n",
       "</table>\n",
       "</div>"
      ],
      "text/plain": [
       "    journal               doi          verbatim          odds  dataSourceId  \\\n",
       "0  jnatprod  np100762s_gn.txt  Mammea americana  3.691610e+07           1.0   \n",
       "1  jnatprod  np100762s_gn.txt            Mammea  1.110529e+04           1.0   \n",
       "2  jnatprod  np100762s_gn.txt  Mammea americana  3.691610e+07           1.0   \n",
       "3  jnatprod  np100762s_gn.txt            Mammea  1.110529e+04           1.0   \n",
       "4  jnatprod  np100762s_gn.txt            Mammea  1.110529e+04           1.0   \n",
       "\n",
       "    taxonId                                 classificationPath  \\\n",
       "0  53490549  Plantae|Tracheophyta|Magnoliopsida|Malpighiale...   \n",
       "1  54930310  Plantae|Tracheophyta|Magnoliopsida|Malpighiale...   \n",
       "2  53490549  Plantae|Tracheophyta|Magnoliopsida|Malpighiale...   \n",
       "3  54930310  Plantae|Tracheophyta|Magnoliopsida|Malpighiale...   \n",
       "4  54930310  Plantae|Tracheophyta|Magnoliopsida|Malpighiale...   \n",
       "\n",
       "                                classificationRank            matchType  \n",
       "0  kingdom|phylum|class|order|family|genus|species  ExactCanonicalMatch  \n",
       "1          kingdom|phylum|class|order|family|genus           ExactMatch  \n",
       "2  kingdom|phylum|class|order|family|genus|species  ExactCanonicalMatch  \n",
       "3          kingdom|phylum|class|order|family|genus           ExactMatch  \n",
       "4          kingdom|phylum|class|order|family|genus           ExactMatch  "
      ]
     },
     "execution_count": 19,
     "metadata": {},
     "output_type": "execute_result"
    }
   ],
   "source": [
    "gn_jnatprod = pd.read_csv('data/gn_dataframe_jnatprod.tsv', sep='\\t')  \n",
    "gn_metabo = pd.read_csv('data/gn_dataframe_metabo.tsv', sep='\\t')  \n",
    "gn_phytorev = pd.read_csv('data/gn_dataframe_phytorev.tsv', sep='\\t')  \n",
    "gn_qn = pd.read_csv('data/gn_dataframe_qn.tsv', sep='\\t')\n",
    "gn_chrom_a = pd.read_csv('data/gn_dataframe_chroma_a.tsv', sep='\\t')\n",
    "gn_chrom_b = pd.read_csv('data/gn_dataframe_chroma_b.tsv', sep='\\t')\n",
    "\n",
    "gn_jnatprod = pd.concat([pd.DataFrame(['jnatprod']*gn_jnatprod.shape[0], \n",
    "                                   columns=['journal']), gn_jnatprod], axis=1, sort=False)\n",
    "gn_metabo = pd.concat([pd.DataFrame(['metabo']*gn_metabo.shape[0], \n",
    "                                   columns=['journal']), gn_metabo], axis=1, sort=False)\n",
    "gn_phytorev = pd.concat([pd.DataFrame(['phytorev']*gn_phytorev.shape[0], \n",
    "                                   columns=['journal']), gn_phytorev], axis=1, sort=False)\n",
    "gn_qn = pd.concat([pd.DataFrame(['qn']*gn_qn.shape[0], \n",
    "                             columns=['journal']), gn_qn], axis=1, sort=False)\n",
    "gn_chrom_a = pd.concat([pd.DataFrame(['chrom_a']*gn_chrom_a.shape[0], \n",
    "                                  columns=['journal']), gn_chrom_a], axis=1, sort=False)\n",
    "gn_chrom_b = pd.concat([pd.DataFrame(['chrom_b']*gn_chrom_b.shape[0], \n",
    "                                  columns=['journal']), gn_chrom_b], axis=1, sort=False)\n",
    "\n",
    "\n",
    "dfnms = pd.concat([gn_jnatprod, gn_metabo,\n",
    "                gn_phytorev, gn_qn,\n",
    "                gn_chrom_a, gn_chrom_b])\n",
    "dfnms.reset_index(drop=True, inplace=True)\n",
    "dfnms.head()"
   ]
  },
  {
   "cell_type": "code",
   "execution_count": 20,
   "metadata": {},
   "outputs": [
    {
     "data": {
      "text/plain": [
       "(699909, 9)"
      ]
     },
     "execution_count": 20,
     "metadata": {},
     "output_type": "execute_result"
    }
   ],
   "source": [
    "dfnms.shape"
   ]
  },
  {
   "cell_type": "code",
   "execution_count": 21,
   "metadata": {},
   "outputs": [
    {
     "data": {
      "text/plain": [
       "152525"
      ]
     },
     "execution_count": 21,
     "metadata": {},
     "output_type": "execute_result"
    }
   ],
   "source": [
    "# Total occurencies of taxon\n",
    "dfnms.fillna('', inplace=True)\n",
    "sum(dfnms['taxonId']=='')"
   ]
  },
  {
   "cell_type": "code",
   "execution_count": 22,
   "metadata": {},
   "outputs": [
    {
     "data": {
      "text/plain": [
       "152510"
      ]
     },
     "execution_count": 22,
     "metadata": {},
     "output_type": "execute_result"
    }
   ],
   "source": [
    "# Number of no matches\n",
    "sum(dfnms['matchType']=='NoMatch')"
   ]
  },
  {
   "cell_type": "code",
   "execution_count": 23,
   "metadata": {},
   "outputs": [
    {
     "data": {
      "text/plain": [
       "array(['ExactCanonicalMatch', 'ExactMatch', 'ExactPartialMatch',\n",
       "       'FuzzyCanonicalMatch', 'NoMatch', 'FuzzyPartialMatch'],\n",
       "      dtype=object)"
      ]
     },
     "execution_count": 23,
     "metadata": {},
     "output_type": "execute_result"
    }
   ],
   "source": [
    "# Match types\n",
    "dfnms['matchType'].unique()"
   ]
  },
  {
   "cell_type": "code",
   "execution_count": 24,
   "metadata": {},
   "outputs": [
    {
     "data": {
      "text/plain": [
       "42597"
      ]
     },
     "execution_count": 24,
     "metadata": {},
     "output_type": "execute_result"
    }
   ],
   "source": [
    "# Number dois present in the search\n",
    "len(dfnms['doi'].unique())"
   ]
  },
  {
   "cell_type": "code",
   "execution_count": 25,
   "metadata": {},
   "outputs": [
    {
     "data": {
      "text/plain": [
       "49907"
      ]
     },
     "execution_count": 25,
     "metadata": {},
     "output_type": "execute_result"
    }
   ],
   "source": [
    "# Number of unique taxon\n",
    "len(dfnms.loc[dfnms['matchType']!='NoMatch','taxonId'].unique())"
   ]
  },
  {
   "cell_type": "code",
   "execution_count": 26,
   "metadata": {},
   "outputs": [
    {
     "data": {
      "text/html": [
       "<div>\n",
       "<style scoped>\n",
       "    .dataframe tbody tr th:only-of-type {\n",
       "        vertical-align: middle;\n",
       "    }\n",
       "\n",
       "    .dataframe tbody tr th {\n",
       "        vertical-align: top;\n",
       "    }\n",
       "\n",
       "    .dataframe thead th {\n",
       "        text-align: right;\n",
       "    }\n",
       "</style>\n",
       "<table border=\"1\" class=\"dataframe\">\n",
       "  <thead>\n",
       "    <tr style=\"text-align: right;\">\n",
       "      <th></th>\n",
       "      <th>classification</th>\n",
       "      <th>Rank</th>\n",
       "    </tr>\n",
       "  </thead>\n",
       "  <tbody>\n",
       "    <tr>\n",
       "      <th>0</th>\n",
       "      <td>Mammea americana</td>\n",
       "      <td>species</td>\n",
       "    </tr>\n",
       "    <tr>\n",
       "      <th>1</th>\n",
       "      <td>Mammea</td>\n",
       "      <td>genus</td>\n",
       "    </tr>\n",
       "    <tr>\n",
       "      <th>2</th>\n",
       "      <td>Mammea americana</td>\n",
       "      <td>species</td>\n",
       "    </tr>\n",
       "    <tr>\n",
       "      <th>3</th>\n",
       "      <td>Mammea</td>\n",
       "      <td>genus</td>\n",
       "    </tr>\n",
       "    <tr>\n",
       "      <th>4</th>\n",
       "      <td>Mammea</td>\n",
       "      <td>genus</td>\n",
       "    </tr>\n",
       "  </tbody>\n",
       "</table>\n",
       "</div>"
      ],
      "text/plain": [
       "     classification     Rank\n",
       "0  Mammea americana  species\n",
       "1            Mammea    genus\n",
       "2  Mammea americana  species\n",
       "3            Mammea    genus\n",
       "4            Mammea    genus"
      ]
     },
     "execution_count": 26,
     "metadata": {},
     "output_type": "execute_result"
    }
   ],
   "source": [
    "dfnms['classification'] = dfnms['classificationPath'].apply(lambda a: a.split('|')[-1])\n",
    "dfnms['Rank'] = dfnms['classificationRank'].apply(lambda a: a.split('|')[-1])\n",
    "dfnms[['classification', 'Rank']].head()"
   ]
  },
  {
   "cell_type": "code",
   "execution_count": 27,
   "metadata": {},
   "outputs": [
    {
     "data": {
      "text/plain": [
       "Escherichia coli         4199\n",
       "Staphylococcus aureus    2947\n",
       "Candida albicans         1698\n",
       "Bacillus subtilis        1651\n",
       "Catharanthus roseus      1518\n",
       "Name: classification, dtype: int64"
      ]
     },
     "execution_count": 27,
     "metadata": {},
     "output_type": "execute_result"
    }
   ],
   "source": [
    "dfnms.loc[dfnms['Rank']=='species', 'classification'].value_counts().head()"
   ]
  },
  {
   "cell_type": "code",
   "execution_count": 28,
   "metadata": {},
   "outputs": [
    {
     "data": {
      "text/html": [
       "<div>\n",
       "<style scoped>\n",
       "    .dataframe tbody tr th:only-of-type {\n",
       "        vertical-align: middle;\n",
       "    }\n",
       "\n",
       "    .dataframe tbody tr th {\n",
       "        vertical-align: top;\n",
       "    }\n",
       "\n",
       "    .dataframe thead tr th {\n",
       "        text-align: left;\n",
       "    }\n",
       "\n",
       "    .dataframe thead tr:last-of-type th {\n",
       "        text-align: right;\n",
       "    }\n",
       "</style>\n",
       "<table border=\"1\" class=\"dataframe\">\n",
       "  <thead>\n",
       "    <tr>\n",
       "      <th></th>\n",
       "      <th>doi</th>\n",
       "      <th>classification</th>\n",
       "    </tr>\n",
       "    <tr>\n",
       "      <th></th>\n",
       "      <th>nunique</th>\n",
       "      <th>nunique</th>\n",
       "    </tr>\n",
       "    <tr>\n",
       "      <th>journal</th>\n",
       "      <th></th>\n",
       "      <th></th>\n",
       "    </tr>\n",
       "  </thead>\n",
       "  <tbody>\n",
       "    <tr>\n",
       "      <th>chrom_a</th>\n",
       "      <td>1991</td>\n",
       "      <td>2901</td>\n",
       "    </tr>\n",
       "    <tr>\n",
       "      <th>chrom_b</th>\n",
       "      <td>3039</td>\n",
       "      <td>2962</td>\n",
       "    </tr>\n",
       "    <tr>\n",
       "      <th>jnatprod</th>\n",
       "      <td>12385</td>\n",
       "      <td>13265</td>\n",
       "    </tr>\n",
       "    <tr>\n",
       "      <th>metabo</th>\n",
       "      <td>737</td>\n",
       "      <td>1563</td>\n",
       "    </tr>\n",
       "    <tr>\n",
       "      <th>phytorev</th>\n",
       "      <td>752</td>\n",
       "      <td>8596</td>\n",
       "    </tr>\n",
       "    <tr>\n",
       "      <th>qn</th>\n",
       "      <td>1612</td>\n",
       "      <td>3541</td>\n",
       "    </tr>\n",
       "  </tbody>\n",
       "</table>\n",
       "</div>"
      ],
      "text/plain": [
       "             doi classification\n",
       "         nunique        nunique\n",
       "journal                        \n",
       "chrom_a     1991           2901\n",
       "chrom_b     3039           2962\n",
       "jnatprod   12385          13265\n",
       "metabo       737           1563\n",
       "phytorev     752           8596\n",
       "qn          1612           3541"
      ]
     },
     "execution_count": 28,
     "metadata": {},
     "output_type": "execute_result"
    }
   ],
   "source": [
    "dfnms[dfnms['Rank']=='species'].groupby(['journal'])[['doi', 'classification']].agg(['nunique'])"
   ]
  },
  {
   "cell_type": "code",
   "execution_count": 29,
   "metadata": {},
   "outputs": [
    {
     "data": {
      "text/plain": [
       "21526"
      ]
     },
     "execution_count": 29,
     "metadata": {},
     "output_type": "execute_result"
    }
   ],
   "source": [
    "len(dfnms.loc[dfnms['Rank']=='species', 'classification'].unique())"
   ]
  },
  {
   "cell_type": "code",
   "execution_count": 30,
   "metadata": {},
   "outputs": [
    {
     "data": {
      "text/html": [
       "<div>\n",
       "<style scoped>\n",
       "    .dataframe tbody tr th:only-of-type {\n",
       "        vertical-align: middle;\n",
       "    }\n",
       "\n",
       "    .dataframe tbody tr th {\n",
       "        vertical-align: top;\n",
       "    }\n",
       "\n",
       "    .dataframe thead tr th {\n",
       "        text-align: left;\n",
       "    }\n",
       "\n",
       "    .dataframe thead tr:last-of-type th {\n",
       "        text-align: right;\n",
       "    }\n",
       "</style>\n",
       "<table border=\"1\" class=\"dataframe\">\n",
       "  <thead>\n",
       "    <tr>\n",
       "      <th></th>\n",
       "      <th>doi</th>\n",
       "      <th>classification</th>\n",
       "    </tr>\n",
       "    <tr>\n",
       "      <th></th>\n",
       "      <th>nunique</th>\n",
       "      <th>nunique</th>\n",
       "    </tr>\n",
       "    <tr>\n",
       "      <th>journal</th>\n",
       "      <th></th>\n",
       "      <th></th>\n",
       "    </tr>\n",
       "  </thead>\n",
       "  <tbody>\n",
       "    <tr>\n",
       "      <th>chrom_a</th>\n",
       "      <td>280</td>\n",
       "      <td>160</td>\n",
       "    </tr>\n",
       "    <tr>\n",
       "      <th>chrom_b</th>\n",
       "      <td>459</td>\n",
       "      <td>217</td>\n",
       "    </tr>\n",
       "    <tr>\n",
       "      <th>jnatprod</th>\n",
       "      <td>7945</td>\n",
       "      <td>842</td>\n",
       "    </tr>\n",
       "    <tr>\n",
       "      <th>metabo</th>\n",
       "      <td>143</td>\n",
       "      <td>117</td>\n",
       "    </tr>\n",
       "    <tr>\n",
       "      <th>phytorev</th>\n",
       "      <td>523</td>\n",
       "      <td>549</td>\n",
       "    </tr>\n",
       "    <tr>\n",
       "      <th>qn</th>\n",
       "      <td>629</td>\n",
       "      <td>295</td>\n",
       "    </tr>\n",
       "  </tbody>\n",
       "</table>\n",
       "</div>"
      ],
      "text/plain": [
       "             doi classification\n",
       "         nunique        nunique\n",
       "journal                        \n",
       "chrom_a      280            160\n",
       "chrom_b      459            217\n",
       "jnatprod    7945            842\n",
       "metabo       143            117\n",
       "phytorev     523            549\n",
       "qn           629            295"
      ]
     },
     "execution_count": 30,
     "metadata": {},
     "output_type": "execute_result"
    }
   ],
   "source": [
    "dfnms[dfnms['Rank']=='family'].groupby(['journal'])[['doi', 'classification']].agg(['nunique'])"
   ]
  },
  {
   "cell_type": "code",
   "execution_count": 31,
   "metadata": {},
   "outputs": [
    {
     "data": {
      "text/plain": [
       "1153"
      ]
     },
     "execution_count": 31,
     "metadata": {},
     "output_type": "execute_result"
    }
   ],
   "source": [
    "len(dfnms.loc[dfnms['Rank']=='family', 'classification'].unique())"
   ]
  },
  {
   "cell_type": "code",
   "execution_count": 32,
   "metadata": {},
   "outputs": [
    {
     "data": {
      "text/plain": [
       "[4199, 2947, 1698, 1651, 1518]"
      ]
     },
     "execution_count": 32,
     "metadata": {},
     "output_type": "execute_result"
    }
   ],
   "source": [
    "name = dfnms.loc[dfnms['Rank']=='species', 'classification'].value_counts().head().index.tolist()\n",
    "val = dfnms.loc[dfnms['Rank']=='species', 'classification'].value_counts().head().values.tolist()\n",
    "\n",
    "val"
   ]
  },
  {
   "cell_type": "code",
   "execution_count": 33,
   "metadata": {},
   "outputs": [
    {
     "data": {
      "text/plain": [
       "([<matplotlib.patches.Wedge at 0x7f0a29338668>,\n",
       "  <matplotlib.patches.Wedge at 0x7f0a29338b70>,\n",
       "  <matplotlib.patches.Wedge at 0x7f0a2a341048>,\n",
       "  <matplotlib.patches.Wedge at 0x7f0a2a3414e0>,\n",
       "  <matplotlib.patches.Wedge at 0x7f0a2a341978>],\n",
       " [Text(0.5008115710591806, 0.9793813201676023, 'Escherichia coli'),\n",
       "  Text(-1.0832579886034621, 0.19118611384402787, 'Staphylococcus aureus'),\n",
       "  Text(-0.5567953619470039, -0.9486721904400408, 'Candida albicans'),\n",
       "  Text(0.3720893192614984, -1.0351567700070916, 'Bacillus subtilis'),\n",
       "  Text(1.014455550941672, -0.42529981796801747, 'Catharanthus roseus')])"
      ]
     },
     "execution_count": 33,
     "metadata": {},
     "output_type": "execute_result"
    },
    {
     "data": {
      "image/png": "[encoded data removed]",
      "text/plain": [
       "<Figure size 432x288 with 1 Axes>"
      ]
     },
     "metadata": {},
     "output_type": "display_data"
    }
   ],
   "source": [
    "plt.pie(val, labels=name)"
   ]
  },
  {
   "cell_type": "code",
   "execution_count": 34,
   "metadata": {},
   "outputs": [],
   "source": [
    "plt.pie(val, labels=name)\n",
    "with PdfPages('pie_chart.pdf') as pdf:\n",
    "    pdf.savefig()  # saves the current figure into a pdf page\n",
    "    plt.close()"
   ]
  },
  {
   "cell_type": "code",
   "execution_count": 35,
   "metadata": {},
   "outputs": [
    {
     "data": {
      "text/plain": [
       "Index(['journal', 'doi', 'verbatim', 'odds', 'dataSourceId', 'taxonId',\n",
       "       'classificationPath', 'classificationRank', 'matchType',\n",
       "       'classification', 'Rank'],\n",
       "      dtype='object')"
      ]
     },
     "execution_count": 35,
     "metadata": {},
     "output_type": "execute_result"
    }
   ],
   "source": [
    "dfnms.columns"
   ]
  },
  {
   "cell_type": "code",
   "execution_count": 36,
   "metadata": {},
   "outputs": [],
   "source": [
    "template = dfnms.loc[0, 'classificationRank'].split('|')\n",
    "\n",
    "path = []\n",
    "\n",
    "for i in dfnms.index:\n",
    "    tmp = ['']*len(template) \n",
    "    if pd.isnull(dfnms.loc[i, 'classificationRank']):\n",
    "        path.append(tmp)\n",
    "        continue\n",
    "    opath = np.array(dfnms.loc[i, 'classificationPath'].split('|'))\n",
    "    rank = np.array(dfnms.loc[i, 'classificationRank'].split('|'))  \n",
    "    for j in range(len(template)):\n",
    "        if template[j] in rank:\n",
    "            tmp[j] = opath[rank==template[j]][0]\n",
    "    path.append(tmp)"
   ]
  },
  {
   "cell_type": "code",
   "execution_count": 37,
   "metadata": {},
   "outputs": [
    {
     "data": {
      "text/html": [
       "<div>\n",
       "<style scoped>\n",
       "    .dataframe tbody tr th:only-of-type {\n",
       "        vertical-align: middle;\n",
       "    }\n",
       "\n",
       "    .dataframe tbody tr th {\n",
       "        vertical-align: top;\n",
       "    }\n",
       "\n",
       "    .dataframe thead th {\n",
       "        text-align: right;\n",
       "    }\n",
       "</style>\n",
       "<table border=\"1\" class=\"dataframe\">\n",
       "  <thead>\n",
       "    <tr style=\"text-align: right;\">\n",
       "      <th></th>\n",
       "      <th>kingdom</th>\n",
       "      <th>phylum</th>\n",
       "      <th>class</th>\n",
       "      <th>order</th>\n",
       "      <th>family</th>\n",
       "      <th>genus</th>\n",
       "      <th>species</th>\n",
       "    </tr>\n",
       "  </thead>\n",
       "  <tbody>\n",
       "    <tr>\n",
       "      <th>0</th>\n",
       "      <td>Plantae</td>\n",
       "      <td>Tracheophyta</td>\n",
       "      <td>Magnoliopsida</td>\n",
       "      <td>Malpighiales</td>\n",
       "      <td>Calophyllaceae</td>\n",
       "      <td>Mammea</td>\n",
       "      <td>Mammea americana</td>\n",
       "    </tr>\n",
       "    <tr>\n",
       "      <th>1</th>\n",
       "      <td>Plantae</td>\n",
       "      <td>Tracheophyta</td>\n",
       "      <td>Magnoliopsida</td>\n",
       "      <td>Malpighiales</td>\n",
       "      <td>Calophyllaceae</td>\n",
       "      <td>Mammea</td>\n",
       "      <td></td>\n",
       "    </tr>\n",
       "    <tr>\n",
       "      <th>2</th>\n",
       "      <td>Plantae</td>\n",
       "      <td>Tracheophyta</td>\n",
       "      <td>Magnoliopsida</td>\n",
       "      <td>Malpighiales</td>\n",
       "      <td>Calophyllaceae</td>\n",
       "      <td>Mammea</td>\n",
       "      <td>Mammea americana</td>\n",
       "    </tr>\n",
       "    <tr>\n",
       "      <th>3</th>\n",
       "      <td>Plantae</td>\n",
       "      <td>Tracheophyta</td>\n",
       "      <td>Magnoliopsida</td>\n",
       "      <td>Malpighiales</td>\n",
       "      <td>Calophyllaceae</td>\n",
       "      <td>Mammea</td>\n",
       "      <td></td>\n",
       "    </tr>\n",
       "    <tr>\n",
       "      <th>4</th>\n",
       "      <td>Plantae</td>\n",
       "      <td>Tracheophyta</td>\n",
       "      <td>Magnoliopsida</td>\n",
       "      <td>Malpighiales</td>\n",
       "      <td>Calophyllaceae</td>\n",
       "      <td>Mammea</td>\n",
       "      <td></td>\n",
       "    </tr>\n",
       "  </tbody>\n",
       "</table>\n",
       "</div>"
      ],
      "text/plain": [
       "   kingdom        phylum          class         order          family   genus  \\\n",
       "0  Plantae  Tracheophyta  Magnoliopsida  Malpighiales  Calophyllaceae  Mammea   \n",
       "1  Plantae  Tracheophyta  Magnoliopsida  Malpighiales  Calophyllaceae  Mammea   \n",
       "2  Plantae  Tracheophyta  Magnoliopsida  Malpighiales  Calophyllaceae  Mammea   \n",
       "3  Plantae  Tracheophyta  Magnoliopsida  Malpighiales  Calophyllaceae  Mammea   \n",
       "4  Plantae  Tracheophyta  Magnoliopsida  Malpighiales  Calophyllaceae  Mammea   \n",
       "\n",
       "            species  \n",
       "0  Mammea americana  \n",
       "1                    \n",
       "2  Mammea americana  \n",
       "3                    \n",
       "4                    "
      ]
     },
     "execution_count": 37,
     "metadata": {},
     "output_type": "execute_result"
    }
   ],
   "source": [
    "dfpath = pd.DataFrame(path)\n",
    "dfpath.columns = template\n",
    "dfpath.head()"
   ]
  },
  {
   "cell_type": "code",
   "execution_count": 38,
   "metadata": {},
   "outputs": [
    {
     "data": {
      "text/plain": [
       "(699909, 7)"
      ]
     },
     "execution_count": 38,
     "metadata": {},
     "output_type": "execute_result"
    }
   ],
   "source": [
    "dfpath.shape"
   ]
  },
  {
   "cell_type": "code",
   "execution_count": 39,
   "metadata": {},
   "outputs": [],
   "source": [
    "journals = {'jnatprod': 'Journal Natural Products', 'metabo':'Metabolomics',\n",
    "           'phytorev': 'Phytochemistry Reviews', 'qn': 'Química Nova',\n",
    "           'chrom_a': 'Journal of Chromatography A', 'chrom_b': 'Journal of Chromatography B'}\n",
    "\n",
    "with PdfPages('genus_by_journal.pdf') as pdf:\n",
    "    for k,v in journals.items():\n",
    "        if k=='qn':\n",
    "            pie_vals = dfpath.loc[dfnms['journal']==k,'genus'].value_counts()[2:11]\n",
    "        else:\n",
    "            pie_vals = dfpath.loc[dfnms['journal']==k,'genus'].value_counts()[1:11]            \n",
    "        plt.pie(pie_vals.values, labels=pie_vals.index, autopct='%1.1f%%')\n",
    "        plt.title(v)\n",
    "        pdf.savefig()\n",
    "        plt.close()"
   ]
  },
  {
   "cell_type": "code",
   "execution_count": 40,
   "metadata": {},
   "outputs": [
    {
     "data": {
      "text/plain": [
       "Figura              45456\n",
       "                    32521\n",
       "Mater                4239\n",
       "Vieira               1405\n",
       "Soares               1033\n",
       "                    ...  \n",
       "Thyrinteina             1\n",
       "Saraswati               1\n",
       "Fervidobacterium        1\n",
       "Fomitopsis              1\n",
       "Massilia                1\n",
       "Name: genus, Length: 4503, dtype: int64"
      ]
     },
     "execution_count": 40,
     "metadata": {},
     "output_type": "execute_result"
    }
   ],
   "source": [
    "dfpath.loc[dfnms['journal']=='qn','genus'].value_counts()"
   ]
  },
  {
   "cell_type": "code",
   "execution_count": 41,
   "metadata": {},
   "outputs": [
    {
     "data": {
      "text/html": [
       "<div>\n",
       "<style scoped>\n",
       "    .dataframe tbody tr th:only-of-type {\n",
       "        vertical-align: middle;\n",
       "    }\n",
       "\n",
       "    .dataframe tbody tr th {\n",
       "        vertical-align: top;\n",
       "    }\n",
       "\n",
       "    .dataframe thead th {\n",
       "        text-align: right;\n",
       "    }\n",
       "</style>\n",
       "<table border=\"1\" class=\"dataframe\">\n",
       "  <thead>\n",
       "    <tr style=\"text-align: right;\">\n",
       "      <th></th>\n",
       "      <th>kingdom</th>\n",
       "      <th>phylum</th>\n",
       "      <th>class</th>\n",
       "      <th>order</th>\n",
       "      <th>family</th>\n",
       "      <th>genus</th>\n",
       "      <th>species</th>\n",
       "    </tr>\n",
       "  </thead>\n",
       "  <tbody>\n",
       "    <tr>\n",
       "      <th>300356</th>\n",
       "      <td></td>\n",
       "      <td>Arthropoda</td>\n",
       "      <td>Insecta</td>\n",
       "      <td>Hymenoptera</td>\n",
       "      <td>Vespidae</td>\n",
       "      <td>Caba</td>\n",
       "      <td></td>\n",
       "    </tr>\n",
       "    <tr>\n",
       "      <th>300357</th>\n",
       "      <td></td>\n",
       "      <td>Arthropoda</td>\n",
       "      <td>Insecta</td>\n",
       "      <td>Hymenoptera</td>\n",
       "      <td>Vespidae</td>\n",
       "      <td>Caba</td>\n",
       "      <td></td>\n",
       "    </tr>\n",
       "    <tr>\n",
       "      <th>300358</th>\n",
       "      <td></td>\n",
       "      <td>Arthropoda</td>\n",
       "      <td>Insecta</td>\n",
       "      <td>Hymenoptera</td>\n",
       "      <td>Vespidae</td>\n",
       "      <td>Caba</td>\n",
       "      <td></td>\n",
       "    </tr>\n",
       "    <tr>\n",
       "      <th>300361</th>\n",
       "      <td></td>\n",
       "      <td>Arthropoda</td>\n",
       "      <td>Insecta</td>\n",
       "      <td>Hymenoptera</td>\n",
       "      <td>Vespidae</td>\n",
       "      <td>Caba</td>\n",
       "      <td></td>\n",
       "    </tr>\n",
       "    <tr>\n",
       "      <th>300364</th>\n",
       "      <td></td>\n",
       "      <td>Arthropoda</td>\n",
       "      <td>Insecta</td>\n",
       "      <td>Hymenoptera</td>\n",
       "      <td>Vespidae</td>\n",
       "      <td>Caba</td>\n",
       "      <td></td>\n",
       "    </tr>\n",
       "  </tbody>\n",
       "</table>\n",
       "</div>"
      ],
      "text/plain": [
       "       kingdom      phylum    class        order    family genus species\n",
       "300356          Arthropoda  Insecta  Hymenoptera  Vespidae  Caba        \n",
       "300357          Arthropoda  Insecta  Hymenoptera  Vespidae  Caba        \n",
       "300358          Arthropoda  Insecta  Hymenoptera  Vespidae  Caba        \n",
       "300361          Arthropoda  Insecta  Hymenoptera  Vespidae  Caba        \n",
       "300364          Arthropoda  Insecta  Hymenoptera  Vespidae  Caba        "
      ]
     },
     "execution_count": 41,
     "metadata": {},
     "output_type": "execute_result"
    }
   ],
   "source": [
    " dfpath[(dfnms['journal']=='metabo') & (dfpath['genus']=='Caba')].tail()"
   ]
  },
  {
   "cell_type": "code",
   "execution_count": 42,
   "metadata": {},
   "outputs": [],
   "source": [
    "with PdfPages('species_by_journal.pdf') as pdf:\n",
    "    for k,v in journals.items():\n",
    "        pie_vals = dfpath.loc[dfnms['journal']==k,'species'].value_counts()[1:11]            \n",
    "        plt.pie(pie_vals.values, labels=pie_vals.index, autopct='%1.1f%%')\n",
    "        plt.title(v)\n",
    "        pdf.savefig()\n",
    "        plt.close()"
   ]
  },
  {
   "cell_type": "code",
   "execution_count": 43,
   "metadata": {},
   "outputs": [
    {
     "data": {
      "text/plain": [
       "                  326786\n",
       "Plantae           185307\n",
       "Animalia          103081\n",
       "Bacteria           40115\n",
       "Fungi              37861\n",
       "Chromista           3048\n",
       "Protista            1229\n",
       "Metazoa              876\n",
       "Protozoa             557\n",
       "Viridiplantae        537\n",
       "Archaea              510\n",
       "Archaeplastida         1\n",
       "Chlorobiota            1\n",
       "Name: kingdom, dtype: int64"
      ]
     },
     "execution_count": 43,
     "metadata": {},
     "output_type": "execute_result"
    }
   ],
   "source": [
    "dfpath['kingdom'].value_counts()"
   ]
  },
  {
   "cell_type": "code",
   "execution_count": 44,
   "metadata": {},
   "outputs": [
    {
     "data": {
      "text/plain": [
       "Escherichia       5040\n",
       "Streptomyces      4476\n",
       "Staphylococcus    3838\n",
       "Pseudomonas       2820\n",
       "Bacillus          2696\n",
       "                  ... \n",
       "Brachymonas          1\n",
       "Sulfurovum           1\n",
       "Idiomarina           1\n",
       "Planobispora         1\n",
       "Spirochaeta          1\n",
       "Name: genus, Length: 563, dtype: int64"
      ]
     },
     "execution_count": 44,
     "metadata": {},
     "output_type": "execute_result"
    }
   ],
   "source": [
    "dfpath.loc[dfpath['kingdom']=='Bacteria', 'genus'].value_counts()"
   ]
  },
  {
   "cell_type": "code",
   "execution_count": 45,
   "metadata": {},
   "outputs": [
    {
     "data": {
      "text/plain": [
       "{'Arabidopsis': 5294,\n",
       " 'Catharanthus': 2041,\n",
       " 'Salvia': 1943,\n",
       " 'Osaka': 3326,\n",
       " 'Vieira': 1986,\n",
       " 'Ikeda': 1890,\n",
       " 'Escherichia': 5040,\n",
       " 'Streptomyces': 4476,\n",
       " 'Aspergillus': 3941,\n",
       " 'Candida': 2996,\n",
       " 'Fusarium': 1916,\n",
       " 'Staphylococcus': 3838,\n",
       " 'Sulfolobus': 57,\n",
       " 'Halobacterium': 44,\n",
       " 'Methanobacterium': 28}"
      ]
     },
     "execution_count": 45,
     "metadata": {},
     "output_type": "execute_result"
    }
   ],
   "source": [
    "sizes = {'Arabidopsis':5294, 'Catharanthus':2041, 'Salvia':1943, 'Osaka': 3326,\n",
    "        'Vieira': 1986, 'Ikeda': 1890, 'Escherichia': 5040, 'Streptomyces': 4476,\n",
    "         'Aspergillus': 3941, 'Candida': 2996, 'Fusarium': 1916,\n",
    "        'Staphylococcus': 3838, 'Sulfolobus': 57, 'Halobacterium': 44,\n",
    "        'Methanobacterium':  28}\n",
    "sizes"
   ]
  },
  {
   "cell_type": "code",
   "execution_count": 46,
   "metadata": {},
   "outputs": [
    {
     "data": {
      "image/png": "[encoded data removed]",
      "text/plain": [
       "<Figure size 432x288 with 1 Axes>"
      ]
     },
     "metadata": {
      "needs_background": "light"
     },
     "output_type": "display_data"
    }
   ],
   "source": [
    "x = np.arange(1, len(sizes)+1)*100\n",
    "y = range(len(sizes))\n",
    "\n",
    "labels = []\n",
    "for k,v in sizes.items():\n",
    "    labels.append(f'{k}:{v}')\n",
    "\n",
    "\n",
    "plt.xlim(-100, 1600)\n",
    "plt.ylim(-5, 15)\n",
    "plt.scatter(x, y, s=list(sizes.values()), alpha=0.5)\n",
    "for label, i, j in zip(labels, x, y):\n",
    "    plt.annotate(label, xy = (i, j))"
   ]
  },
  {
   "cell_type": "code",
   "execution_count": 47,
   "metadata": {},
   "outputs": [],
   "source": [
    "x = np.arange(1, len(sizes)+1)*100\n",
    "y = range(len(sizes))\n",
    "\n",
    "labels = []\n",
    "for k,v in sizes.items():\n",
    "    labels.append(f'{k}:{v}')\n",
    "\n",
    "\n",
    "with PdfPages('proportion_genus.pdf') as pdf:\n",
    "    plt.xlim(-100, 1600)\n",
    "    plt.ylim(-5, 15)\n",
    "    plt.scatter(x, y, s=list(sizes.values()), alpha=0.5)\n",
    "    for label, i, j in zip(labels, x, y):\n",
    "        plt.annotate(label, xy = (i, j))\n",
    "    pdf.savefig()\n",
    "    plt.close()"
   ]
  },
  {
   "cell_type": "code",
   "execution_count": null,
   "metadata": {},
   "outputs": [],
   "source": []
  }
 ],
 "metadata": {
  "kernelspec": {
   "display_name": "Python 3",
   "language": "python",
   "name": "python3"
  },
  "language_info": {
   "codemirror_mode": {
    "name": "ipython",
    "version": 3
   },
   "file_extension": ".py",
   "mimetype": "text/x-python",
   "name": "python",
   "nbconvert_exporter": "python",
   "pygments_lexer": "ipython3",
   "version": "3.6.10"
  }
 },
 "nbformat": 4,
 "nbformat_minor": 4
}
