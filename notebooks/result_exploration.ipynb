{
 "cells": [
  {
   "cell_type": "code",
   "execution_count": 1,
   "metadata": {},
   "outputs": [],
   "source": [
    "import pandas as pd"
   ]
  },
  {
   "cell_type": "code",
   "execution_count": 3,
   "metadata": {},
   "outputs": [
    {
     "data": {
      "text/html": [
       "<div>\n",
       "<style scoped>\n",
       "    .dataframe tbody tr th:only-of-type {\n",
       "        vertical-align: middle;\n",
       "    }\n",
       "\n",
       "    .dataframe tbody tr th {\n",
       "        vertical-align: top;\n",
       "    }\n",
       "\n",
       "    .dataframe thead th {\n",
       "        text-align: right;\n",
       "    }\n",
       "</style>\n",
       "<table border=\"1\" class=\"dataframe\">\n",
       "  <thead>\n",
       "    <tr style=\"text-align: right;\">\n",
       "      <th></th>\n",
       "      <th>name</th>\n",
       "      <th>standardInChI</th>\n",
       "      <th>standardInChIKey</th>\n",
       "      <th>doi</th>\n",
       "      <th>ExactMolWt</th>\n",
       "      <th>pubchem</th>\n",
       "    </tr>\n",
       "  </thead>\n",
       "  <tbody>\n",
       "    <tr>\n",
       "      <th>0</th>\n",
       "      <td>EtOAc</td>\n",
       "      <td>InChI=1S/C4H8O2/c1-3-6-4(2)5/h3H2,1-2H3</td>\n",
       "      <td>XEKOWRVHYACXOJ-UHFFFAOYSA-N</td>\n",
       "      <td>np50112a006</td>\n",
       "      <td>88.052429</td>\n",
       "      <td>8857.0</td>\n",
       "    </tr>\n",
       "    <tr>\n",
       "      <th>1</th>\n",
       "      <td>hydroxyl</td>\n",
       "      <td>InChI=1S/HO/h1H</td>\n",
       "      <td>TUJKJAMUKRIRHC-UHFFFAOYSA-N</td>\n",
       "      <td>np50112a006</td>\n",
       "      <td>17.002740</td>\n",
       "      <td>157350.0</td>\n",
       "    </tr>\n",
       "    <tr>\n",
       "      <th>2</th>\n",
       "      <td>3-nitrobenzyl alcohol</td>\n",
       "      <td>InChI=1S/C7H7NO3/c9-5-6-2-1-3-7(4-6)8(10)11/h1...</td>\n",
       "      <td>CWNPOQFCIIFQDM-UHFFFAOYSA-N</td>\n",
       "      <td>np50112a006</td>\n",
       "      <td>153.042593</td>\n",
       "      <td>69267.0</td>\n",
       "    </tr>\n",
       "    <tr>\n",
       "      <th>3</th>\n",
       "      <td>peroxide</td>\n",
       "      <td>InChI=1S/O2/c1-2/q-2</td>\n",
       "      <td>ANAIPYUSIMHBEL-UHFFFAOYSA-N</td>\n",
       "      <td>np50112a006</td>\n",
       "      <td>31.990926</td>\n",
       "      <td>14774.0</td>\n",
       "    </tr>\n",
       "    <tr>\n",
       "      <th>4</th>\n",
       "      <td>hexane</td>\n",
       "      <td>InChI=1S/C6H14/c1-3-5-6-4-2/h3-6H2,1-2H3</td>\n",
       "      <td>VLKZOEOYAKHREP-UHFFFAOYSA-N</td>\n",
       "      <td>np50112a006</td>\n",
       "      <td>86.109550</td>\n",
       "      <td>8058.0</td>\n",
       "    </tr>\n",
       "  </tbody>\n",
       "</table>\n",
       "</div>"
      ],
      "text/plain": [
       "                    name                                      standardInChI  \\\n",
       "0                  EtOAc            InChI=1S/C4H8O2/c1-3-6-4(2)5/h3H2,1-2H3   \n",
       "1               hydroxyl                                    InChI=1S/HO/h1H   \n",
       "2  3-nitrobenzyl alcohol  InChI=1S/C7H7NO3/c9-5-6-2-1-3-7(4-6)8(10)11/h1...   \n",
       "3               peroxide                               InChI=1S/O2/c1-2/q-2   \n",
       "4                 hexane           InChI=1S/C6H14/c1-3-5-6-4-2/h3-6H2,1-2H3   \n",
       "\n",
       "              standardInChIKey          doi  ExactMolWt   pubchem  \n",
       "0  XEKOWRVHYACXOJ-UHFFFAOYSA-N  np50112a006   88.052429    8857.0  \n",
       "1  TUJKJAMUKRIRHC-UHFFFAOYSA-N  np50112a006   17.002740  157350.0  \n",
       "2  CWNPOQFCIIFQDM-UHFFFAOYSA-N  np50112a006  153.042593   69267.0  \n",
       "3  ANAIPYUSIMHBEL-UHFFFAOYSA-N  np50112a006   31.990926   14774.0  \n",
       "4  VLKZOEOYAKHREP-UHFFFAOYSA-N  np50112a006   86.109550    8058.0  "
      ]
     },
     "execution_count": 3,
     "metadata": {},
     "output_type": "execute_result"
    }
   ],
   "source": [
    "dfoscar = pd.read_csv('data/entities_dataframe.tsv', sep='\\t')\n",
    "dfoscar.head()"
   ]
  },
  {
   "cell_type": "code",
   "execution_count": 5,
   "metadata": {},
   "outputs": [
    {
     "data": {
      "text/plain": [
       "(272278, 6)"
      ]
     },
     "execution_count": 5,
     "metadata": {},
     "output_type": "execute_result"
    }
   ],
   "source": [
    "dfoscar.shape"
   ]
  },
  {
   "cell_type": "code",
   "execution_count": 7,
   "metadata": {},
   "outputs": [
    {
     "data": {
      "text/plain": [
       "20247"
      ]
     },
     "execution_count": 7,
     "metadata": {},
     "output_type": "execute_result"
    }
   ],
   "source": [
    "# Number of unique compounds\n",
    "len(dfoscar['standardInChIKey'].unique())"
   ]
  },
  {
   "cell_type": "code",
   "execution_count": 9,
   "metadata": {},
   "outputs": [
    {
     "data": {
      "text/plain": [
       "np50008a001    375\n",
       "np020375t      220\n",
       "np50003a001    203\n",
       "np300468h      203\n",
       "np300753z      189\n",
       "              ... \n",
       "np50083a027      1\n",
       "np9907331        1\n",
       "np960301f        1\n",
       "np50017a012      1\n",
       "np200131z        1\n",
       "Name: doi, Length: 12026, dtype: int64"
      ]
     },
     "execution_count": 9,
     "metadata": {},
     "output_type": "execute_result"
    }
   ],
   "source": [
    "# Number of structures by paper\n",
    "dfoscar['doi'].value_counts()"
   ]
  },
  {
   "cell_type": "code",
   "execution_count": 11,
   "metadata": {},
   "outputs": [
    {
     "data": {
      "text/plain": [
       "OKKJLVBELUTLKV-UHFFFAOYSA-N    12446\n",
       "XLYOFNOQVPJJNP-UHFFFAOYSA-N    10399\n",
       "OKTJSMMVPCPJKN-UHFFFAOYSA-N     8655\n",
       "XEKOWRVHYACXOJ-UHFFFAOYSA-N     7192\n",
       "WCYWZMWISLQXQU-UHFFFAOYSA-N     6721\n",
       "                               ...  \n",
       "MQWFUXLINLYLIU-UHFFFAOYSA-N        1\n",
       "SSJXIUAHEKJCMH-UHFFFAOYSA-N        1\n",
       "MEVHTHLQPUQANE-UHFFFAOYSA-N        1\n",
       "CCTFAOUOYLVUFG-UHFFFAOYSA-N        1\n",
       "SZPBBJRIWVZYKW-UHFFFAOYSA-N        1\n",
       "Name: standardInChIKey, Length: 20247, dtype: int64"
      ]
     },
     "execution_count": 11,
     "metadata": {},
     "output_type": "execute_result"
    }
   ],
   "source": [
    "# Number of occurencies of each compound\n",
    "dfoscar['standardInChIKey'].value_counts()"
   ]
  },
  {
   "cell_type": "code",
   "execution_count": 12,
   "metadata": {},
   "outputs": [
    {
     "data": {
      "text/html": [
       "<div>\n",
       "<style scoped>\n",
       "    .dataframe tbody tr th:only-of-type {\n",
       "        vertical-align: middle;\n",
       "    }\n",
       "\n",
       "    .dataframe tbody tr th {\n",
       "        vertical-align: top;\n",
       "    }\n",
       "\n",
       "    .dataframe thead th {\n",
       "        text-align: right;\n",
       "    }\n",
       "</style>\n",
       "<table border=\"1\" class=\"dataframe\">\n",
       "  <thead>\n",
       "    <tr style=\"text-align: right;\">\n",
       "      <th></th>\n",
       "      <th>doi</th>\n",
       "      <th>verbatim</th>\n",
       "      <th>odds</th>\n",
       "      <th>dataSourceId</th>\n",
       "      <th>taxonId</th>\n",
       "      <th>classificationPath</th>\n",
       "      <th>classificationRank</th>\n",
       "      <th>matchType</th>\n",
       "    </tr>\n",
       "  </thead>\n",
       "  <tbody>\n",
       "    <tr>\n",
       "      <th>0</th>\n",
       "      <td>np960477h</td>\n",
       "      <td>Nuphar</td>\n",
       "      <td>852.070419</td>\n",
       "      <td>1.0</td>\n",
       "      <td>54956720</td>\n",
       "      <td>Plantae|Tracheophyta|Magnoliopsida|Nymphaeales...</td>\n",
       "      <td>kingdom|phylum|class|order|family|genus</td>\n",
       "      <td>ExactMatch</td>\n",
       "    </tr>\n",
       "    <tr>\n",
       "      <th>1</th>\n",
       "      <td>np960477h</td>\n",
       "      <td>Haplosclerid</td>\n",
       "      <td>488.154263</td>\n",
       "      <td>NaN</td>\n",
       "      <td>NaN</td>\n",
       "      <td>NaN</td>\n",
       "      <td>NaN</td>\n",
       "      <td>NoMatch</td>\n",
       "    </tr>\n",
       "    <tr>\n",
       "      <th>2</th>\n",
       "      <td>np50085a015</td>\n",
       "      <td>HIANS</td>\n",
       "      <td>611.963223</td>\n",
       "      <td>181.0</td>\n",
       "      <td>1124007</td>\n",
       "      <td>Biota|Animalia|Chordata|Vertebrata|Aves|Aves|A...</td>\n",
       "      <td>|Kingdom|phylum|subphylum|class|order|family|g...</td>\n",
       "      <td>ExactCanonicalMatch</td>\n",
       "    </tr>\n",
       "    <tr>\n",
       "      <th>3</th>\n",
       "      <td>np50085a015</td>\n",
       "      <td>Salvia hians</td>\n",
       "      <td>1117.437577</td>\n",
       "      <td>1.0</td>\n",
       "      <td>43131252</td>\n",
       "      <td>Plantae|Tracheophyta|Magnoliopsida|Lamiales|La...</td>\n",
       "      <td>kingdom|phylum|class|order|family|genus|species</td>\n",
       "      <td>ExactCanonicalMatch</td>\n",
       "    </tr>\n",
       "    <tr>\n",
       "      <th>4</th>\n",
       "      <td>np50085a015</td>\n",
       "      <td>Salvia hians</td>\n",
       "      <td>1117.437577</td>\n",
       "      <td>1.0</td>\n",
       "      <td>43131252</td>\n",
       "      <td>Plantae|Tracheophyta|Magnoliopsida|Lamiales|La...</td>\n",
       "      <td>kingdom|phylum|class|order|family|genus|species</td>\n",
       "      <td>ExactCanonicalMatch</td>\n",
       "    </tr>\n",
       "  </tbody>\n",
       "</table>\n",
       "</div>"
      ],
      "text/plain": [
       "           doi      verbatim         odds  dataSourceId   taxonId  \\\n",
       "0    np960477h        Nuphar   852.070419           1.0  54956720   \n",
       "1    np960477h  Haplosclerid   488.154263           NaN       NaN   \n",
       "2  np50085a015         HIANS   611.963223         181.0   1124007   \n",
       "3  np50085a015  Salvia hians  1117.437577           1.0  43131252   \n",
       "4  np50085a015  Salvia hians  1117.437577           1.0  43131252   \n",
       "\n",
       "                                  classificationPath  \\\n",
       "0  Plantae|Tracheophyta|Magnoliopsida|Nymphaeales...   \n",
       "1                                                NaN   \n",
       "2  Biota|Animalia|Chordata|Vertebrata|Aves|Aves|A...   \n",
       "3  Plantae|Tracheophyta|Magnoliopsida|Lamiales|La...   \n",
       "4  Plantae|Tracheophyta|Magnoliopsida|Lamiales|La...   \n",
       "\n",
       "                                  classificationRank            matchType  \n",
       "0            kingdom|phylum|class|order|family|genus           ExactMatch  \n",
       "1                                                NaN              NoMatch  \n",
       "2  |Kingdom|phylum|subphylum|class|order|family|g...  ExactCanonicalMatch  \n",
       "3    kingdom|phylum|class|order|family|genus|species  ExactCanonicalMatch  \n",
       "4    kingdom|phylum|class|order|family|genus|species  ExactCanonicalMatch  "
      ]
     },
     "execution_count": 12,
     "metadata": {},
     "output_type": "execute_result"
    }
   ],
   "source": [
    "dfnms = pd.read_csv('data/gn_dataframe.tsv', sep='\\t')\n",
    "dfnms.head()"
   ]
  },
  {
   "cell_type": "code",
   "execution_count": 15,
   "metadata": {},
   "outputs": [
    {
     "data": {
      "text/plain": [
       "(270318, 8)"
      ]
     },
     "execution_count": 15,
     "metadata": {},
     "output_type": "execute_result"
    }
   ],
   "source": [
    "dfnms.shape"
   ]
  },
  {
   "cell_type": "code",
   "execution_count": 13,
   "metadata": {},
   "outputs": [
    {
     "data": {
      "text/plain": [
       "70058"
      ]
     },
     "execution_count": 13,
     "metadata": {},
     "output_type": "execute_result"
    }
   ],
   "source": [
    "# Total occurencies of taxon\n",
    "dfnms.fillna('', inplace=True)\n",
    "sum(dfnms['taxonId']=='')"
   ]
  },
  {
   "cell_type": "code",
   "execution_count": 14,
   "metadata": {},
   "outputs": [
    {
     "data": {
      "text/plain": [
       "70045"
      ]
     },
     "execution_count": 14,
     "metadata": {},
     "output_type": "execute_result"
    }
   ],
   "source": [
    "# Number of no matches\n",
    "sum(dfnms['matchType']=='NoMatch')"
   ]
  },
  {
   "cell_type": "code",
   "execution_count": 16,
   "metadata": {},
   "outputs": [
    {
     "data": {
      "text/plain": [
       "array(['ExactMatch', 'NoMatch', 'ExactCanonicalMatch',\n",
       "       'ExactPartialMatch', 'FuzzyCanonicalMatch', 'FuzzyPartialMatch'],\n",
       "      dtype=object)"
      ]
     },
     "execution_count": 16,
     "metadata": {},
     "output_type": "execute_result"
    }
   ],
   "source": [
    "# Match types\n",
    "dfnms['matchType'].unique()"
   ]
  },
  {
   "cell_type": "code",
   "execution_count": 17,
   "metadata": {},
   "outputs": [
    {
     "data": {
      "text/plain": [
       "14162"
      ]
     },
     "execution_count": 17,
     "metadata": {},
     "output_type": "execute_result"
    }
   ],
   "source": [
    "# Number dois present in the search\n",
    "len(dfnms['doi'].unique())"
   ]
  },
  {
   "cell_type": "code",
   "execution_count": 18,
   "metadata": {},
   "outputs": [
    {
     "data": {
      "text/plain": [
       "25926"
      ]
     },
     "execution_count": 18,
     "metadata": {},
     "output_type": "execute_result"
    }
   ],
   "source": [
    "# Number of unique taxon\n",
    "len(dfnms.loc[dfnms['matchType']!='NoMatch','taxonId'].unique())"
   ]
  },
  {
   "cell_type": "code",
   "execution_count": 19,
   "metadata": {},
   "outputs": [
    {
     "data": {
      "text/html": [
       "<div>\n",
       "<style scoped>\n",
       "    .dataframe tbody tr th:only-of-type {\n",
       "        vertical-align: middle;\n",
       "    }\n",
       "\n",
       "    .dataframe tbody tr th {\n",
       "        vertical-align: top;\n",
       "    }\n",
       "\n",
       "    .dataframe thead th {\n",
       "        text-align: right;\n",
       "    }\n",
       "</style>\n",
       "<table border=\"1\" class=\"dataframe\">\n",
       "  <thead>\n",
       "    <tr style=\"text-align: right;\">\n",
       "      <th></th>\n",
       "      <th>doi</th>\n",
       "      <th>smiles</th>\n",
       "      <th>standardInChIKey</th>\n",
       "      <th>ExactMolWt</th>\n",
       "      <th>pubchem</th>\n",
       "    </tr>\n",
       "  </thead>\n",
       "  <tbody>\n",
       "    <tr>\n",
       "      <th>0</th>\n",
       "      <td>np9600863</td>\n",
       "      <td>COC(C12C[C@@H](C(=C1C(OC(=O)c1ccccc1)*(C1([C](...</td>\n",
       "      <td>NaN</td>\n",
       "      <td>0.000000</td>\n",
       "      <td>NaN</td>\n",
       "    </tr>\n",
       "    <tr>\n",
       "      <th>1</th>\n",
       "      <td>np020261h</td>\n",
       "      <td>*[C@H]1CC[C@]2([C@H](C1)[C@@H](O)C[C@@H]1[C@@H...</td>\n",
       "      <td>NaN</td>\n",
       "      <td>396.266445</td>\n",
       "      <td>NaN</td>\n",
       "    </tr>\n",
       "    <tr>\n",
       "      <th>2</th>\n",
       "      <td>np960673o</td>\n",
       "      <td>CN1C=C(NC1NC1NC(=O)N(C1=O)C)Cc1ccc2c(c1)OCO2</td>\n",
       "      <td>NNNDHHGBLRKSDP-UHFFFAOYSA-N</td>\n",
       "      <td>345.143704</td>\n",
       "      <td>NaN</td>\n",
       "    </tr>\n",
       "    <tr>\n",
       "      <th>3</th>\n",
       "      <td>np960673o</td>\n",
       "      <td>COc1ccc(cc1)Cc1nc(n(c1Cc1ccc(c(c1*)C)O)C)/N=C/...</td>\n",
       "      <td>NaN</td>\n",
       "      <td>446.182829</td>\n",
       "      <td>NaN</td>\n",
       "    </tr>\n",
       "    <tr>\n",
       "      <th>4</th>\n",
       "      <td>np960673o</td>\n",
       "      <td>C/N=C/1\\N=C(C(=O)*1)/*=c/1\\[nH]c(c(n1C)Cc1ccc(...</td>\n",
       "      <td>NaN</td>\n",
       "      <td>0.000000</td>\n",
       "      <td>NaN</td>\n",
       "    </tr>\n",
       "  </tbody>\n",
       "</table>\n",
       "</div>"
      ],
      "text/plain": [
       "         doi                                             smiles  \\\n",
       "0  np9600863  COC(C12C[C@@H](C(=C1C(OC(=O)c1ccccc1)*(C1([C](...   \n",
       "1  np020261h  *[C@H]1CC[C@]2([C@H](C1)[C@@H](O)C[C@@H]1[C@@H...   \n",
       "2  np960673o       CN1C=C(NC1NC1NC(=O)N(C1=O)C)Cc1ccc2c(c1)OCO2   \n",
       "3  np960673o  COc1ccc(cc1)Cc1nc(n(c1Cc1ccc(c(c1*)C)O)C)/N=C/...   \n",
       "4  np960673o  C/N=C/1\\N=C(C(=O)*1)/*=c/1\\[nH]c(c(n1C)Cc1ccc(...   \n",
       "\n",
       "              standardInChIKey  ExactMolWt  pubchem  \n",
       "0                          NaN    0.000000      NaN  \n",
       "1                          NaN  396.266445      NaN  \n",
       "2  NNNDHHGBLRKSDP-UHFFFAOYSA-N  345.143704      NaN  \n",
       "3                          NaN  446.182829      NaN  \n",
       "4                          NaN    0.000000      NaN  "
      ]
     },
     "execution_count": 19,
     "metadata": {},
     "output_type": "execute_result"
    }
   ],
   "source": [
    "dfimg = pd.read_csv('data/img_dataframe.tsv', sep='\\t')\n",
    "dfimg.head()"
   ]
  },
  {
   "cell_type": "code",
   "execution_count": 20,
   "metadata": {},
   "outputs": [
    {
     "data": {
      "text/plain": [
       "26181"
      ]
     },
     "execution_count": 20,
     "metadata": {},
     "output_type": "execute_result"
    }
   ],
   "source": [
    "# Number of InChIKey\n",
    "dfimg.fillna('', inplace=True)\n",
    "sum(dfimg['standardInChIKey']!='')"
   ]
  },
  {
   "cell_type": "code",
   "execution_count": 21,
   "metadata": {},
   "outputs": [
    {
     "data": {
      "text/plain": [
       "22437"
      ]
     },
     "execution_count": 21,
     "metadata": {},
     "output_type": "execute_result"
    }
   ],
   "source": [
    "# Number of unique InChIKey\n",
    "len(dfimg.loc[dfimg['standardInChIKey']!='', 'standardInChIKey'].unique())"
   ]
  },
  {
   "cell_type": "code",
   "execution_count": 22,
   "metadata": {},
   "outputs": [
    {
     "data": {
      "text/plain": [
       "5618"
      ]
     },
     "execution_count": 22,
     "metadata": {},
     "output_type": "execute_result"
    }
   ],
   "source": [
    "# Number of dois represented\n",
    "len(dfimg.loc[dfimg['standardInChIKey']!='', 'doi'].unique())"
   ]
  },
  {
   "cell_type": "code",
   "execution_count": null,
   "metadata": {},
   "outputs": [],
   "source": []
  }
 ],
 "metadata": {
  "kernelspec": {
   "display_name": "nplibrary",
   "language": "python",
   "name": "nplibrary"
  },
  "language_info": {
   "codemirror_mode": {
    "name": "ipython",
    "version": 3
   },
   "file_extension": ".py",
   "mimetype": "text/x-python",
   "name": "python",
   "nbconvert_exporter": "python",
   "pygments_lexer": "ipython3",
   "version": "3.8.1"
  }
 },
 "nbformat": 4,
 "nbformat_minor": 4
}
