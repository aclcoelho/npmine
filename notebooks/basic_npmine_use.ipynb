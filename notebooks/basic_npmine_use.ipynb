{
 "cells": [
  {
   "cell_type": "code",
   "execution_count": 1,
   "metadata": {},
   "outputs": [
    {
     "name": "stdout",
     "output_type": "stream",
     "text": [
      "Archive:  doi_quim.zip\r\n",
      "  inflating: doi_quim.json           \r\n"
     ]
    }
   ],
   "source": [
    "# uncompress the json file\n",
    "#!unzip data/doi_quim.zip -d data/\n",
    "!unzip doi_quim.zip\n",
    "\n",
    "import json\n",
    "\n",
    "# Load the file, so you don't need to generate it\n",
    "# every time\n",
    "with open('doi_quim.json', 'r') as inputfile:\n",
    "    doi = json.load(inputfile)"
   ]
  },
  {
   "cell_type": "code",
   "execution_count": 2,
   "metadata": {},
   "outputs": [
    {
     "data": {
      "text/plain": [
       "8124"
      ]
     },
     "execution_count": 2,
     "metadata": {},
     "output_type": "execute_result"
    }
   ],
   "source": [
    "len(doi)"
   ]
  },
  {
   "cell_type": "code",
   "execution_count": 3,
   "metadata": {},
   "outputs": [
    {
     "data": {
      "text/plain": [
       "['http://quimicanova.sbq.org.br/audiencia_pdf.asp?aid2=15&nomeArquivo=v37n2a15.pdf',\n",
       " 'http://quimicanova.sbq.org.br/audiencia_pdf.asp?aid2=15&nomeArquivo=v37n2a15-Supl01.pdf',\n",
       " 'http://quimicanova.sbq.org.br/audiencia_pdf.asp?aid2=16&nomeArquivo=v37n2a16.pdf']"
      ]
     },
     "execution_count": 3,
     "metadata": {},
     "output_type": "execute_result"
    }
   ],
   "source": [
    "urls = ['http://quimicanova.sbq.org.br/audiencia_pdf.asp?aid2=15&nomeArquivo=v37n2a15.pdf',\n",
    "        'http://quimicanova.sbq.org.br/audiencia_pdf.asp?aid2=15&nomeArquivo=v37n2a15-Supl01.pdf',\n",
    "        'http://quimicanova.sbq.org.br/audiencia_pdf.asp?aid2=16&nomeArquivo=v37n2a16.pdf']\n",
    "\n",
    "urls"
   ]
  },
  {
   "cell_type": "code",
   "execution_count": 4,
   "metadata": {},
   "outputs": [],
   "source": [
    "# Separating the download\n",
    "# from entity retrieval\n",
    "# is more efficient\n",
    "\n",
    "from npmine.retrieve_chemical_entities import download_pdf\n",
    "\n",
    "for url in urls[:1]:\n",
    "    d = url.split('=')[-1]\n",
    "    if '.pdf' in d:\n",
    "        download_pdf(url, d)\n",
    "    else:\n",
    "        download_pdf(url, '%s.pdf' % d)"
   ]
  },
  {
   "cell_type": "code",
   "execution_count": 5,
   "metadata": {},
   "outputs": [
    {
     "name": "stdout",
     "output_type": "stream",
     "text": [
      "v37n2a15.pdf\r\n"
     ]
    }
   ],
   "source": [
    "!ls v37*.pdf"
   ]
  },
  {
   "cell_type": "code",
   "execution_count": 6,
   "metadata": {},
   "outputs": [
    {
     "name": "stdout",
     "output_type": "stream",
     "text": [
      "v37n2a15.pdf  v37n2a15_gn.txt\r\n"
     ]
    }
   ],
   "source": [
    "import os\n",
    "\n",
    "# inspect example files\n",
    "if not os.path.exists('pdfs'):\n",
    "    os.mkdir('pdfs')\n",
    "    \n",
    "!mv v37*.pdf pdfs\n",
    "!ls pdfs"
   ]
  },
  {
   "cell_type": "code",
   "execution_count": 7,
   "metadata": {},
   "outputs": [],
   "source": [
    "# Test for a small number of files\n",
    "from npmine.retrieve_chemical_entities import retrieve_chemical_entities\n",
    "\n",
    "chemical_entities = [retrieve_chemical_entities(os.path.join('pdfs', f)) \n",
    "                                                for f in os.listdir('pdfs') if '.pdf' in f]\n",
    "\n",
    "with open(\"entities.json\", \"w+\") as f:\n",
    "    json.dump(chemical_entities, f)"
   ]
  },
  {
   "cell_type": "code",
   "execution_count": 8,
   "metadata": {},
   "outputs": [
    {
     "data": {
      "text/plain": [
       "[{'pdfs/v37n2a15': {'oscar': [{'md5Sum': '4ee277015c3e3578394885d302f0b06b',\n",
       "     'chemicalData': {'pentacosane': {'name': 'pentacosane',\n",
       "       'standardInChI': 'InChI=1S/C25H52/c1-3-5-7-9-11-13-15-17-19-21-23-25-24-22-20-18-16-14-12-10-8-6-4-2/h3-25H2,1-2H3',\n",
       "       'standardInChIKey': 'YKNWIILGEFFOPE-UHFFFAOYSA-N'},\n",
       "      'acetone': {'name': 'acetone',\n",
       "       'standardInChI': 'InChI=1S/C3H6O/c1-3(2)4/h1-2H3',\n",
       "       'standardInChIKey': 'CSCPPACGZOOCGX-UHFFFAOYSA-N'},\n",
       "      'Hexacosane': {'name': 'Hexacosane',\n",
       "       'standardInChI': 'InChI=1S/C26H54/c1-3-5-7-9-11-13-15-17-19-21-23-25-26-24-22-20-18-16-14-12-10-8-6-4-2/h3-26H2,1-2H3',\n",
       "       'standardInChIKey': 'HMSWAIKSFDFLKN-UHFFFAOYSA-N'},\n",
       "      'CO2': {'name': 'CO2',\n",
       "       'standardInChI': 'InChI=1S/CO2/c2-1-3',\n",
       "       'standardInChIKey': 'CURLTUGMZLYLDI-UHFFFAOYSA-N'},\n",
       "      'Pentacosane': {'name': 'Pentacosane',\n",
       "       'standardInChI': 'InChI=1S/C25H52/c1-3-5-7-9-11-13-15-17-19-21-23-25-24-22-20-18-16-14-12-10-8-6-4-2/h3-25H2,1-2H3',\n",
       "       'standardInChIKey': 'YKNWIILGEFFOPE-UHFFFAOYSA-N'},\n",
       "      'Nonacosane': {'name': 'Nonacosane',\n",
       "       'standardInChI': 'InChI=1S/C29H60/c1-3-5-7-9-11-13-15-17-19-21-23-25-27-29-28-26-24-22-20-18-16-14-12-10-8-6-4-2/h3-29H2,1-2H3',\n",
       "       'standardInChIKey': 'IGGUPRCHHJZPBS-UHFFFAOYSA-N'},\n",
       "      'hydrogen': {'name': 'hydrogen',\n",
       "       'standardInChI': 'InChI=1S/H2/h1H',\n",
       "       'standardInChIKey': 'UFHFLCQGNIYNRP-UHFFFAOYSA-N'},\n",
       "      'Palmitic acid': {'name': 'Palmitic acid',\n",
       "       'standardInChI': 'InChI=1S/C16H32O2/c1-2-3-4-5-6-7-8-9-10-11-12-13-14-15-16(17)18/h2-15H2,1H3,(H,17,18)',\n",
       "       'standardInChIKey': 'IPCSVZSSVZVIGE-UHFFFAOYSA-N'},\n",
       "      'ethanol': {'name': 'ethanol',\n",
       "       'standardInChI': 'InChI=1S/C2H6O/c1-2-3/h3H,2H2,1H3',\n",
       "       'standardInChIKey': 'LFQSCWFLJHTTHZ-UHFFFAOYSA-N'},\n",
       "      'isoeugenol': {'name': 'isoeugenol',\n",
       "       'standardInChI': 'InChI=1S/C10H12O2/c1-3-4-8-5-6-9(11)10(7-8)12-2/h3-7,11H,1-2H3',\n",
       "       'standardInChIKey': 'BJIOGJUNALELMI-UHFFFAOYSA-N'},\n",
       "      'hentriacontane': {'name': 'hentriacontane',\n",
       "       'standardInChI': 'InChI=1S/C31H64/c1-3-5-7-9-11-13-15-17-19-21-23-25-27-29-31-30-28-26-24-22-20-18-16-14-12-10-8-6-4-2/h3-31H2,1-2H3',\n",
       "       'standardInChIKey': 'IUJAMGNYPWYUPM-UHFFFAOYSA-N'},\n",
       "      'Sitosterol': {'name': 'Sitosterol',\n",
       "       'standardInChI': 'InChI=1S/C29H50O/c1-7-21(19(2)3)9-8-20(4)25-12-13-26-24-11-10-22-18-23(30)14-16-28(22,5)27(24)15-17-29(25,26)6/h10,19-21,23-27,30H,7-9,11-18H2,1-6H3/t20-,21-,23+,24+,25-,26+,27+,28+,29-/m1/s1',\n",
       "       'standardInChIKey': 'KZJWDPNRJALLNS-VJSFXXLFSA-N'},\n",
       "      'Heptacosane': {'name': 'Heptacosane',\n",
       "       'standardInChI': 'InChI=1S/C27H56/c1-3-5-7-9-11-13-15-17-19-21-23-25-27-26-24-22-20-18-16-14-12-10-8-6-4-2/h3-27H2,1-2H3',\n",
       "       'standardInChIKey': 'BJQWYEJQWHSSCJ-UHFFFAOYSA-N'},\n",
       "      'Oleic acid': {'name': 'Oleic acid',\n",
       "       'standardInChI': 'InChI=1S/C18H34O2/c1-2-3-4-5-6-7-8-9-10-11-12-13-14-15-16-17-18(19)20/h9-10H,2-8,11-17H2,1H3,(H,19,20)/b10-9-',\n",
       "       'standardInChIKey': 'ZQPPMHVWECSIRJ-KTKRTIGZSA-N'},\n",
       "      '9,12-Octadecadienoic acid': {'name': '9,12-Octadecadienoic acid',\n",
       "       'standardInChI': 'InChI=1S/C18H32O2/c1-2-3-4-5-6-7-8-9-10-11-12-13-14-15-16-17-18(19)20/h6-7,9-10H,2-5,8,11-17H2,1H3,(H,19,20)',\n",
       "       'standardInChIKey': 'OYHQOLUKZRVURQ-UHFFFAOYSA-N'},\n",
       "      'hexane acetone ethanol': {'name': 'hexane acetone ethanol',\n",
       "       'standardInChI': 'InChI=1S/C6H14.C3H6O.C2H6O/c1-3-5-6-4-2;1-3(2)4;1-2-3/h3-6H2,1-2H3;1-2H3;3H,2H2,1H3',\n",
       "       'standardInChIKey': 'SVHVEORJPVYLCT-UHFFFAOYSA-N'},\n",
       "      'CDCl3': {'name': 'CDCl3',\n",
       "       'standardInChI': 'InChI=1S/CHCl3/c2-1(3)4/h1H/i1D',\n",
       "       'standardInChIKey': 'HEDRZPFGACZZDS-MICDWDOJSA-N'},\n",
       "      'methyl': {'name': 'methyl',\n",
       "       'standardInChI': 'InChI=1S/CH3/h1H3',\n",
       "       'standardInChIKey': 'WCYWZMWISLQXQU-UHFFFAOYSA-N'},\n",
       "      'nonacosane': {'name': 'nonacosane',\n",
       "       'standardInChI': 'InChI=1S/C29H60/c1-3-5-7-9-11-13-15-17-19-21-23-25-27-29-28-26-24-22-20-18-16-14-12-10-8-6-4-2/h3-29H2,1-2H3',\n",
       "       'standardInChIKey': 'IGGUPRCHHJZPBS-UHFFFAOYSA-N'},\n",
       "      'triacontane': {'name': 'triacontane',\n",
       "       'standardInChI': 'InChI=1S/C30H62/c1-3-5-7-9-11-13-15-17-19-21-23-25-27-29-30-28-26-24-22-20-18-16-14-12-10-8-6-4-2/h3-30H2,1-2H3',\n",
       "       'standardInChIKey': 'JXTPJDDICSTXJX-UHFFFAOYSA-N'},\n",
       "      'carbon dioxide': {'name': 'carbon dioxide',\n",
       "       'standardInChI': 'InChI=1S/CO2/c2-1-3',\n",
       "       'standardInChIKey': 'CURLTUGMZLYLDI-UHFFFAOYSA-N'},\n",
       "      'hexane': {'name': 'hexane',\n",
       "       'standardInChI': 'InChI=1S/C6H14/c1-3-5-6-4-2/h3-6H2,1-2H3',\n",
       "       'standardInChIKey': 'VLKZOEOYAKHREP-UHFFFAOYSA-N'},\n",
       "      'furan': {'name': 'furan',\n",
       "       'standardInChI': 'InChI=1S/C4H4O/c1-2-4-5-3-1/h1-4H',\n",
       "       'standardInChIKey': 'YLQBMQCUIZJEEH-UHFFFAOYSA-N'},\n",
       "      'H2O': {'name': 'H2O',\n",
       "       'standardInChI': 'InChI=1S/H2O/h1H2',\n",
       "       'standardInChIKey': 'XLYOFNOQVPJJNP-UHFFFAOYSA-N'},\n",
       "      'n-hexane': {'name': 'n-hexane',\n",
       "       'standardInChI': 'InChI=1S/C6H14/c1-3-5-6-4-2/h3-6H2,1-2H3',\n",
       "       'standardInChIKey': 'VLKZOEOYAKHREP-UHFFFAOYSA-N'},\n",
       "      'octacosane': {'name': 'octacosane',\n",
       "       'standardInChI': 'InChI=1S/C28H58/c1-3-5-7-9-11-13-15-17-19-21-23-25-27-28-26-24-22-20-18-16-14-12-10-8-6-4-2/h3-28H2,1-2H3',\n",
       "       'standardInChIKey': 'ZYURHZPYMFLWSH-UHFFFAOYSA-N'},\n",
       "      'heptacosane': {'name': 'heptacosane',\n",
       "       'standardInChI': 'InChI=1S/C27H56/c1-3-5-7-9-11-13-15-17-19-21-23-25-27-26-24-22-20-18-16-14-12-10-8-6-4-2/h3-27H2,1-2H3',\n",
       "       'standardInChIKey': 'BJQWYEJQWHSSCJ-UHFFFAOYSA-N'},\n",
       "      'Hentriacontane': {'name': 'Hentriacontane',\n",
       "       'standardInChI': 'InChI=1S/C31H64/c1-3-5-7-9-11-13-15-17-19-21-23-25-27-29-31-30-28-26-24-22-20-18-16-14-12-10-8-6-4-2/h3-31H2,1-2H3',\n",
       "       'standardInChIKey': 'IUJAMGNYPWYUPM-UHFFFAOYSA-N'},\n",
       "      'ethyl': {'name': 'ethyl',\n",
       "       'standardInChI': 'InChI=1S/C2H5/c1-2/h1H2,2H3',\n",
       "       'standardInChIKey': 'QUPDWYMUPZLYJZ-UHFFFAOYSA-N'},\n",
       "      'ethyl oleate': {'name': 'ethyl oleate',\n",
       "       'standardInChI': 'InChI=1S/C20H38O2/c1-3-5-6-7-8-9-10-11-12-13-14-15-16-17-18-19-20(21)22-4-2/h11-12H,3-10,13-19H2,1-2H3/b12-11-',\n",
       "       'standardInChIKey': 'LVGKNOAMLMIIKO-QXMHVHEDSA-N'},\n",
       "      'Triacontane': {'name': 'Triacontane',\n",
       "       'standardInChI': 'InChI=1S/C30H62/c1-3-5-7-9-11-13-15-17-19-21-23-25-27-29-30-28-26-24-22-20-18-16-14-12-10-8-6-4-2/h3-30H2,1-2H3',\n",
       "       'standardInChIKey': 'JXTPJDDICSTXJX-UHFFFAOYSA-N'},\n",
       "      'helium': {'name': 'helium',\n",
       "       'standardInChI': 'InChI=1S/He',\n",
       "       'standardInChIKey': 'SWQJXJOGLNCZEY-UHFFFAOYSA-N'},\n",
       "      'ethyl palmitate': {'name': 'ethyl palmitate',\n",
       "       'standardInChI': 'InChI=1S/C18H36O2/c1-3-5-6-7-8-9-10-11-12-13-14-15-16-17-18(19)20-4-2/h3-17H2,1-2H3',\n",
       "       'standardInChIKey': 'XIRNKXNNONJFQO-UHFFFAOYSA-N'},\n",
       "      '9-Octadecenoic acid': {'name': '9-Octadecenoic acid',\n",
       "       'standardInChI': 'InChI=1S/C18H34O2/c1-2-3-4-5-6-7-8-9-10-11-12-13-14-15-16-17-18(19)20/h9-10H,2-8,11-17H2,1H3,(H,19,20)',\n",
       "       'standardInChIKey': 'ZQPPMHVWECSIRJ-UHFFFAOYSA-N'},\n",
       "      'Helium': {'name': 'Helium',\n",
       "       'standardInChI': 'InChI=1S/He',\n",
       "       'standardInChIKey': 'SWQJXJOGLNCZEY-UHFFFAOYSA-N'},\n",
       "      'naphthol': {'name': 'naphthol',\n",
       "       'standardInChI': 'InChI=1S/C10H8O/c11-10-7-3-5-8-4-1-2-6-9(8)10/h1-7,11H',\n",
       "       'standardInChIKey': 'KJCVRFUGPWSIIH-UHFFFAOYSA-N'},\n",
       "      'chloroform': {'name': 'chloroform',\n",
       "       'standardInChI': 'InChI=1S/CHCl3/c2-1(3)4/h1H',\n",
       "       'standardInChIKey': 'HEDRZPFGACZZDS-UHFFFAOYSA-N'},\n",
       "      'Octacosane': {'name': 'Octacosane',\n",
       "       'standardInChI': 'InChI=1S/C28H58/c1-3-5-7-9-11-13-15-17-19-21-23-25-27-28-26-24-22-20-18-16-14-12-10-8-6-4-2/h3-28H2,1-2H3',\n",
       "       'standardInChIKey': 'ZYURHZPYMFLWSH-UHFFFAOYSA-N'},\n",
       "      'MeOH': {'name': 'MeOH',\n",
       "       'standardInChI': 'InChI=1S/CH4O/c1-2/h2H,1H3',\n",
       "       'standardInChIKey': 'OKKJLVBELUTLKV-UHFFFAOYSA-N'},\n",
       "      'hexacosane': {'name': 'hexacosane',\n",
       "       'standardInChI': 'InChI=1S/C26H54/c1-3-5-7-9-11-13-15-17-19-21-23-25-26-24-22-20-18-16-14-12-10-8-6-4-2/h3-26H2,1-2H3',\n",
       "       'standardInChIKey': 'HMSWAIKSFDFLKN-UHFFFAOYSA-N'}}}]}}]"
      ]
     },
     "execution_count": 8,
     "metadata": {},
     "output_type": "execute_result"
    }
   ],
   "source": [
    "chemical_entities"
   ]
  },
  {
   "cell_type": "code",
   "execution_count": 9,
   "metadata": {},
   "outputs": [
    {
     "name": "stdout",
     "output_type": "stream",
     "text": [
      "CPU times: user 0 ns, sys: 4 ms, total: 4 ms\n",
      "Wall time: 1.29 s\n"
     ]
    }
   ],
   "source": [
    "%%time\n",
    "\n",
    "# Creates one file with scientific name for each paper\n",
    "from npmine.retrieve_scientific_name import retrieve_scientific_name, html2txt\n",
    "\n",
    "fls = os.listdir('pdfs')\n",
    "\n",
    "for f in fls:\n",
    "    if '.pdf' in f:\n",
    "        pdf = os.path.join('pdfs', f)\n",
    "        out = pdf.replace('.pdf', '_gn.txt')\n",
    "        retrieve_scientific_name(pdf, out)"
   ]
  },
  {
   "cell_type": "code",
   "execution_count": 10,
   "metadata": {},
   "outputs": [
    {
     "name": "stdout",
     "output_type": "stream",
     "text": [
      "CPU times: user 4 ms, sys: 0 ns, total: 4 ms\n",
      "Wall time: 1min 40s\n"
     ]
    }
   ],
   "source": [
    "%%time\n",
    "\n",
    "from npmine.retrieve_chemical_entities_from_image import retrieve_chemical_entities_from_image\n",
    "\n",
    "img_entities = []\n",
    "\n",
    "for f in fls:\n",
    "    if '.pdf' in f:\n",
    "        pdf = os.path.join('pdfs', f)\n",
    "        img_entities.append(retrieve_chemical_entities_from_image(pdf)) "
   ]
  },
  {
   "cell_type": "code",
   "execution_count": 11,
   "metadata": {},
   "outputs": [
    {
     "data": {
      "text/plain": [
       "[{'pdfs/v37n2a15': {'osra': ['*Oc1cc(ccc1O*)[C@]1(C)C(*)C(*)C(=O)c2c1cc(O)c(c2)O\\n',\n",
       "    '*Oc1cc(ccc1O*)[C]1[C]([C]([C]([C]2[C]1[C][C]([C]([C]2)O)O)=O)C)C\\n',\n",
       "    'COc1cc(ccc1OC)[C@H]1C(C)[C@@H](C)C(=O)c2c1cc(OC)c(c2)OC\\n',\n",
       "    'C[C@@H]1C(OC([C@@H]1C)c1ccc2c(c1)OCO2)c1ccc2c(c1)OCO2\\n',\n",
       "    'COc1cc(ccc1OC)C1OC([C@H](C1C)C)c1ccc2c(c1)OCO2\\n',\n",
       "    '*Oc1cc(ccc1O*)C1C(C)C(C)C(=O)c2c1cc1OCOc1c2\\n',\n",
       "    '*Oc1cc(ccc1O*)C1OC(C(C1C)C)c1ccc(c(c1)OC)OC\\n']}}]"
      ]
     },
     "execution_count": 11,
     "metadata": {},
     "output_type": "execute_result"
    }
   ],
   "source": [
    "img_entities"
   ]
  },
  {
   "cell_type": "code",
   "execution_count": 12,
   "metadata": {},
   "outputs": [],
   "source": [
    "with open(\"img_entities.json\", \"w+\") as f:\n",
    "    json.dump(img_entities, f)"
   ]
  },
  {
   "cell_type": "code",
   "execution_count": 13,
   "metadata": {},
   "outputs": [],
   "source": [
    "from npmine.postprocessing import entity_dict2dataframe\n",
    "\n",
    "dflist = []\n",
    "for e in chemical_entities:\n",
    "    dflist.append(entity_dict2dataframe(e))"
   ]
  },
  {
   "cell_type": "code",
   "execution_count": 14,
   "metadata": {},
   "outputs": [
    {
     "data": {
      "text/html": [
       "<div>\n",
       "<style scoped>\n",
       "    .dataframe tbody tr th:only-of-type {\n",
       "        vertical-align: middle;\n",
       "    }\n",
       "\n",
       "    .dataframe tbody tr th {\n",
       "        vertical-align: top;\n",
       "    }\n",
       "\n",
       "    .dataframe thead th {\n",
       "        text-align: right;\n",
       "    }\n",
       "</style>\n",
       "<table border=\"1\" class=\"dataframe\">\n",
       "  <thead>\n",
       "    <tr style=\"text-align: right;\">\n",
       "      <th></th>\n",
       "      <th>name</th>\n",
       "      <th>standardInChI</th>\n",
       "      <th>standardInChIKey</th>\n",
       "      <th>doi</th>\n",
       "      <th>ExactMolWt</th>\n",
       "    </tr>\n",
       "  </thead>\n",
       "  <tbody>\n",
       "    <tr>\n",
       "      <th>pentacosane</th>\n",
       "      <td>pentacosane</td>\n",
       "      <td>InChI=1S/C25H52/c1-3-5-7-9-11-13-15-17-19-21-2...</td>\n",
       "      <td>YKNWIILGEFFOPE-UHFFFAOYSA-N</td>\n",
       "      <td>pdfs/v37n2a15</td>\n",
       "      <td>352.406902</td>\n",
       "    </tr>\n",
       "    <tr>\n",
       "      <th>acetone</th>\n",
       "      <td>acetone</td>\n",
       "      <td>InChI=1S/C3H6O/c1-3(2)4/h1-2H3</td>\n",
       "      <td>CSCPPACGZOOCGX-UHFFFAOYSA-N</td>\n",
       "      <td>pdfs/v37n2a15</td>\n",
       "      <td>58.041865</td>\n",
       "    </tr>\n",
       "    <tr>\n",
       "      <th>Hexacosane</th>\n",
       "      <td>Hexacosane</td>\n",
       "      <td>InChI=1S/C26H54/c1-3-5-7-9-11-13-15-17-19-21-2...</td>\n",
       "      <td>HMSWAIKSFDFLKN-UHFFFAOYSA-N</td>\n",
       "      <td>pdfs/v37n2a15</td>\n",
       "      <td>366.422552</td>\n",
       "    </tr>\n",
       "    <tr>\n",
       "      <th>CO2</th>\n",
       "      <td>CO2</td>\n",
       "      <td>InChI=1S/CO2/c2-1-3</td>\n",
       "      <td>CURLTUGMZLYLDI-UHFFFAOYSA-N</td>\n",
       "      <td>pdfs/v37n2a15</td>\n",
       "      <td>43.989829</td>\n",
       "    </tr>\n",
       "    <tr>\n",
       "      <th>Pentacosane</th>\n",
       "      <td>Pentacosane</td>\n",
       "      <td>InChI=1S/C25H52/c1-3-5-7-9-11-13-15-17-19-21-2...</td>\n",
       "      <td>YKNWIILGEFFOPE-UHFFFAOYSA-N</td>\n",
       "      <td>pdfs/v37n2a15</td>\n",
       "      <td>352.406902</td>\n",
       "    </tr>\n",
       "  </tbody>\n",
       "</table>\n",
       "</div>"
      ],
      "text/plain": [
       "                    name                                      standardInChI  \\\n",
       "pentacosane  pentacosane  InChI=1S/C25H52/c1-3-5-7-9-11-13-15-17-19-21-2...   \n",
       "acetone          acetone                     InChI=1S/C3H6O/c1-3(2)4/h1-2H3   \n",
       "Hexacosane    Hexacosane  InChI=1S/C26H54/c1-3-5-7-9-11-13-15-17-19-21-2...   \n",
       "CO2                  CO2                                InChI=1S/CO2/c2-1-3   \n",
       "Pentacosane  Pentacosane  InChI=1S/C25H52/c1-3-5-7-9-11-13-15-17-19-21-2...   \n",
       "\n",
       "                        standardInChIKey            doi  ExactMolWt  \n",
       "pentacosane  YKNWIILGEFFOPE-UHFFFAOYSA-N  pdfs/v37n2a15  352.406902  \n",
       "acetone      CSCPPACGZOOCGX-UHFFFAOYSA-N  pdfs/v37n2a15   58.041865  \n",
       "Hexacosane   HMSWAIKSFDFLKN-UHFFFAOYSA-N  pdfs/v37n2a15  366.422552  \n",
       "CO2          CURLTUGMZLYLDI-UHFFFAOYSA-N  pdfs/v37n2a15   43.989829  \n",
       "Pentacosane  YKNWIILGEFFOPE-UHFFFAOYSA-N  pdfs/v37n2a15  352.406902  "
      ]
     },
     "execution_count": 14,
     "metadata": {},
     "output_type": "execute_result"
    }
   ],
   "source": [
    "# How result provided in data/entities_dataframe.tsv\n",
    "# was generated\n",
    "import pandas as pd\n",
    "pd.concat(dflist).head()"
   ]
  },
  {
   "cell_type": "code",
   "execution_count": 15,
   "metadata": {},
   "outputs": [],
   "source": [
    "from npmine.postprocessing import sci_name_dict2dataframe\n",
    "\n",
    "nms = []\n",
    "fls = os.listdir('pdfs/')\n",
    "for fl in fls:\n",
    "    if '_gn.txt' in fl:\n",
    "        with open(os.path.join('pdfs/', fl), encoding='utf-8') as f:\n",
    "            gn = json.load(f)\n",
    "        nms.append(sci_name_dict2dataframe(gn, fl))  \n"
   ]
  },
  {
   "cell_type": "code",
   "execution_count": 16,
   "metadata": {},
   "outputs": [
    {
     "data": {
      "text/html": [
       "<div>\n",
       "<style scoped>\n",
       "    .dataframe tbody tr th:only-of-type {\n",
       "        vertical-align: middle;\n",
       "    }\n",
       "\n",
       "    .dataframe tbody tr th {\n",
       "        vertical-align: top;\n",
       "    }\n",
       "\n",
       "    .dataframe thead th {\n",
       "        text-align: right;\n",
       "    }\n",
       "</style>\n",
       "<table border=\"1\" class=\"dataframe\">\n",
       "  <thead>\n",
       "    <tr style=\"text-align: right;\">\n",
       "      <th></th>\n",
       "      <th>doi</th>\n",
       "      <th>verbatim</th>\n",
       "      <th>odds</th>\n",
       "      <th>dataSourceId</th>\n",
       "      <th>taxonId</th>\n",
       "      <th>classificationPath</th>\n",
       "      <th>classificationRank</th>\n",
       "      <th>matchType</th>\n",
       "    </tr>\n",
       "  </thead>\n",
       "  <tbody>\n",
       "    <tr>\n",
       "      <th>0</th>\n",
       "      <td>v37n2a15_gn.txt</td>\n",
       "      <td>Holostylis reniformis:</td>\n",
       "      <td>2.526767e+11</td>\n",
       "      <td>1</td>\n",
       "      <td>1615480</td>\n",
       "      <td>Plantae|Tracheophyta|Magnoliopsida|Piperales|A...</td>\n",
       "      <td>kingdom|phylum|class|order|family|genus|species</td>\n",
       "      <td>ExactCanonicalMatch</td>\n",
       "    </tr>\n",
       "    <tr>\n",
       "      <th>1</th>\n",
       "      <td>v37n2a15_gn.txt</td>\n",
       "      <td>Lucia</td>\n",
       "      <td>7.178310e+04</td>\n",
       "      <td>1</td>\n",
       "      <td>4092258</td>\n",
       "      <td>Animalia|Arthropoda|Insecta|Lepidoptera|Papili...</td>\n",
       "      <td>kingdom|phylum|class|order|superfamily|family|...</td>\n",
       "      <td>ExactMatch</td>\n",
       "    </tr>\n",
       "    <tr>\n",
       "      <th>2</th>\n",
       "      <td>v37n2a15_gn.txt</td>\n",
       "      <td>Vieira</td>\n",
       "      <td>1.156801e+04</td>\n",
       "      <td>1</td>\n",
       "      <td>4217981</td>\n",
       "      <td>Animalia|Arthropoda|Insecta|Neuroptera|Chrysop...</td>\n",
       "      <td>kingdom|phylum|class|order|family|genus</td>\n",
       "      <td>ExactMatch</td>\n",
       "    </tr>\n",
       "    <tr>\n",
       "      <th>3</th>\n",
       "      <td>v37n2a15_gn.txt</td>\n",
       "      <td>Antoniana</td>\n",
       "      <td>5.662834e+03</td>\n",
       "      <td>165</td>\n",
       "      <td>145260271</td>\n",
       "      <td></td>\n",
       "      <td></td>\n",
       "      <td>ExactCanonicalMatch</td>\n",
       "    </tr>\n",
       "    <tr>\n",
       "      <th>4</th>\n",
       "      <td>v37n2a15_gn.txt</td>\n",
       "      <td>(Holostylis reniformis)</td>\n",
       "      <td>2.526767e+11</td>\n",
       "      <td>1</td>\n",
       "      <td>1615480</td>\n",
       "      <td>Plantae|Tracheophyta|Magnoliopsida|Piperales|A...</td>\n",
       "      <td>kingdom|phylum|class|order|family|genus|species</td>\n",
       "      <td>ExactCanonicalMatch</td>\n",
       "    </tr>\n",
       "  </tbody>\n",
       "</table>\n",
       "</div>"
      ],
      "text/plain": [
       "               doi                 verbatim          odds dataSourceId  \\\n",
       "0  v37n2a15_gn.txt   Holostylis reniformis:  2.526767e+11            1   \n",
       "1  v37n2a15_gn.txt                    Lucia  7.178310e+04            1   \n",
       "2  v37n2a15_gn.txt                   Vieira  1.156801e+04            1   \n",
       "3  v37n2a15_gn.txt                Antoniana  5.662834e+03          165   \n",
       "4  v37n2a15_gn.txt  (Holostylis reniformis)  2.526767e+11            1   \n",
       "\n",
       "     taxonId                                 classificationPath  \\\n",
       "0    1615480  Plantae|Tracheophyta|Magnoliopsida|Piperales|A...   \n",
       "1    4092258  Animalia|Arthropoda|Insecta|Lepidoptera|Papili...   \n",
       "2    4217981  Animalia|Arthropoda|Insecta|Neuroptera|Chrysop...   \n",
       "3  145260271                                                      \n",
       "4    1615480  Plantae|Tracheophyta|Magnoliopsida|Piperales|A...   \n",
       "\n",
       "                                  classificationRank            matchType  \n",
       "0    kingdom|phylum|class|order|family|genus|species  ExactCanonicalMatch  \n",
       "1  kingdom|phylum|class|order|superfamily|family|...           ExactMatch  \n",
       "2            kingdom|phylum|class|order|family|genus           ExactMatch  \n",
       "3                                                     ExactCanonicalMatch  \n",
       "4    kingdom|phylum|class|order|family|genus|species  ExactCanonicalMatch  "
      ]
     },
     "execution_count": 16,
     "metadata": {},
     "output_type": "execute_result"
    }
   ],
   "source": [
    "# How result provided in data/gn_dataframe.tsv\n",
    "# was generated\n",
    "import pandas as pd\n",
    "pd.concat(nms).head()"
   ]
  },
  {
   "cell_type": "code",
   "execution_count": 17,
   "metadata": {},
   "outputs": [],
   "source": [
    "from npmine.postprocessing import image_dict2dataframe\n",
    "\n",
    "imglist = []\n",
    "\n",
    "for img in img_entities:\n",
    "    imglist.append(image_dict2dataframe(img))"
   ]
  },
  {
   "cell_type": "code",
   "execution_count": 18,
   "metadata": {},
   "outputs": [
    {
     "data": {
      "text/html": [
       "<div>\n",
       "<style scoped>\n",
       "    .dataframe tbody tr th:only-of-type {\n",
       "        vertical-align: middle;\n",
       "    }\n",
       "\n",
       "    .dataframe tbody tr th {\n",
       "        vertical-align: top;\n",
       "    }\n",
       "\n",
       "    .dataframe thead th {\n",
       "        text-align: right;\n",
       "    }\n",
       "</style>\n",
       "<table border=\"1\" class=\"dataframe\">\n",
       "  <thead>\n",
       "    <tr style=\"text-align: right;\">\n",
       "      <th></th>\n",
       "      <th>doi</th>\n",
       "      <th>smiles</th>\n",
       "      <th>standardInChIKey</th>\n",
       "      <th>ExactMolWt</th>\n",
       "    </tr>\n",
       "  </thead>\n",
       "  <tbody>\n",
       "    <tr>\n",
       "      <th>0</th>\n",
       "      <td>pdfs/v37n2a15</td>\n",
       "      <td>*Oc1cc(ccc1O*)[C@]1(C)C(*)C(*)C(=O)c2c1cc(O)c(...</td>\n",
       "      <td>None</td>\n",
       "      <td>296.068473</td>\n",
       "    </tr>\n",
       "    <tr>\n",
       "      <th>1</th>\n",
       "      <td>pdfs/v37n2a15</td>\n",
       "      <td>*Oc1cc(ccc1O*)[C]1[C]([C]([C]([C]2[C]1[C][C]([...</td>\n",
       "      <td>None</td>\n",
       "      <td>307.060648</td>\n",
       "    </tr>\n",
       "    <tr>\n",
       "      <th>2</th>\n",
       "      <td>pdfs/v37n2a15</td>\n",
       "      <td>COc1cc(ccc1OC)[C@H]1C(C)[C@@H](C)C(=O)c2c1cc(O...</td>\n",
       "      <td>UCHGPGXURWMCBZ-IGNYMDPMSA-N</td>\n",
       "      <td>370.178024</td>\n",
       "    </tr>\n",
       "    <tr>\n",
       "      <th>3</th>\n",
       "      <td>pdfs/v37n2a15</td>\n",
       "      <td>C[C@@H]1C(OC([C@@H]1C)c1ccc2c(c1)OCO2)c1ccc2c(...</td>\n",
       "      <td>QFUXQRHAJWXPGP-WFSAKUOBSA-N</td>\n",
       "      <td>340.131074</td>\n",
       "    </tr>\n",
       "    <tr>\n",
       "      <th>4</th>\n",
       "      <td>pdfs/v37n2a15</td>\n",
       "      <td>COc1cc(ccc1OC)C1OC([C@H](C1C)C)c1ccc2c(c1)OCO2</td>\n",
       "      <td>HSMDOSKNXLVXIP-IIBNLQKXSA-N</td>\n",
       "      <td>356.162374</td>\n",
       "    </tr>\n",
       "  </tbody>\n",
       "</table>\n",
       "</div>"
      ],
      "text/plain": [
       "             doi                                             smiles  \\\n",
       "0  pdfs/v37n2a15  *Oc1cc(ccc1O*)[C@]1(C)C(*)C(*)C(=O)c2c1cc(O)c(...   \n",
       "1  pdfs/v37n2a15  *Oc1cc(ccc1O*)[C]1[C]([C]([C]([C]2[C]1[C][C]([...   \n",
       "2  pdfs/v37n2a15  COc1cc(ccc1OC)[C@H]1C(C)[C@@H](C)C(=O)c2c1cc(O...   \n",
       "3  pdfs/v37n2a15  C[C@@H]1C(OC([C@@H]1C)c1ccc2c(c1)OCO2)c1ccc2c(...   \n",
       "4  pdfs/v37n2a15     COc1cc(ccc1OC)C1OC([C@H](C1C)C)c1ccc2c(c1)OCO2   \n",
       "\n",
       "              standardInChIKey  ExactMolWt  \n",
       "0                         None  296.068473  \n",
       "1                         None  307.060648  \n",
       "2  UCHGPGXURWMCBZ-IGNYMDPMSA-N  370.178024  \n",
       "3  QFUXQRHAJWXPGP-WFSAKUOBSA-N  340.131074  \n",
       "4  HSMDOSKNXLVXIP-IIBNLQKXSA-N  356.162374  "
      ]
     },
     "execution_count": 18,
     "metadata": {},
     "output_type": "execute_result"
    }
   ],
   "source": [
    "# How result provided in data/entities_img_dataframe.tsv\n",
    "# was generated\n",
    "import pandas as pd\n",
    "pd.concat(imglist).head()"
   ]
  },
  {
   "cell_type": "code",
   "execution_count": 19,
   "metadata": {},
   "outputs": [
    {
     "name": "stdout",
     "output_type": "stream",
     "text": [
      "Help on function create_report in module npmine.create_report:\n",
      "\n",
      "create_report(report_print, dois, out_file='npmine_report.html', useSVG=False)\n",
      "    Creates an html report from NPMINE's results\n",
      "    Parameters\n",
      "    ----------\n",
      "    report_print: pd.DataFrame\n",
      "        DataFrame containing columns 'doi', 'pubchem', 'ExactMolWt', 'smiles','source'.\n",
      "    dois: str or list\n",
      "        Directory of doi link files or link list.\n",
      "    out_file: str\n",
      "        HTML output file name.\n",
      "    useSVG: bool\n",
      "        If svg format should be used. Default is png.\n",
      "    Returns\n",
      "        Report html file.\n",
      "    -------\n",
      "\n"
     ]
    }
   ],
   "source": [
    "from npmine.create_report import *\n",
    "\n",
    "help(create_report)"
   ]
  },
  {
   "cell_type": "code",
   "execution_count": 20,
   "metadata": {},
   "outputs": [
    {
     "data": {
      "text/plain": [
       "['pdfs/v37n2a15.pdf']"
      ]
     },
     "execution_count": 20,
     "metadata": {},
     "output_type": "execute_result"
    }
   ],
   "source": [
    "path = 'pdfs'\n",
    "doi = os.listdir(path)\n",
    "\n",
    "doi = [os.path.join(path, x) for x in doi if '.pdf' in x]\n",
    "doi"
   ]
  },
  {
   "cell_type": "code",
   "execution_count": 21,
   "metadata": {},
   "outputs": [
    {
     "data": {
      "text/plain": [
       "oscar    40\n",
       "osra      7\n",
       "Name: source, dtype: int64"
      ]
     },
     "execution_count": 21,
     "metadata": {},
     "output_type": "execute_result"
    }
   ],
   "source": [
    "report_print = format_source_table(dflist, imglist)\n",
    "\n",
    "report_print['source'].value_counts()"
   ]
  },
  {
   "cell_type": "code",
   "execution_count": 22,
   "metadata": {},
   "outputs": [],
   "source": [
    "create_report(report_print, doi, out_file='npmine_report.html')"
   ]
  },
  {
   "cell_type": "code",
   "execution_count": 23,
   "metadata": {},
   "outputs": [
    {
     "name": "stdout",
     "output_type": "stream",
     "text": [
      "\tzip warning: name not matched: example_pdf\r\n",
      "updating: npmine_report.html (deflated 88%)\r\n",
      "updating: figs/ (stored 0%)\r\n",
      "updating: figs/71583.png (deflated 60%)\r\n",
      "updating: figs/280.png (deflated 70%)\r\n",
      "updating: figs/445639.png (deflated 55%)\r\n",
      "updating: figs/12366.png (deflated 50%)\r\n",
      "updating: figs/3034819.png (deflated 75%)\r\n",
      "updating: figs/12409.png (deflated 74%)\r\n",
      "updating: figs/0.png (deflated 23%)\r\n",
      "updating: figs/8029.png (deflated 46%)\r\n",
      "updating: figs/8058.png (deflated 57%)\r\n",
      "updating: figs/5363269.png (deflated 49%)\r\n",
      "updating: figs/87578811.png (deflated 35%)\r\n",
      "updating: figs/3931.png (deflated 55%)\r\n",
      "updating: figs/123138.png (deflated 76%)\r\n",
      "updating: figs/134828006.png (deflated 19%)\r\n",
      "updating: figs/985.png (deflated 54%)\r\n",
      "updating: figs/7005.png (deflated 26%)\r\n",
      "updating: figs/783.png (deflated 81%)\r\n",
      "updating: figs/12407.png (deflated 73%)\r\n",
      "updating: figs/962.png (deflated 77%)\r\n",
      "updating: figs/12535.png (deflated 73%)\r\n",
      "updating: figs/7338.png (deflated 28%)\r\n",
      "updating: figs/180.png (deflated 61%)\r\n",
      "updating: figs/12410.png (deflated 74%)\r\n",
      "updating: figs/12408.png (deflated 77%)\r\n",
      "updating: figs/887.png (deflated 77%)\r\n",
      "updating: figs/6212.png (deflated 60%)\r\n",
      "updating: figs/23987.png (deflated 77%)\r\n",
      "updating: figs/222284.png (deflated 22%)\r\n",
      "updating: figs/702.png (deflated 63%)\r\n",
      "updating: figs/11636.png (deflated 74%)\r\n",
      "updating: figs/12406.png (deflated 72%)\r\n",
      "updating: figs/965.png (deflated 55%)\r\n",
      "updating: figs/RW_68689.png (deflated 18%)\r\n",
      "updating: figs/RW_64138.png (deflated 23%)\r\n",
      "updating: figs/LM_6015.png (deflated 15%)\r\n",
      "updating: figs/MF_64138.png (deflated 23%)\r\n",
      "updating: figs/MF_63207.png (deflated 18%)\r\n",
      "updating: figs/MF_9028.png (deflated 20%)\r\n",
      "updating: figs/RW_63207.png (deflated 15%)\r\n",
      "updating: figs/RW_32310.png (deflated 26%)\r\n",
      "updating: figs/RW_59028.png (deflated 18%)\r\n",
      "updating: figs/RW_4952.png (deflated 34%)\r\n",
      "updating: figs/LM_73613.png (deflated 15%)\r\n",
      "updating: figs/MF_32310.png (deflated 18%)\r\n",
      "updating: figs/MF_68689.png (deflated 18%)\r\n",
      "updating: figs/RW_9028.png (deflated 20%)\r\n",
      "updating: figs/MF_4952.png (deflated 34%)\r\n",
      "updating: figs/MF_59028.png (deflated 26%)\r\n"
     ]
    }
   ],
   "source": [
    "!zip -r npmine_report.zip npmine_report.html figs pdfs"
   ]
  },
  {
   "cell_type": "code",
   "execution_count": null,
   "metadata": {},
   "outputs": [],
   "source": []
  }
 ],
 "metadata": {
  "kernelspec": {
   "display_name": "Python 3",
   "language": "python",
   "name": "python3"
  },
  "language_info": {
   "codemirror_mode": {
    "name": "ipython",
    "version": 3
   },
   "file_extension": ".py",
   "mimetype": "text/x-python",
   "name": "python",
   "nbconvert_exporter": "python",
   "pygments_lexer": "ipython3",
   "version": "3.6.5"
  }
 },
 "nbformat": 4,
 "nbformat_minor": 4
}
