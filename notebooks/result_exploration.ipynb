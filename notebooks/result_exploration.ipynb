{
 "cells": [
  {
   "cell_type": "code",
   "execution_count": 1,
   "metadata": {},
   "outputs": [],
   "source": [
    "import pandas as pd\n",
    "import matplotlib.pyplot as plt\n",
    "from matplotlib.backends.backend_pdf import PdfPages\n",
    "\n",
    "%matplotlib inline"
   ]
  },
  {
   "cell_type": "code",
   "execution_count": 2,
   "metadata": {
    "scrolled": true
   },
   "outputs": [
    {
     "name": "stderr",
     "output_type": "stream",
     "text": [
      "/home/rsilva/miniconda3/envs/nplibrary/lib/python3.6/site-packages/IPython/core/interactiveshell.py:3051: DtypeWarning: Columns (1,5) have mixed types. Specify dtype option on import or set low_memory=False.\n",
      "  interactivity=interactivity, compiler=compiler, result=result)\n",
      "/home/rsilva/miniconda3/envs/nplibrary/lib/python3.6/site-packages/IPython/core/interactiveshell.py:3051: DtypeWarning: Columns (1) have mixed types. Specify dtype option on import or set low_memory=False.\n",
      "  interactivity=interactivity, compiler=compiler, result=result)\n"
     ]
    }
   ],
   "source": [
    "jnatprod = pd.read_csv('data/entities_img_dataframe_jnatprod.tsv', sep='\\t')  \n",
    "metabo = pd.read_csv('data/entities_img_dataframe_metabo.tsv', sep='\\t')\n",
    "phytorev = pd.read_csv('data/entities_img_dataframe_phytorev.tsv', sep='\\t')  \n",
    "qn = pd.read_csv('data/entities_img_dataframe_qn.tsv', sep='\\t')\n",
    "chrom_a = pd.read_csv('data/entities_img_dataframe_chroma_a.tsv', sep='\\t')\n",
    "chrom_b = pd.read_csv('data/entities_img_dataframe_chroma_b.tsv', sep='\\t')"
   ]
  },
  {
   "cell_type": "code",
   "execution_count": 3,
   "metadata": {},
   "outputs": [],
   "source": [
    "jnatprod = pd.concat([pd.DataFrame(['jnatprod']*jnatprod.shape[0], \n",
    "                                   columns=['journal']), jnatprod], axis=1, sort=False)\n",
    "metabo = pd.concat([pd.DataFrame(['metabo']*metabo.shape[0], \n",
    "                                   columns=['journal']), metabo], axis=1, sort=False)\n",
    "phytorev = pd.concat([pd.DataFrame(['phytorev']*phytorev.shape[0], \n",
    "                                   columns=['journal']), phytorev], axis=1, sort=False)\n",
    "qn = pd.concat([pd.DataFrame(['qn']*qn.shape[0], \n",
    "                             columns=['journal']), qn], axis=1, sort=False)\n",
    "chrom_a = pd.concat([pd.DataFrame(['chrom_a']*chrom_a.shape[0], \n",
    "                                  columns=['journal']), chrom_a], axis=1, sort=False)\n",
    "chrom_b = pd.concat([pd.DataFrame(['chrom_b']*chrom_b.shape[0], \n",
    "                                  columns=['journal']), chrom_b], axis=1, sort=False)"
   ]
  },
  {
   "cell_type": "code",
   "execution_count": 4,
   "metadata": {},
   "outputs": [
    {
     "data": {
      "text/html": [
       "<div>\n",
       "<style scoped>\n",
       "    .dataframe tbody tr th:only-of-type {\n",
       "        vertical-align: middle;\n",
       "    }\n",
       "\n",
       "    .dataframe tbody tr th {\n",
       "        vertical-align: top;\n",
       "    }\n",
       "\n",
       "    .dataframe thead th {\n",
       "        text-align: right;\n",
       "    }\n",
       "</style>\n",
       "<table border=\"1\" class=\"dataframe\">\n",
       "  <thead>\n",
       "    <tr style=\"text-align: right;\">\n",
       "      <th></th>\n",
       "      <th>journal</th>\n",
       "      <th>doi</th>\n",
       "      <th>smiles</th>\n",
       "      <th>standardInChIKey</th>\n",
       "      <th>ExactMolWt</th>\n",
       "      <th>pubchem</th>\n",
       "      <th>standardInChI</th>\n",
       "      <th>source</th>\n",
       "    </tr>\n",
       "  </thead>\n",
       "  <tbody>\n",
       "    <tr>\n",
       "      <th>0</th>\n",
       "      <td>jnatprod</td>\n",
       "      <td>np50051a041</td>\n",
       "      <td></td>\n",
       "      <td>MBMQEIFVQACCCH-QBODLPLBSA-N</td>\n",
       "      <td>318.146724</td>\n",
       "      <td>5281576</td>\n",
       "      <td>InChI=1S/C18H22O5/c1-12-6-5-9-14(19)8-4-2-3-7-...</td>\n",
       "      <td>oscar</td>\n",
       "    </tr>\n",
       "    <tr>\n",
       "      <th>1</th>\n",
       "      <td>jnatprod</td>\n",
       "      <td>np50051a041</td>\n",
       "      <td></td>\n",
       "      <td>RGSFGYAAUTVSQA-UHFFFAOYSA-N</td>\n",
       "      <td>70.078250</td>\n",
       "      <td>9253</td>\n",
       "      <td>InChI=1S/C5H10/c1-2-4-5-3-1/h1-5H2</td>\n",
       "      <td>oscar</td>\n",
       "    </tr>\n",
       "    <tr>\n",
       "      <th>2</th>\n",
       "      <td>jnatprod</td>\n",
       "      <td>np50051a041</td>\n",
       "      <td></td>\n",
       "      <td>OKTJSMMVPCPJKN-UHFFFAOYSA-N</td>\n",
       "      <td>12.000000</td>\n",
       "      <td>5462310</td>\n",
       "      <td>InChI=1S/C</td>\n",
       "      <td>oscar</td>\n",
       "    </tr>\n",
       "    <tr>\n",
       "      <th>3</th>\n",
       "      <td>jnatprod</td>\n",
       "      <td>np50051a041</td>\n",
       "      <td></td>\n",
       "      <td>BUGBHKTXTAQXES-UHFFFAOYSA-N</td>\n",
       "      <td>79.916521</td>\n",
       "      <td>6326970</td>\n",
       "      <td>InChI=1S/Se</td>\n",
       "      <td>oscar</td>\n",
       "    </tr>\n",
       "    <tr>\n",
       "      <th>4</th>\n",
       "      <td>jnatprod</td>\n",
       "      <td>np50051a041</td>\n",
       "      <td></td>\n",
       "      <td>OKTJSMMVPCPJKN-UHFFFAOYSA-N</td>\n",
       "      <td>12.000000</td>\n",
       "      <td>5462310</td>\n",
       "      <td>InChI=1S/C</td>\n",
       "      <td>oscar</td>\n",
       "    </tr>\n",
       "  </tbody>\n",
       "</table>\n",
       "</div>"
      ],
      "text/plain": [
       "    journal          doi smiles             standardInChIKey  ExactMolWt  \\\n",
       "0  jnatprod  np50051a041         MBMQEIFVQACCCH-QBODLPLBSA-N  318.146724   \n",
       "1  jnatprod  np50051a041         RGSFGYAAUTVSQA-UHFFFAOYSA-N   70.078250   \n",
       "2  jnatprod  np50051a041         OKTJSMMVPCPJKN-UHFFFAOYSA-N   12.000000   \n",
       "3  jnatprod  np50051a041         BUGBHKTXTAQXES-UHFFFAOYSA-N   79.916521   \n",
       "4  jnatprod  np50051a041         OKTJSMMVPCPJKN-UHFFFAOYSA-N   12.000000   \n",
       "\n",
       "   pubchem                                      standardInChI source  \n",
       "0  5281576  InChI=1S/C18H22O5/c1-12-6-5-9-14(19)8-4-2-3-7-...  oscar  \n",
       "1     9253                 InChI=1S/C5H10/c1-2-4-5-3-1/h1-5H2  oscar  \n",
       "2  5462310                                         InChI=1S/C  oscar  \n",
       "3  6326970                                        InChI=1S/Se  oscar  \n",
       "4  5462310                                         InChI=1S/C  oscar  "
      ]
     },
     "execution_count": 4,
     "metadata": {},
     "output_type": "execute_result"
    }
   ],
   "source": [
    "comp = pd.concat([jnatprod, metabo, phytorev, \n",
    "                  qn, chrom_a, chrom_b])\n",
    "comp.loc[comp['pubchem'].isnull(), 'pubchem'] = 0\n",
    "comp['pubchem'] = comp['pubchem'].astype(str)\n",
    "comp.loc[comp['pubchem'].str.contains('csid'), 'pubchem'] = 0\n",
    "comp['pubchem'] = comp['pubchem'].astype(float)\n",
    "comp['pubchem'] = comp['pubchem'].astype(int)\n",
    "comp.loc[comp['pubchem']==0, 'pubchem'] = ''\n",
    "comp.fillna('', inplace=True)\n",
    "comp.reset_index(drop=True, inplace=True)\n",
    "comp.head()"
   ]
  },
  {
   "cell_type": "code",
   "execution_count": 5,
   "metadata": {},
   "outputs": [
    {
     "data": {
      "text/plain": [
       "(1533872, 8)"
      ]
     },
     "execution_count": 5,
     "metadata": {},
     "output_type": "execute_result"
    }
   ],
   "source": [
    "comp.shape"
   ]
  },
  {
   "cell_type": "code",
   "execution_count": 6,
   "metadata": {},
   "outputs": [
    {
     "data": {
      "text/html": [
       "<div>\n",
       "<style scoped>\n",
       "    .dataframe tbody tr th:only-of-type {\n",
       "        vertical-align: middle;\n",
       "    }\n",
       "\n",
       "    .dataframe tbody tr th {\n",
       "        vertical-align: top;\n",
       "    }\n",
       "\n",
       "    .dataframe thead tr th {\n",
       "        text-align: left;\n",
       "    }\n",
       "\n",
       "    .dataframe thead tr:last-of-type th {\n",
       "        text-align: right;\n",
       "    }\n",
       "</style>\n",
       "<table border=\"1\" class=\"dataframe\">\n",
       "  <thead>\n",
       "    <tr>\n",
       "      <th></th>\n",
       "      <th>doi</th>\n",
       "      <th>standardInChIKey</th>\n",
       "      <th>pubchem</th>\n",
       "    </tr>\n",
       "    <tr>\n",
       "      <th></th>\n",
       "      <th>nunique</th>\n",
       "      <th>nunique</th>\n",
       "      <th>nunique</th>\n",
       "    </tr>\n",
       "    <tr>\n",
       "      <th>journal</th>\n",
       "      <th></th>\n",
       "      <th></th>\n",
       "      <th></th>\n",
       "    </tr>\n",
       "  </thead>\n",
       "  <tbody>\n",
       "    <tr>\n",
       "      <th>chrom_a</th>\n",
       "      <td>22786</td>\n",
       "      <td>36045</td>\n",
       "      <td>29056</td>\n",
       "    </tr>\n",
       "    <tr>\n",
       "      <th>chrom_b</th>\n",
       "      <td>10202</td>\n",
       "      <td>25928</td>\n",
       "      <td>18365</td>\n",
       "    </tr>\n",
       "    <tr>\n",
       "      <th>jnatprod</th>\n",
       "      <td>14058</td>\n",
       "      <td>53006</td>\n",
       "      <td>31563</td>\n",
       "    </tr>\n",
       "    <tr>\n",
       "      <th>metabo</th>\n",
       "      <td>1409</td>\n",
       "      <td>6284</td>\n",
       "      <td>5450</td>\n",
       "    </tr>\n",
       "    <tr>\n",
       "      <th>phytorev</th>\n",
       "      <td>774</td>\n",
       "      <td>14321</td>\n",
       "      <td>9599</td>\n",
       "    </tr>\n",
       "    <tr>\n",
       "      <th>qn</th>\n",
       "      <td>6153</td>\n",
       "      <td>17946</td>\n",
       "      <td>11188</td>\n",
       "    </tr>\n",
       "  </tbody>\n",
       "</table>\n",
       "</div>"
      ],
      "text/plain": [
       "             doi standardInChIKey pubchem\n",
       "         nunique          nunique nunique\n",
       "journal                                  \n",
       "chrom_a    22786            36045   29056\n",
       "chrom_b    10202            25928   18365\n",
       "jnatprod   14058            53006   31563\n",
       "metabo      1409             6284    5450\n",
       "phytorev     774            14321    9599\n",
       "qn          6153            17946   11188"
      ]
     },
     "execution_count": 6,
     "metadata": {},
     "output_type": "execute_result"
    }
   ],
   "source": [
    "comp.groupby(['journal'])[['doi', 'standardInChIKey', 'pubchem']].agg(['nunique'])"
   ]
  },
  {
   "cell_type": "code",
   "execution_count": 7,
   "metadata": {},
   "outputs": [
    {
     "data": {
      "text/plain": [
       "36044"
      ]
     },
     "execution_count": 7,
     "metadata": {},
     "output_type": "execute_result"
    }
   ],
   "source": [
    "# Have to remove the '' for each journal\n",
    "chrom_a = comp.loc[comp['journal']=='chrom_a', 'standardInChIKey'].unique().tolist()\n",
    "chrom_a.remove('')\n",
    "len(chrom_a)"
   ]
  },
  {
   "cell_type": "code",
   "execution_count": 8,
   "metadata": {},
   "outputs": [
    {
     "data": {
      "text/plain": [
       "120970"
      ]
     },
     "execution_count": 8,
     "metadata": {},
     "output_type": "execute_result"
    }
   ],
   "source": [
    "# Number of unique compounds, total unique \n",
    "len(comp['standardInChIKey'].unique())"
   ]
  },
  {
   "cell_type": "code",
   "execution_count": 9,
   "metadata": {},
   "outputs": [
    {
     "data": {
      "text/plain": [
       "73429"
      ]
     },
     "execution_count": 9,
     "metadata": {},
     "output_type": "execute_result"
    }
   ],
   "source": [
    "# Number of unique pubchem ids, total unique \n",
    "len(comp['pubchem'].unique())"
   ]
  },
  {
   "cell_type": "code",
   "execution_count": 10,
   "metadata": {},
   "outputs": [
    {
     "data": {
      "text/plain": [
       "S0021967300915255       2453\n",
       "S0021967301916139       1660\n",
       "S0021967301879139       1550\n",
       "S0021967301876688       1479\n",
       "S0021967300940986       1395\n",
       "                        ... \n",
       "S0021967300952609          1\n",
       "v17_n6_00-sumario          1\n",
       "acs.jnatprod.5b01098       1\n",
       "S0021967300924361          1\n",
       "S1570023204006087          1\n",
       "Name: doi, Length: 55382, dtype: int64"
      ]
     },
     "execution_count": 10,
     "metadata": {},
     "output_type": "execute_result"
    }
   ],
   "source": [
    "# Number of structures by paper\n",
    "comp['doi'].value_counts()"
   ]
  },
  {
   "cell_type": "code",
   "execution_count": 11,
   "metadata": {},
   "outputs": [
    {
     "data": {
      "text/plain": [
       "<matplotlib.axes._subplots.AxesSubplot at 0x7f748c0e2b38>"
      ]
     },
     "execution_count": 11,
     "metadata": {},
     "output_type": "execute_result"
    },
    {
     "data": {
      "image/png": "[encoded data removed]",
      "text/plain": [
       "<Figure size 432x288 with 1 Axes>"
      ]
     },
     "metadata": {
      "needs_background": "light"
     },
     "output_type": "display_data"
    }
   ],
   "source": [
    "comp['doi'].value_counts().hist(bins=100)"
   ]
  },
  {
   "cell_type": "code",
   "execution_count": 12,
   "metadata": {},
   "outputs": [
    {
     "data": {
      "text/plain": [
       "                               184817\n",
       "XLYOFNOQVPJJNP-UHFFFAOYSA-N     47712\n",
       "OKKJLVBELUTLKV-UHFFFAOYSA-N     39031\n",
       "WEVYAHXRMPXWCK-UHFFFAOYSA-N     19854\n",
       "OKTJSMMVPCPJKN-UHFFFAOYSA-N     18616\n",
       "                                ...  \n",
       "HVYWMOMLDIMFJA-GONJIEHTSA-N         1\n",
       "QSMUIJXOWCKIMY-RUNYGPAUSA-N         1\n",
       "HXDPVHZDARHNCZ-QRBDLBBESA-N         1\n",
       "TTZBCLRAHANIFC-RELCQPNDSA-N         1\n",
       "QJJURTLDRWCGMX-OTNPOIMISA-N         1\n",
       "Name: standardInChIKey, Length: 120970, dtype: int64"
      ]
     },
     "execution_count": 12,
     "metadata": {},
     "output_type": "execute_result"
    }
   ],
   "source": [
    "# Number of occurencies of each compound\n",
    "comp['standardInChIKey'].value_counts()"
   ]
  },
  {
   "cell_type": "code",
   "execution_count": 13,
   "metadata": {},
   "outputs": [],
   "source": [
    "idx = comp[comp['standardInChIKey'].isin(comp['standardInChIKey'].value_counts().head(10).index)].index"
   ]
  },
  {
   "cell_type": "code",
   "execution_count": 14,
   "metadata": {},
   "outputs": [
    {
     "data": {
      "text/plain": [
       "<matplotlib.axes._subplots.AxesSubplot at 0x7f748fbd3e80>"
      ]
     },
     "execution_count": 14,
     "metadata": {},
     "output_type": "execute_result"
    },
    {
     "data": {
      "image/png": "[encoded data removed]",
      "text/plain": [
       "<Figure size 432x288 with 1 Axes>"
      ]
     },
     "metadata": {
      "needs_background": "light"
     },
     "output_type": "display_data"
    }
   ],
   "source": [
    "comp.loc[idx, 'standardInChIKey'].value_counts().hist()"
   ]
  },
  {
   "cell_type": "code",
   "execution_count": 15,
   "metadata": {
    "scrolled": true
   },
   "outputs": [
    {
     "data": {
      "text/html": [
       "<div>\n",
       "<style scoped>\n",
       "    .dataframe tbody tr th:only-of-type {\n",
       "        vertical-align: middle;\n",
       "    }\n",
       "\n",
       "    .dataframe tbody tr th {\n",
       "        vertical-align: top;\n",
       "    }\n",
       "\n",
       "    .dataframe thead th {\n",
       "        text-align: right;\n",
       "    }\n",
       "</style>\n",
       "<table border=\"1\" class=\"dataframe\">\n",
       "  <thead>\n",
       "    <tr style=\"text-align: right;\">\n",
       "      <th></th>\n",
       "      <th>journal</th>\n",
       "      <th>doi</th>\n",
       "      <th>verbatim</th>\n",
       "      <th>odds</th>\n",
       "      <th>dataSourceId</th>\n",
       "      <th>taxonId</th>\n",
       "      <th>classificationPath</th>\n",
       "      <th>classificationRank</th>\n",
       "      <th>matchType</th>\n",
       "    </tr>\n",
       "  </thead>\n",
       "  <tbody>\n",
       "    <tr>\n",
       "      <th>0</th>\n",
       "      <td>jnatprod</td>\n",
       "      <td>np100762s_gn.txt</td>\n",
       "      <td>Mammea americana</td>\n",
       "      <td>3.691610e+07</td>\n",
       "      <td>1.0</td>\n",
       "      <td>53490549</td>\n",
       "      <td>Plantae|Tracheophyta|Magnoliopsida|Malpighiale...</td>\n",
       "      <td>kingdom|phylum|class|order|family|genus|species</td>\n",
       "      <td>ExactCanonicalMatch</td>\n",
       "    </tr>\n",
       "    <tr>\n",
       "      <th>1</th>\n",
       "      <td>jnatprod</td>\n",
       "      <td>np100762s_gn.txt</td>\n",
       "      <td>Mammea</td>\n",
       "      <td>1.110529e+04</td>\n",
       "      <td>1.0</td>\n",
       "      <td>54930310</td>\n",
       "      <td>Plantae|Tracheophyta|Magnoliopsida|Malpighiale...</td>\n",
       "      <td>kingdom|phylum|class|order|family|genus</td>\n",
       "      <td>ExactMatch</td>\n",
       "    </tr>\n",
       "    <tr>\n",
       "      <th>2</th>\n",
       "      <td>jnatprod</td>\n",
       "      <td>np100762s_gn.txt</td>\n",
       "      <td>Mammea americana</td>\n",
       "      <td>3.691610e+07</td>\n",
       "      <td>1.0</td>\n",
       "      <td>53490549</td>\n",
       "      <td>Plantae|Tracheophyta|Magnoliopsida|Malpighiale...</td>\n",
       "      <td>kingdom|phylum|class|order|family|genus|species</td>\n",
       "      <td>ExactCanonicalMatch</td>\n",
       "    </tr>\n",
       "    <tr>\n",
       "      <th>3</th>\n",
       "      <td>jnatprod</td>\n",
       "      <td>np100762s_gn.txt</td>\n",
       "      <td>Mammea</td>\n",
       "      <td>1.110529e+04</td>\n",
       "      <td>1.0</td>\n",
       "      <td>54930310</td>\n",
       "      <td>Plantae|Tracheophyta|Magnoliopsida|Malpighiale...</td>\n",
       "      <td>kingdom|phylum|class|order|family|genus</td>\n",
       "      <td>ExactMatch</td>\n",
       "    </tr>\n",
       "    <tr>\n",
       "      <th>4</th>\n",
       "      <td>jnatprod</td>\n",
       "      <td>np100762s_gn.txt</td>\n",
       "      <td>Mammea</td>\n",
       "      <td>1.110529e+04</td>\n",
       "      <td>1.0</td>\n",
       "      <td>54930310</td>\n",
       "      <td>Plantae|Tracheophyta|Magnoliopsida|Malpighiale...</td>\n",
       "      <td>kingdom|phylum|class|order|family|genus</td>\n",
       "      <td>ExactMatch</td>\n",
       "    </tr>\n",
       "  </tbody>\n",
       "</table>\n",
       "</div>"
      ],
      "text/plain": [
       "    journal               doi          verbatim          odds  dataSourceId  \\\n",
       "0  jnatprod  np100762s_gn.txt  Mammea americana  3.691610e+07           1.0   \n",
       "1  jnatprod  np100762s_gn.txt            Mammea  1.110529e+04           1.0   \n",
       "2  jnatprod  np100762s_gn.txt  Mammea americana  3.691610e+07           1.0   \n",
       "3  jnatprod  np100762s_gn.txt            Mammea  1.110529e+04           1.0   \n",
       "4  jnatprod  np100762s_gn.txt            Mammea  1.110529e+04           1.0   \n",
       "\n",
       "    taxonId                                 classificationPath  \\\n",
       "0  53490549  Plantae|Tracheophyta|Magnoliopsida|Malpighiale...   \n",
       "1  54930310  Plantae|Tracheophyta|Magnoliopsida|Malpighiale...   \n",
       "2  53490549  Plantae|Tracheophyta|Magnoliopsida|Malpighiale...   \n",
       "3  54930310  Plantae|Tracheophyta|Magnoliopsida|Malpighiale...   \n",
       "4  54930310  Plantae|Tracheophyta|Magnoliopsida|Malpighiale...   \n",
       "\n",
       "                                classificationRank            matchType  \n",
       "0  kingdom|phylum|class|order|family|genus|species  ExactCanonicalMatch  \n",
       "1          kingdom|phylum|class|order|family|genus           ExactMatch  \n",
       "2  kingdom|phylum|class|order|family|genus|species  ExactCanonicalMatch  \n",
       "3          kingdom|phylum|class|order|family|genus           ExactMatch  \n",
       "4          kingdom|phylum|class|order|family|genus           ExactMatch  "
      ]
     },
     "execution_count": 15,
     "metadata": {},
     "output_type": "execute_result"
    }
   ],
   "source": [
    "gn_jnatprod = pd.read_csv('data/gn_dataframe_jnatprod.tsv', sep='\\t')  \n",
    "gn_metabo = pd.read_csv('data/gn_dataframe_metabo.tsv', sep='\\t')  \n",
    "gn_phytorev = pd.read_csv('data/gn_dataframe_phytorev.tsv', sep='\\t')  \n",
    "gn_qn = pd.read_csv('data/gn_dataframe_qn.tsv', sep='\\t')\n",
    "gn_chrom_a = pd.read_csv('data/gn_dataframe_chroma_a.tsv', sep='\\t')\n",
    "gn_chrom_b = pd.read_csv('data/gn_dataframe_chroma_b.tsv', sep='\\t')\n",
    "\n",
    "gn_jnatprod = pd.concat([pd.DataFrame(['jnatprod']*gn_jnatprod.shape[0], \n",
    "                                   columns=['journal']), gn_jnatprod], axis=1, sort=False)\n",
    "gn_metabo = pd.concat([pd.DataFrame(['metabo']*gn_metabo.shape[0], \n",
    "                                   columns=['journal']), gn_metabo], axis=1, sort=False)\n",
    "gn_phytorev = pd.concat([pd.DataFrame(['phytorev']*gn_phytorev.shape[0], \n",
    "                                   columns=['journal']), gn_phytorev], axis=1, sort=False)\n",
    "gn_qn = pd.concat([pd.DataFrame(['qn']*gn_qn.shape[0], \n",
    "                             columns=['journal']), gn_qn], axis=1, sort=False)\n",
    "gn_chrom_a = pd.concat([pd.DataFrame(['chrom_a']*gn_chrom_a.shape[0], \n",
    "                                  columns=['journal']), gn_chrom_a], axis=1, sort=False)\n",
    "gn_chrom_b = pd.concat([pd.DataFrame(['chrom_b']*gn_chrom_b.shape[0], \n",
    "                                  columns=['journal']), gn_chrom_b], axis=1, sort=False)\n",
    "\n",
    "\n",
    "dfnms = pd.concat([gn_jnatprod, gn_metabo,\n",
    "                gn_phytorev, gn_qn,\n",
    "                gn_chrom_a, gn_chrom_b])\n",
    "dfnms.reset_index(drop=True, inplace=True)\n",
    "dfnms.head()"
   ]
  },
  {
   "cell_type": "code",
   "execution_count": 16,
   "metadata": {},
   "outputs": [
    {
     "data": {
      "text/plain": [
       "(699909, 9)"
      ]
     },
     "execution_count": 16,
     "metadata": {},
     "output_type": "execute_result"
    }
   ],
   "source": [
    "dfnms.shape"
   ]
  },
  {
   "cell_type": "code",
   "execution_count": 17,
   "metadata": {},
   "outputs": [
    {
     "data": {
      "text/plain": [
       "152525"
      ]
     },
     "execution_count": 17,
     "metadata": {},
     "output_type": "execute_result"
    }
   ],
   "source": [
    "# Total occurencies of taxon\n",
    "dfnms.fillna('', inplace=True)\n",
    "sum(dfnms['taxonId']=='')"
   ]
  },
  {
   "cell_type": "code",
   "execution_count": 18,
   "metadata": {},
   "outputs": [
    {
     "data": {
      "text/plain": [
       "152510"
      ]
     },
     "execution_count": 18,
     "metadata": {},
     "output_type": "execute_result"
    }
   ],
   "source": [
    "# Number of no matches\n",
    "sum(dfnms['matchType']=='NoMatch')"
   ]
  },
  {
   "cell_type": "code",
   "execution_count": 19,
   "metadata": {},
   "outputs": [
    {
     "data": {
      "text/plain": [
       "array(['ExactCanonicalMatch', 'ExactMatch', 'ExactPartialMatch',\n",
       "       'FuzzyCanonicalMatch', 'NoMatch', 'FuzzyPartialMatch'],\n",
       "      dtype=object)"
      ]
     },
     "execution_count": 19,
     "metadata": {},
     "output_type": "execute_result"
    }
   ],
   "source": [
    "# Match types\n",
    "dfnms['matchType'].unique()"
   ]
  },
  {
   "cell_type": "code",
   "execution_count": 20,
   "metadata": {},
   "outputs": [
    {
     "data": {
      "text/plain": [
       "42597"
      ]
     },
     "execution_count": 20,
     "metadata": {},
     "output_type": "execute_result"
    }
   ],
   "source": [
    "# Number dois present in the search\n",
    "len(dfnms['doi'].unique())"
   ]
  },
  {
   "cell_type": "code",
   "execution_count": 21,
   "metadata": {},
   "outputs": [
    {
     "data": {
      "text/plain": [
       "49907"
      ]
     },
     "execution_count": 21,
     "metadata": {},
     "output_type": "execute_result"
    }
   ],
   "source": [
    "# Number of unique taxon\n",
    "len(dfnms.loc[dfnms['matchType']!='NoMatch','taxonId'].unique())"
   ]
  },
  {
   "cell_type": "code",
   "execution_count": 22,
   "metadata": {},
   "outputs": [
    {
     "data": {
      "text/html": [
       "<div>\n",
       "<style scoped>\n",
       "    .dataframe tbody tr th:only-of-type {\n",
       "        vertical-align: middle;\n",
       "    }\n",
       "\n",
       "    .dataframe tbody tr th {\n",
       "        vertical-align: top;\n",
       "    }\n",
       "\n",
       "    .dataframe thead th {\n",
       "        text-align: right;\n",
       "    }\n",
       "</style>\n",
       "<table border=\"1\" class=\"dataframe\">\n",
       "  <thead>\n",
       "    <tr style=\"text-align: right;\">\n",
       "      <th></th>\n",
       "      <th>classification</th>\n",
       "      <th>Rank</th>\n",
       "    </tr>\n",
       "  </thead>\n",
       "  <tbody>\n",
       "    <tr>\n",
       "      <th>0</th>\n",
       "      <td>Mammea americana</td>\n",
       "      <td>species</td>\n",
       "    </tr>\n",
       "    <tr>\n",
       "      <th>1</th>\n",
       "      <td>Mammea</td>\n",
       "      <td>genus</td>\n",
       "    </tr>\n",
       "    <tr>\n",
       "      <th>2</th>\n",
       "      <td>Mammea americana</td>\n",
       "      <td>species</td>\n",
       "    </tr>\n",
       "    <tr>\n",
       "      <th>3</th>\n",
       "      <td>Mammea</td>\n",
       "      <td>genus</td>\n",
       "    </tr>\n",
       "    <tr>\n",
       "      <th>4</th>\n",
       "      <td>Mammea</td>\n",
       "      <td>genus</td>\n",
       "    </tr>\n",
       "  </tbody>\n",
       "</table>\n",
       "</div>"
      ],
      "text/plain": [
       "     classification     Rank\n",
       "0  Mammea americana  species\n",
       "1            Mammea    genus\n",
       "2  Mammea americana  species\n",
       "3            Mammea    genus\n",
       "4            Mammea    genus"
      ]
     },
     "execution_count": 22,
     "metadata": {},
     "output_type": "execute_result"
    }
   ],
   "source": [
    "dfnms['classification'] = dfnms['classificationPath'].apply(lambda a: a.split('|')[-1])\n",
    "dfnms['Rank'] = dfnms['classificationRank'].apply(lambda a: a.split('|')[-1])\n",
    "dfnms[['classification', 'Rank']].head()"
   ]
  },
  {
   "cell_type": "code",
   "execution_count": 23,
   "metadata": {},
   "outputs": [
    {
     "data": {
      "text/plain": [
       "Escherichia coli         4199\n",
       "Staphylococcus aureus    2947\n",
       "Candida albicans         1698\n",
       "Bacillus subtilis        1651\n",
       "Catharanthus roseus      1518\n",
       "Name: classification, dtype: int64"
      ]
     },
     "execution_count": 23,
     "metadata": {},
     "output_type": "execute_result"
    }
   ],
   "source": [
    "dfnms.loc[dfnms['Rank']=='species', 'classification'].value_counts().head()"
   ]
  },
  {
   "cell_type": "code",
   "execution_count": 24,
   "metadata": {},
   "outputs": [
    {
     "data": {
      "text/html": [
       "<div>\n",
       "<style scoped>\n",
       "    .dataframe tbody tr th:only-of-type {\n",
       "        vertical-align: middle;\n",
       "    }\n",
       "\n",
       "    .dataframe tbody tr th {\n",
       "        vertical-align: top;\n",
       "    }\n",
       "\n",
       "    .dataframe thead tr th {\n",
       "        text-align: left;\n",
       "    }\n",
       "\n",
       "    .dataframe thead tr:last-of-type th {\n",
       "        text-align: right;\n",
       "    }\n",
       "</style>\n",
       "<table border=\"1\" class=\"dataframe\">\n",
       "  <thead>\n",
       "    <tr>\n",
       "      <th></th>\n",
       "      <th>doi</th>\n",
       "      <th>classification</th>\n",
       "    </tr>\n",
       "    <tr>\n",
       "      <th></th>\n",
       "      <th>nunique</th>\n",
       "      <th>nunique</th>\n",
       "    </tr>\n",
       "    <tr>\n",
       "      <th>journal</th>\n",
       "      <th></th>\n",
       "      <th></th>\n",
       "    </tr>\n",
       "  </thead>\n",
       "  <tbody>\n",
       "    <tr>\n",
       "      <th>chrom_a</th>\n",
       "      <td>1991</td>\n",
       "      <td>2901</td>\n",
       "    </tr>\n",
       "    <tr>\n",
       "      <th>chrom_b</th>\n",
       "      <td>3039</td>\n",
       "      <td>2962</td>\n",
       "    </tr>\n",
       "    <tr>\n",
       "      <th>jnatprod</th>\n",
       "      <td>12385</td>\n",
       "      <td>13265</td>\n",
       "    </tr>\n",
       "    <tr>\n",
       "      <th>metabo</th>\n",
       "      <td>737</td>\n",
       "      <td>1563</td>\n",
       "    </tr>\n",
       "    <tr>\n",
       "      <th>phytorev</th>\n",
       "      <td>752</td>\n",
       "      <td>8596</td>\n",
       "    </tr>\n",
       "    <tr>\n",
       "      <th>qn</th>\n",
       "      <td>1612</td>\n",
       "      <td>3541</td>\n",
       "    </tr>\n",
       "  </tbody>\n",
       "</table>\n",
       "</div>"
      ],
      "text/plain": [
       "             doi classification\n",
       "         nunique        nunique\n",
       "journal                        \n",
       "chrom_a     1991           2901\n",
       "chrom_b     3039           2962\n",
       "jnatprod   12385          13265\n",
       "metabo       737           1563\n",
       "phytorev     752           8596\n",
       "qn          1612           3541"
      ]
     },
     "execution_count": 24,
     "metadata": {},
     "output_type": "execute_result"
    }
   ],
   "source": [
    "dfnms[dfnms['Rank']=='species'].groupby(['journal'])[['doi', 'classification']].agg(['nunique'])"
   ]
  },
  {
   "cell_type": "code",
   "execution_count": 26,
   "metadata": {},
   "outputs": [
    {
     "data": {
      "text/plain": [
       "21526"
      ]
     },
     "execution_count": 26,
     "metadata": {},
     "output_type": "execute_result"
    }
   ],
   "source": [
    "len(dfnms.loc[dfnms['Rank']=='species', 'classification'].unique())"
   ]
  },
  {
   "cell_type": "code",
   "execution_count": 25,
   "metadata": {},
   "outputs": [
    {
     "data": {
      "text/html": [
       "<div>\n",
       "<style scoped>\n",
       "    .dataframe tbody tr th:only-of-type {\n",
       "        vertical-align: middle;\n",
       "    }\n",
       "\n",
       "    .dataframe tbody tr th {\n",
       "        vertical-align: top;\n",
       "    }\n",
       "\n",
       "    .dataframe thead tr th {\n",
       "        text-align: left;\n",
       "    }\n",
       "\n",
       "    .dataframe thead tr:last-of-type th {\n",
       "        text-align: right;\n",
       "    }\n",
       "</style>\n",
       "<table border=\"1\" class=\"dataframe\">\n",
       "  <thead>\n",
       "    <tr>\n",
       "      <th></th>\n",
       "      <th>doi</th>\n",
       "      <th>classification</th>\n",
       "    </tr>\n",
       "    <tr>\n",
       "      <th></th>\n",
       "      <th>nunique</th>\n",
       "      <th>nunique</th>\n",
       "    </tr>\n",
       "    <tr>\n",
       "      <th>journal</th>\n",
       "      <th></th>\n",
       "      <th></th>\n",
       "    </tr>\n",
       "  </thead>\n",
       "  <tbody>\n",
       "    <tr>\n",
       "      <th>chrom_a</th>\n",
       "      <td>280</td>\n",
       "      <td>160</td>\n",
       "    </tr>\n",
       "    <tr>\n",
       "      <th>chrom_b</th>\n",
       "      <td>459</td>\n",
       "      <td>217</td>\n",
       "    </tr>\n",
       "    <tr>\n",
       "      <th>jnatprod</th>\n",
       "      <td>7945</td>\n",
       "      <td>842</td>\n",
       "    </tr>\n",
       "    <tr>\n",
       "      <th>metabo</th>\n",
       "      <td>143</td>\n",
       "      <td>117</td>\n",
       "    </tr>\n",
       "    <tr>\n",
       "      <th>phytorev</th>\n",
       "      <td>523</td>\n",
       "      <td>549</td>\n",
       "    </tr>\n",
       "    <tr>\n",
       "      <th>qn</th>\n",
       "      <td>629</td>\n",
       "      <td>295</td>\n",
       "    </tr>\n",
       "  </tbody>\n",
       "</table>\n",
       "</div>"
      ],
      "text/plain": [
       "             doi classification\n",
       "         nunique        nunique\n",
       "journal                        \n",
       "chrom_a      280            160\n",
       "chrom_b      459            217\n",
       "jnatprod    7945            842\n",
       "metabo       143            117\n",
       "phytorev     523            549\n",
       "qn           629            295"
      ]
     },
     "execution_count": 25,
     "metadata": {},
     "output_type": "execute_result"
    }
   ],
   "source": [
    "dfnms[dfnms['Rank']=='family'].groupby(['journal'])[['doi', 'classification']].agg(['nunique'])"
   ]
  },
  {
   "cell_type": "code",
   "execution_count": 27,
   "metadata": {},
   "outputs": [
    {
     "data": {
      "text/plain": [
       "1153"
      ]
     },
     "execution_count": 27,
     "metadata": {},
     "output_type": "execute_result"
    }
   ],
   "source": [
    "len(dfnms.loc[dfnms['Rank']=='family', 'classification'].unique())"
   ]
  },
  {
   "cell_type": "code",
   "execution_count": 65,
   "metadata": {},
   "outputs": [
    {
     "data": {
      "text/plain": [
       "[4199, 2947, 1698, 1651, 1518]"
      ]
     },
     "execution_count": 65,
     "metadata": {},
     "output_type": "execute_result"
    }
   ],
   "source": [
    "name = dfnms.loc[dfnms['Rank']=='species', 'classification'].value_counts().head().index.tolist()\n",
    "val = dfnms.loc[dfnms['Rank']=='species', 'classification'].value_counts().head().values.tolist()\n",
    "\n",
    "val"
   ]
  },
  {
   "cell_type": "code",
   "execution_count": 66,
   "metadata": {},
   "outputs": [
    {
     "data": {
      "text/plain": [
       "([<matplotlib.patches.Wedge at 0x7f63dbbcecf8>,\n",
       "  <matplotlib.patches.Wedge at 0x7f63dbbd9240>,\n",
       "  <matplotlib.patches.Wedge at 0x7f63dbbd9748>,\n",
       "  <matplotlib.patches.Wedge at 0x7f63dbbd9c50>,\n",
       "  <matplotlib.patches.Wedge at 0x7f63dbb65198>],\n",
       " [Text(0.5008115710591806, 0.9793813201676023, 'Escherichia coli'),\n",
       "  Text(-1.0832579886034621, 0.19118611384402787, 'Staphylococcus aureus'),\n",
       "  Text(-0.5567953619470039, -0.9486721904400408, 'Candida albicans'),\n",
       "  Text(0.3720893192614984, -1.0351567700070916, 'Bacillus subtilis'),\n",
       "  Text(1.014455550941672, -0.42529981796801747, 'Catharanthus roseus')])"
      ]
     },
     "execution_count": 66,
     "metadata": {},
     "output_type": "execute_result"
    },
    {
     "data": {
      "image/png": "[encoded data removed]",
      "text/plain": [
       "<Figure size 432x288 with 1 Axes>"
      ]
     },
     "metadata": {},
     "output_type": "display_data"
    }
   ],
   "source": [
    "plt.pie(val, labels=name)"
   ]
  },
  {
   "cell_type": "code",
   "execution_count": 54,
   "metadata": {},
   "outputs": [],
   "source": [
    "plt.pie(val, labels=name)\n",
    "with PdfPages('pie_chart.pdf') as pdf:\n",
    "    pdf.savefig()  # saves the current figure into a pdf page\n",
    "    plt.close()"
   ]
  }
 ],
 "metadata": {
  "kernelspec": {
   "display_name": "Python 3",
   "language": "python",
   "name": "python3"
  },
  "language_info": {
   "codemirror_mode": {
    "name": "ipython",
    "version": 3
   },
   "file_extension": ".py",
   "mimetype": "text/x-python",
   "name": "python",
   "nbconvert_exporter": "python",
   "pygments_lexer": "ipython3",
   "version": "3.6.5"
  }
 },
 "nbformat": 4,
 "nbformat_minor": 4
}
