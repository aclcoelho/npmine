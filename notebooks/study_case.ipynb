{
 "cells": [
  {
   "cell_type": "code",
   "execution_count": 96,
   "metadata": {},
   "outputs": [],
   "source": [
    "from rdkit import Chem\n",
    "import pandas as pd\n",
    "import numpy as np\n",
    "\n",
    "from IPython.display import SVG\n",
    "from rdkit.Chem import Draw\n",
    "\n",
    "import json\n",
    "import re"
   ]
  },
  {
   "cell_type": "code",
   "execution_count": 2,
   "metadata": {},
   "outputs": [
    {
     "name": "stderr",
     "output_type": "stream",
     "text": [
      "/home/rsilva/miniconda3/envs/nplibrary/lib/python3.6/site-packages/IPython/core/interactiveshell.py:3051: DtypeWarning: Columns (1,5) have mixed types. Specify dtype option on import or set low_memory=False.\n",
      "  interactivity=interactivity, compiler=compiler, result=result)\n",
      "/home/rsilva/miniconda3/envs/nplibrary/lib/python3.6/site-packages/IPython/core/interactiveshell.py:3051: DtypeWarning: Columns (1) have mixed types. Specify dtype option on import or set low_memory=False.\n",
      "  interactivity=interactivity, compiler=compiler, result=result)\n"
     ]
    }
   ],
   "source": [
    "jnatprod = pd.read_csv('data/entities_img_dataframe_jnatprod.tsv', sep='\\t')  \n",
    "metabo = pd.read_csv('data/entities_img_dataframe_metabo.tsv', sep='\\t')\n",
    "phytorev = pd.read_csv('data/entities_img_dataframe_phytorev.tsv', sep='\\t')  \n",
    "qn = pd.read_csv('data/entities_img_dataframe_qn.tsv', sep='\\t')\n",
    "chrom_a = pd.read_csv('data/entities_img_dataframe_chroma_a.tsv', sep='\\t')\n",
    "chrom_b = pd.read_csv('data/entities_img_dataframe_chroma_b.tsv', sep='\\t')\n",
    "\n",
    "gn_jnatprod = pd.read_csv('data/gn_dataframe_jnatprod.tsv', sep='\\t')  \n",
    "gn_metabo = pd.read_csv('data/gn_dataframe_metabo.tsv', sep='\\t')  \n",
    "gn_phytorev = pd.read_csv('data/gn_dataframe_phytorev.tsv', sep='\\t')  \n",
    "gn_qn = pd.read_csv('data/gn_dataframe_qn.tsv', sep='\\t')\n",
    "gn_chrom_a = pd.read_csv('data/gn_dataframe_chroma_a.tsv', sep='\\t')\n",
    "gn_chrom_b = pd.read_csv('data/gn_dataframe_chroma_b.tsv', sep='\\t')"
   ]
  },
  {
   "cell_type": "code",
   "execution_count": 3,
   "metadata": {},
   "outputs": [
    {
     "data": {
      "text/html": [
       "<div>\n",
       "<style scoped>\n",
       "    .dataframe tbody tr th:only-of-type {\n",
       "        vertical-align: middle;\n",
       "    }\n",
       "\n",
       "    .dataframe tbody tr th {\n",
       "        vertical-align: top;\n",
       "    }\n",
       "\n",
       "    .dataframe thead th {\n",
       "        text-align: right;\n",
       "    }\n",
       "</style>\n",
       "<table border=\"1\" class=\"dataframe\">\n",
       "  <thead>\n",
       "    <tr style=\"text-align: right;\">\n",
       "      <th></th>\n",
       "      <th>doi</th>\n",
       "      <th>smiles</th>\n",
       "      <th>standardInChIKey</th>\n",
       "      <th>ExactMolWt</th>\n",
       "      <th>pubchem</th>\n",
       "      <th>standardInChI</th>\n",
       "      <th>source</th>\n",
       "    </tr>\n",
       "  </thead>\n",
       "  <tbody>\n",
       "    <tr>\n",
       "      <th>0</th>\n",
       "      <td>np50051a041</td>\n",
       "      <td>NaN</td>\n",
       "      <td>MBMQEIFVQACCCH-QBODLPLBSA-N</td>\n",
       "      <td>318.146724</td>\n",
       "      <td>5.28158e+06</td>\n",
       "      <td>InChI=1S/C18H22O5/c1-12-6-5-9-14(19)8-4-2-3-7-...</td>\n",
       "      <td>oscar</td>\n",
       "    </tr>\n",
       "    <tr>\n",
       "      <th>1</th>\n",
       "      <td>np50051a041</td>\n",
       "      <td>NaN</td>\n",
       "      <td>RGSFGYAAUTVSQA-UHFFFAOYSA-N</td>\n",
       "      <td>70.078250</td>\n",
       "      <td>9253</td>\n",
       "      <td>InChI=1S/C5H10/c1-2-4-5-3-1/h1-5H2</td>\n",
       "      <td>oscar</td>\n",
       "    </tr>\n",
       "    <tr>\n",
       "      <th>2</th>\n",
       "      <td>np50051a041</td>\n",
       "      <td>NaN</td>\n",
       "      <td>OKTJSMMVPCPJKN-UHFFFAOYSA-N</td>\n",
       "      <td>12.000000</td>\n",
       "      <td>5.46231e+06</td>\n",
       "      <td>InChI=1S/C</td>\n",
       "      <td>oscar</td>\n",
       "    </tr>\n",
       "    <tr>\n",
       "      <th>3</th>\n",
       "      <td>np50051a041</td>\n",
       "      <td>NaN</td>\n",
       "      <td>BUGBHKTXTAQXES-UHFFFAOYSA-N</td>\n",
       "      <td>79.916521</td>\n",
       "      <td>6.32697e+06</td>\n",
       "      <td>InChI=1S/Se</td>\n",
       "      <td>oscar</td>\n",
       "    </tr>\n",
       "    <tr>\n",
       "      <th>4</th>\n",
       "      <td>np50051a041</td>\n",
       "      <td>NaN</td>\n",
       "      <td>OKTJSMMVPCPJKN-UHFFFAOYSA-N</td>\n",
       "      <td>12.000000</td>\n",
       "      <td>5.46231e+06</td>\n",
       "      <td>InChI=1S/C</td>\n",
       "      <td>oscar</td>\n",
       "    </tr>\n",
       "  </tbody>\n",
       "</table>\n",
       "</div>"
      ],
      "text/plain": [
       "           doi smiles             standardInChIKey  ExactMolWt      pubchem  \\\n",
       "0  np50051a041    NaN  MBMQEIFVQACCCH-QBODLPLBSA-N  318.146724  5.28158e+06   \n",
       "1  np50051a041    NaN  RGSFGYAAUTVSQA-UHFFFAOYSA-N   70.078250         9253   \n",
       "2  np50051a041    NaN  OKTJSMMVPCPJKN-UHFFFAOYSA-N   12.000000  5.46231e+06   \n",
       "3  np50051a041    NaN  BUGBHKTXTAQXES-UHFFFAOYSA-N   79.916521  6.32697e+06   \n",
       "4  np50051a041    NaN  OKTJSMMVPCPJKN-UHFFFAOYSA-N   12.000000  5.46231e+06   \n",
       "\n",
       "                                       standardInChI source  \n",
       "0  InChI=1S/C18H22O5/c1-12-6-5-9-14(19)8-4-2-3-7-...  oscar  \n",
       "1                 InChI=1S/C5H10/c1-2-4-5-3-1/h1-5H2  oscar  \n",
       "2                                         InChI=1S/C  oscar  \n",
       "3                                        InChI=1S/Se  oscar  \n",
       "4                                         InChI=1S/C  oscar  "
      ]
     },
     "execution_count": 3,
     "metadata": {},
     "output_type": "execute_result"
    }
   ],
   "source": [
    "gn = pd.concat([gn_jnatprod, gn_metabo,\n",
    "                gn_phytorev, gn_qn, gn_chrom_a, gn_chrom_b])\n",
    "\n",
    "entity = pd.concat([jnatprod, metabo, phytorev, qn, chrom_a, chrom_b])\n",
    "\n",
    "entity.head()"
   ]
  },
  {
   "cell_type": "code",
   "execution_count": 4,
   "metadata": {},
   "outputs": [
    {
     "data": {
      "text/html": [
       "<div>\n",
       "<style scoped>\n",
       "    .dataframe tbody tr th:only-of-type {\n",
       "        vertical-align: middle;\n",
       "    }\n",
       "\n",
       "    .dataframe tbody tr th {\n",
       "        vertical-align: top;\n",
       "    }\n",
       "\n",
       "    .dataframe thead th {\n",
       "        text-align: right;\n",
       "    }\n",
       "</style>\n",
       "<table border=\"1\" class=\"dataframe\">\n",
       "  <thead>\n",
       "    <tr style=\"text-align: right;\">\n",
       "      <th></th>\n",
       "      <th>doi</th>\n",
       "      <th>verbatim</th>\n",
       "      <th>odds</th>\n",
       "      <th>dataSourceId</th>\n",
       "      <th>taxonId</th>\n",
       "      <th>classificationPath</th>\n",
       "      <th>classificationRank</th>\n",
       "      <th>matchType</th>\n",
       "    </tr>\n",
       "  </thead>\n",
       "  <tbody>\n",
       "    <tr>\n",
       "      <th>2049</th>\n",
       "      <td>np000030f_gn.txt</td>\n",
       "      <td>Sarcophyton</td>\n",
       "      <td>8.553086e+03</td>\n",
       "      <td>1</td>\n",
       "      <td>55014845</td>\n",
       "      <td>Plantae|Tracheophyta|Liliopsida|Asparagales|Or...</td>\n",
       "      <td>kingdom|phylum|class|order|family|genus</td>\n",
       "      <td>ExactMatch</td>\n",
       "    </tr>\n",
       "    <tr>\n",
       "      <th>4425</th>\n",
       "      <td>np960174n_gn.txt</td>\n",
       "      <td>Sarcophyton</td>\n",
       "      <td>8.553086e+03</td>\n",
       "      <td>1</td>\n",
       "      <td>55014845</td>\n",
       "      <td>Plantae|Tracheophyta|Liliopsida|Asparagales|Or...</td>\n",
       "      <td>kingdom|phylum|class|order|family|genus</td>\n",
       "      <td>ExactMatch</td>\n",
       "    </tr>\n",
       "    <tr>\n",
       "      <th>4429</th>\n",
       "      <td>np960174n_gn.txt</td>\n",
       "      <td>Sarcophyton</td>\n",
       "      <td>8.553086e+03</td>\n",
       "      <td>1</td>\n",
       "      <td>55014845</td>\n",
       "      <td>Plantae|Tracheophyta|Liliopsida|Asparagales|Or...</td>\n",
       "      <td>kingdom|phylum|class|order|family|genus</td>\n",
       "      <td>ExactMatch</td>\n",
       "    </tr>\n",
       "    <tr>\n",
       "      <th>4799</th>\n",
       "      <td>np50074a006_gn.txt</td>\n",
       "      <td>COELOGYNE</td>\n",
       "      <td>8.571471e+04</td>\n",
       "      <td>1</td>\n",
       "      <td>54840775</td>\n",
       "      <td>Plantae|Tracheophyta|Liliopsida|Asparagales|Or...</td>\n",
       "      <td>kingdom|phylum|class|order|family|genus</td>\n",
       "      <td>ExactMatch</td>\n",
       "    </tr>\n",
       "    <tr>\n",
       "      <th>4802</th>\n",
       "      <td>np50074a006_gn.txt</td>\n",
       "      <td>Coelogyne ochracea,</td>\n",
       "      <td>3.096601e+11</td>\n",
       "      <td>1</td>\n",
       "      <td>43018096</td>\n",
       "      <td>Plantae|Tracheophyta|Liliopsida|Asparagales|Or...</td>\n",
       "      <td>kingdom|phylum|class|order|family|genus|species</td>\n",
       "      <td>ExactCanonicalMatch</td>\n",
       "    </tr>\n",
       "  </tbody>\n",
       "</table>\n",
       "</div>"
      ],
      "text/plain": [
       "                     doi             verbatim          odds dataSourceId  \\\n",
       "2049    np000030f_gn.txt          Sarcophyton  8.553086e+03            1   \n",
       "4425    np960174n_gn.txt          Sarcophyton  8.553086e+03            1   \n",
       "4429    np960174n_gn.txt          Sarcophyton  8.553086e+03            1   \n",
       "4799  np50074a006_gn.txt            COELOGYNE  8.571471e+04            1   \n",
       "4802  np50074a006_gn.txt  Coelogyne ochracea,  3.096601e+11            1   \n",
       "\n",
       "       taxonId                                 classificationPath  \\\n",
       "2049  55014845  Plantae|Tracheophyta|Liliopsida|Asparagales|Or...   \n",
       "4425  55014845  Plantae|Tracheophyta|Liliopsida|Asparagales|Or...   \n",
       "4429  55014845  Plantae|Tracheophyta|Liliopsida|Asparagales|Or...   \n",
       "4799  54840775  Plantae|Tracheophyta|Liliopsida|Asparagales|Or...   \n",
       "4802  43018096  Plantae|Tracheophyta|Liliopsida|Asparagales|Or...   \n",
       "\n",
       "                                   classificationRank            matchType  \n",
       "2049          kingdom|phylum|class|order|family|genus           ExactMatch  \n",
       "4425          kingdom|phylum|class|order|family|genus           ExactMatch  \n",
       "4429          kingdom|phylum|class|order|family|genus           ExactMatch  \n",
       "4799          kingdom|phylum|class|order|family|genus           ExactMatch  \n",
       "4802  kingdom|phylum|class|order|family|genus|species  ExactCanonicalMatch  "
      ]
     },
     "execution_count": 4,
     "metadata": {},
     "output_type": "execute_result"
    }
   ],
   "source": [
    "gn.fillna('', inplace=True)\n",
    "orch = gn[gn['classificationPath'].str.contains('Orchidaceae')]\n",
    "orch.head()"
   ]
  },
  {
   "cell_type": "code",
   "execution_count": 5,
   "metadata": {},
   "outputs": [
    {
     "name": "stderr",
     "output_type": "stream",
     "text": [
      "/home/rsilva/miniconda3/envs/nplibrary/lib/python3.6/site-packages/ipykernel_launcher.py:1: SettingWithCopyWarning: \n",
      "A value is trying to be set on a copy of a slice from a DataFrame.\n",
      "Try using .loc[row_indexer,col_indexer] = value instead\n",
      "\n",
      "See the caveats in the documentation: http://pandas.pydata.org/pandas-docs/stable/user_guide/indexing.html#returning-a-view-versus-a-copy\n",
      "  \"\"\"Entry point for launching an IPython kernel.\n"
     ]
    },
    {
     "data": {
      "text/html": [
       "<div>\n",
       "<style scoped>\n",
       "    .dataframe tbody tr th:only-of-type {\n",
       "        vertical-align: middle;\n",
       "    }\n",
       "\n",
       "    .dataframe tbody tr th {\n",
       "        vertical-align: top;\n",
       "    }\n",
       "\n",
       "    .dataframe thead th {\n",
       "        text-align: right;\n",
       "    }\n",
       "</style>\n",
       "<table border=\"1\" class=\"dataframe\">\n",
       "  <thead>\n",
       "    <tr style=\"text-align: right;\">\n",
       "      <th></th>\n",
       "      <th>doi</th>\n",
       "      <th>verbatim</th>\n",
       "      <th>odds</th>\n",
       "      <th>dataSourceId</th>\n",
       "      <th>taxonId</th>\n",
       "      <th>classificationPath</th>\n",
       "      <th>classificationRank</th>\n",
       "      <th>matchType</th>\n",
       "    </tr>\n",
       "  </thead>\n",
       "  <tbody>\n",
       "    <tr>\n",
       "      <th>2049</th>\n",
       "      <td>np000030f</td>\n",
       "      <td>Sarcophyton</td>\n",
       "      <td>8.553086e+03</td>\n",
       "      <td>1</td>\n",
       "      <td>55014845</td>\n",
       "      <td>Plantae|Tracheophyta|Liliopsida|Asparagales|Or...</td>\n",
       "      <td>kingdom|phylum|class|order|family|genus</td>\n",
       "      <td>ExactMatch</td>\n",
       "    </tr>\n",
       "    <tr>\n",
       "      <th>4425</th>\n",
       "      <td>np960174n</td>\n",
       "      <td>Sarcophyton</td>\n",
       "      <td>8.553086e+03</td>\n",
       "      <td>1</td>\n",
       "      <td>55014845</td>\n",
       "      <td>Plantae|Tracheophyta|Liliopsida|Asparagales|Or...</td>\n",
       "      <td>kingdom|phylum|class|order|family|genus</td>\n",
       "      <td>ExactMatch</td>\n",
       "    </tr>\n",
       "    <tr>\n",
       "      <th>4429</th>\n",
       "      <td>np960174n</td>\n",
       "      <td>Sarcophyton</td>\n",
       "      <td>8.553086e+03</td>\n",
       "      <td>1</td>\n",
       "      <td>55014845</td>\n",
       "      <td>Plantae|Tracheophyta|Liliopsida|Asparagales|Or...</td>\n",
       "      <td>kingdom|phylum|class|order|family|genus</td>\n",
       "      <td>ExactMatch</td>\n",
       "    </tr>\n",
       "    <tr>\n",
       "      <th>4799</th>\n",
       "      <td>np50074a006</td>\n",
       "      <td>COELOGYNE</td>\n",
       "      <td>8.571471e+04</td>\n",
       "      <td>1</td>\n",
       "      <td>54840775</td>\n",
       "      <td>Plantae|Tracheophyta|Liliopsida|Asparagales|Or...</td>\n",
       "      <td>kingdom|phylum|class|order|family|genus</td>\n",
       "      <td>ExactMatch</td>\n",
       "    </tr>\n",
       "    <tr>\n",
       "      <th>4802</th>\n",
       "      <td>np50074a006</td>\n",
       "      <td>Coelogyne ochracea,</td>\n",
       "      <td>3.096601e+11</td>\n",
       "      <td>1</td>\n",
       "      <td>43018096</td>\n",
       "      <td>Plantae|Tracheophyta|Liliopsida|Asparagales|Or...</td>\n",
       "      <td>kingdom|phylum|class|order|family|genus|species</td>\n",
       "      <td>ExactCanonicalMatch</td>\n",
       "    </tr>\n",
       "  </tbody>\n",
       "</table>\n",
       "</div>"
      ],
      "text/plain": [
       "              doi             verbatim          odds dataSourceId   taxonId  \\\n",
       "2049    np000030f          Sarcophyton  8.553086e+03            1  55014845   \n",
       "4425    np960174n          Sarcophyton  8.553086e+03            1  55014845   \n",
       "4429    np960174n          Sarcophyton  8.553086e+03            1  55014845   \n",
       "4799  np50074a006            COELOGYNE  8.571471e+04            1  54840775   \n",
       "4802  np50074a006  Coelogyne ochracea,  3.096601e+11            1  43018096   \n",
       "\n",
       "                                     classificationPath  \\\n",
       "2049  Plantae|Tracheophyta|Liliopsida|Asparagales|Or...   \n",
       "4425  Plantae|Tracheophyta|Liliopsida|Asparagales|Or...   \n",
       "4429  Plantae|Tracheophyta|Liliopsida|Asparagales|Or...   \n",
       "4799  Plantae|Tracheophyta|Liliopsida|Asparagales|Or...   \n",
       "4802  Plantae|Tracheophyta|Liliopsida|Asparagales|Or...   \n",
       "\n",
       "                                   classificationRank            matchType  \n",
       "2049          kingdom|phylum|class|order|family|genus           ExactMatch  \n",
       "4425          kingdom|phylum|class|order|family|genus           ExactMatch  \n",
       "4429          kingdom|phylum|class|order|family|genus           ExactMatch  \n",
       "4799          kingdom|phylum|class|order|family|genus           ExactMatch  \n",
       "4802  kingdom|phylum|class|order|family|genus|species  ExactCanonicalMatch  "
      ]
     },
     "execution_count": 5,
     "metadata": {},
     "output_type": "execute_result"
    }
   ],
   "source": [
    "orch['doi'] = orch['doi'].str.replace('_gn.txt', '')\n",
    "orch.head()"
   ]
  },
  {
   "cell_type": "code",
   "execution_count": 6,
   "metadata": {},
   "outputs": [
    {
     "data": {
      "text/plain": [
       "(1356, 8)"
      ]
     },
     "execution_count": 6,
     "metadata": {},
     "output_type": "execute_result"
    }
   ],
   "source": [
    "orch.shape"
   ]
  },
  {
   "cell_type": "code",
   "execution_count": 7,
   "metadata": {},
   "outputs": [],
   "source": [
    "orch_entity = entity[entity['doi'].isin(orch['doi'])]"
   ]
  },
  {
   "cell_type": "code",
   "execution_count": 8,
   "metadata": {},
   "outputs": [
    {
     "data": {
      "text/plain": [
       "5557"
      ]
     },
     "execution_count": 8,
     "metadata": {},
     "output_type": "execute_result"
    }
   ],
   "source": [
    "len(orch_entity['pubchem'].unique())"
   ]
  },
  {
   "cell_type": "code",
   "execution_count": 10,
   "metadata": {},
   "outputs": [
    {
     "data": {
      "text/html": [
       "<div>\n",
       "<style scoped>\n",
       "    .dataframe tbody tr th:only-of-type {\n",
       "        vertical-align: middle;\n",
       "    }\n",
       "\n",
       "    .dataframe tbody tr th {\n",
       "        vertical-align: top;\n",
       "    }\n",
       "\n",
       "    .dataframe thead th {\n",
       "        text-align: right;\n",
       "    }\n",
       "</style>\n",
       "<table border=\"1\" class=\"dataframe\">\n",
       "  <thead>\n",
       "    <tr style=\"text-align: right;\">\n",
       "      <th></th>\n",
       "      <th>AID</th>\n",
       "      <th>AID Version</th>\n",
       "      <th>AID Revision</th>\n",
       "      <th>Panel Member ID</th>\n",
       "      <th>SID</th>\n",
       "      <th>CID</th>\n",
       "      <th>Bioactivity Outcome</th>\n",
       "      <th>Target GI</th>\n",
       "      <th>Target GeneID</th>\n",
       "      <th>Activity Value [uM]</th>\n",
       "      <th>Activity Name</th>\n",
       "      <th>Assay Name</th>\n",
       "      <th>Bioassay Type</th>\n",
       "      <th>PubMed ID</th>\n",
       "      <th>RNAi</th>\n",
       "    </tr>\n",
       "  </thead>\n",
       "  <tbody>\n",
       "    <tr>\n",
       "      <th>0</th>\n",
       "      <td>357</td>\n",
       "      <td>2</td>\n",
       "      <td>1</td>\n",
       "      <td>NaN</td>\n",
       "      <td>11111663</td>\n",
       "      <td>1045</td>\n",
       "      <td>Inactive</td>\n",
       "      <td>NaN</td>\n",
       "      <td>NaN</td>\n",
       "      <td>NaN</td>\n",
       "      <td>NaN</td>\n",
       "      <td>AP1 Signaling Pathway</td>\n",
       "      <td>Confirmatory</td>\n",
       "      <td>NaN</td>\n",
       "      <td>NaN</td>\n",
       "    </tr>\n",
       "    <tr>\n",
       "      <th>1</th>\n",
       "      <td>410</td>\n",
       "      <td>1</td>\n",
       "      <td>5</td>\n",
       "      <td>NaN</td>\n",
       "      <td>11111663</td>\n",
       "      <td>1045</td>\n",
       "      <td>Inactive</td>\n",
       "      <td>73915100.0</td>\n",
       "      <td>1544.0</td>\n",
       "      <td>NaN</td>\n",
       "      <td>NaN</td>\n",
       "      <td>p450-cyp1a2</td>\n",
       "      <td>Confirmatory</td>\n",
       "      <td>NaN</td>\n",
       "      <td>NaN</td>\n",
       "    </tr>\n",
       "    <tr>\n",
       "      <th>2</th>\n",
       "      <td>411</td>\n",
       "      <td>2</td>\n",
       "      <td>1</td>\n",
       "      <td>NaN</td>\n",
       "      <td>11111663</td>\n",
       "      <td>1045</td>\n",
       "      <td>Inactive</td>\n",
       "      <td>160794.0</td>\n",
       "      <td>116160065.0</td>\n",
       "      <td>NaN</td>\n",
       "      <td>Potency</td>\n",
       "      <td>qHTS Assay for Inhibitors of Firefly Luciferase</td>\n",
       "      <td>Confirmatory</td>\n",
       "      <td>NaN</td>\n",
       "      <td>NaN</td>\n",
       "    </tr>\n",
       "    <tr>\n",
       "      <th>3</th>\n",
       "      <td>444</td>\n",
       "      <td>1</td>\n",
       "      <td>1</td>\n",
       "      <td>NaN</td>\n",
       "      <td>11111663</td>\n",
       "      <td>1045</td>\n",
       "      <td>Inactive</td>\n",
       "      <td>NaN</td>\n",
       "      <td>NaN</td>\n",
       "      <td>NaN</td>\n",
       "      <td>NaN</td>\n",
       "      <td>NFAT Signaling Pathway</td>\n",
       "      <td>Confirmatory</td>\n",
       "      <td>NaN</td>\n",
       "      <td>NaN</td>\n",
       "    </tr>\n",
       "    <tr>\n",
       "      <th>4</th>\n",
       "      <td>445</td>\n",
       "      <td>3</td>\n",
       "      <td>1</td>\n",
       "      <td>NaN</td>\n",
       "      <td>11111663</td>\n",
       "      <td>1045</td>\n",
       "      <td>Inactive</td>\n",
       "      <td>10092619.0</td>\n",
       "      <td>4792.0</td>\n",
       "      <td>NaN</td>\n",
       "      <td>NaN</td>\n",
       "      <td>IkB Signaling</td>\n",
       "      <td>Confirmatory</td>\n",
       "      <td>NaN</td>\n",
       "      <td>NaN</td>\n",
       "    </tr>\n",
       "  </tbody>\n",
       "</table>\n",
       "</div>"
      ],
      "text/plain": [
       "   AID  AID Version  AID Revision  Panel Member ID       SID   CID  \\\n",
       "0  357            2             1              NaN  11111663  1045   \n",
       "1  410            1             5              NaN  11111663  1045   \n",
       "2  411            2             1              NaN  11111663  1045   \n",
       "3  444            1             1              NaN  11111663  1045   \n",
       "4  445            3             1              NaN  11111663  1045   \n",
       "\n",
       "  Bioactivity Outcome   Target GI  Target GeneID  Activity Value [uM]  \\\n",
       "0            Inactive         NaN            NaN                  NaN   \n",
       "1            Inactive  73915100.0         1544.0                  NaN   \n",
       "2            Inactive    160794.0    116160065.0                  NaN   \n",
       "3            Inactive         NaN            NaN                  NaN   \n",
       "4            Inactive  10092619.0         4792.0                  NaN   \n",
       "\n",
       "  Activity Name                                       Assay Name  \\\n",
       "0           NaN                            AP1 Signaling Pathway   \n",
       "1           NaN                                      p450-cyp1a2   \n",
       "2       Potency  qHTS Assay for Inhibitors of Firefly Luciferase   \n",
       "3           NaN                           NFAT Signaling Pathway   \n",
       "4           NaN                                    IkB Signaling   \n",
       "\n",
       "  Bioassay Type  PubMed ID  RNAi  \n",
       "0  Confirmatory        NaN   NaN  \n",
       "1  Confirmatory        NaN   NaN  \n",
       "2  Confirmatory        NaN   NaN  \n",
       "3  Confirmatory        NaN   NaN  \n",
       "4  Confirmatory        NaN   NaN  "
      ]
     },
     "execution_count": 10,
     "metadata": {},
     "output_type": "execute_result"
    }
   ],
   "source": [
    "bioactivity_outcome = pd.read_csv('data/pubchem_bioactivity_results.tsv', sep='\\t')\n",
    "bioactivity_outcome.head()"
   ]
  },
  {
   "cell_type": "code",
   "execution_count": 11,
   "metadata": {},
   "outputs": [
    {
     "name": "stderr",
     "output_type": "stream",
     "text": [
      "/home/rsilva/miniconda3/envs/nplibrary/lib/python3.6/site-packages/numpy/lib/arraysetops.py:569: FutureWarning: elementwise comparison failed; returning scalar instead, but in the future will perform elementwise comparison\n",
      "  mask |= (ar1 == a)\n"
     ]
    },
    {
     "data": {
      "text/plain": [
       "(1218674, 15)"
      ]
     },
     "execution_count": 11,
     "metadata": {},
     "output_type": "execute_result"
    }
   ],
   "source": [
    "bioactivity_orch = bioactivity_outcome[bioactivity_outcome['CID'].isin(orch_entity['pubchem'].unique())]\n",
    "bioactivity_orch.shape"
   ]
  },
  {
   "cell_type": "code",
   "execution_count": 12,
   "metadata": {},
   "outputs": [
    {
     "data": {
      "text/plain": [
       "2541"
      ]
     },
     "execution_count": 12,
     "metadata": {},
     "output_type": "execute_result"
    }
   ],
   "source": [
    "len(bioactivity_orch['CID'].unique())"
   ]
  },
  {
   "cell_type": "code",
   "execution_count": 13,
   "metadata": {},
   "outputs": [
    {
     "data": {
      "text/plain": [
       "Confirmatory    660170\n",
       "Other           239227\n",
       "Screening       226710\n",
       "Summary          92567\n",
       "Name: Bioassay Type, dtype: int64"
      ]
     },
     "execution_count": 13,
     "metadata": {},
     "output_type": "execute_result"
    }
   ],
   "source": [
    "bioactivity_orch['Bioassay Type'].value_counts()"
   ]
  },
  {
   "cell_type": "code",
   "execution_count": 14,
   "metadata": {},
   "outputs": [
    {
     "data": {
      "text/html": [
       "<div>\n",
       "<style scoped>\n",
       "    .dataframe tbody tr th:only-of-type {\n",
       "        vertical-align: middle;\n",
       "    }\n",
       "\n",
       "    .dataframe tbody tr th {\n",
       "        vertical-align: top;\n",
       "    }\n",
       "\n",
       "    .dataframe thead th {\n",
       "        text-align: right;\n",
       "    }\n",
       "</style>\n",
       "<table border=\"1\" class=\"dataframe\">\n",
       "  <thead>\n",
       "    <tr style=\"text-align: right;\">\n",
       "      <th></th>\n",
       "      <th>doi</th>\n",
       "      <th>smiles</th>\n",
       "      <th>standardInChIKey</th>\n",
       "      <th>ExactMolWt</th>\n",
       "      <th>pubchem</th>\n",
       "      <th>standardInChI</th>\n",
       "      <th>source</th>\n",
       "    </tr>\n",
       "  </thead>\n",
       "  <tbody>\n",
       "    <tr>\n",
       "      <th>1387</th>\n",
       "      <td>np200766d</td>\n",
       "      <td>NaN</td>\n",
       "      <td>HEDRZPFGACZZDS-MICDWDOJSA-N</td>\n",
       "      <td>118.920660</td>\n",
       "      <td>71583</td>\n",
       "      <td>InChI=1S/CHCl3/c2-1(3)4/h1H/i1D</td>\n",
       "      <td>oscar</td>\n",
       "    </tr>\n",
       "    <tr>\n",
       "      <th>1388</th>\n",
       "      <td>np200766d</td>\n",
       "      <td>NaN</td>\n",
       "      <td>CSCPPACGZOOCGX-UHFFFAOYSA-N</td>\n",
       "      <td>58.041865</td>\n",
       "      <td>180</td>\n",
       "      <td>InChI=1S/C3H6O/c1-3(2)4/h1-2H3</td>\n",
       "      <td>oscar</td>\n",
       "    </tr>\n",
       "    <tr>\n",
       "      <th>1389</th>\n",
       "      <td>np200766d</td>\n",
       "      <td>NaN</td>\n",
       "      <td>MJQHZNBUODTQTK-WKGBVCLCSA-N</td>\n",
       "      <td>630.200729</td>\n",
       "      <td>1.19663e+07</td>\n",
       "      <td>InChI=1S/C24H38O19/c25-1-5-9(27)11(29)12(30)22...</td>\n",
       "      <td>oscar</td>\n",
       "    </tr>\n",
       "    <tr>\n",
       "      <th>1390</th>\n",
       "      <td>np200766d</td>\n",
       "      <td>NaN</td>\n",
       "      <td>QVGXLLKOCUKJST-UHFFFAOYSA-N</td>\n",
       "      <td>15.994915</td>\n",
       "      <td>159832</td>\n",
       "      <td>InChI=1S/O</td>\n",
       "      <td>oscar</td>\n",
       "    </tr>\n",
       "    <tr>\n",
       "      <th>1391</th>\n",
       "      <td>np200766d</td>\n",
       "      <td>NaN</td>\n",
       "      <td>JUJWROOIHBZHMG-UHFFFAOYSA-N</td>\n",
       "      <td>79.042199</td>\n",
       "      <td>1049</td>\n",
       "      <td>InChI=1S/C5H5N/c1-2-4-6-5-3-1/h1-5H</td>\n",
       "      <td>oscar</td>\n",
       "    </tr>\n",
       "  </tbody>\n",
       "</table>\n",
       "</div>"
      ],
      "text/plain": [
       "            doi smiles             standardInChIKey  ExactMolWt      pubchem  \\\n",
       "1387  np200766d    NaN  HEDRZPFGACZZDS-MICDWDOJSA-N  118.920660        71583   \n",
       "1388  np200766d    NaN  CSCPPACGZOOCGX-UHFFFAOYSA-N   58.041865          180   \n",
       "1389  np200766d    NaN  MJQHZNBUODTQTK-WKGBVCLCSA-N  630.200729  1.19663e+07   \n",
       "1390  np200766d    NaN  QVGXLLKOCUKJST-UHFFFAOYSA-N   15.994915       159832   \n",
       "1391  np200766d    NaN  JUJWROOIHBZHMG-UHFFFAOYSA-N   79.042199         1049   \n",
       "\n",
       "                                          standardInChI source  \n",
       "1387                    InChI=1S/CHCl3/c2-1(3)4/h1H/i1D  oscar  \n",
       "1388                     InChI=1S/C3H6O/c1-3(2)4/h1-2H3  oscar  \n",
       "1389  InChI=1S/C24H38O19/c25-1-5-9(27)11(29)12(30)22...  oscar  \n",
       "1390                                         InChI=1S/O  oscar  \n",
       "1391                InChI=1S/C5H5N/c1-2-4-6-5-3-1/h1-5H  oscar  "
      ]
     },
     "execution_count": 14,
     "metadata": {},
     "output_type": "execute_result"
    }
   ],
   "source": [
    "orch_entity.head()"
   ]
  },
  {
   "cell_type": "code",
   "execution_count": 15,
   "metadata": {},
   "outputs": [
    {
     "data": {
      "text/plain": [
       "(616, 7)"
      ]
     },
     "execution_count": 15,
     "metadata": {},
     "output_type": "execute_result"
    }
   ],
   "source": [
    "orch_entity[(orch_entity['source']=='osra') & \n",
    "            (orch_entity['pubchem'].isin(bioactivity_orch['CID'].unique()))].shape\n",
    "                "
   ]
  },
  {
   "cell_type": "code",
   "execution_count": 16,
   "metadata": {},
   "outputs": [],
   "source": [
    "orch_sel = orch_entity[(orch_entity['source']=='osra') & \n",
    "                       (orch_entity['pubchem'].isin(bioactivity_orch.loc[bioactivity_orch['Bioassay Type']=='Confirmatory',\n",
    "                                                                     'CID'].unique()))]"
   ]
  },
  {
   "cell_type": "code",
   "execution_count": 17,
   "metadata": {},
   "outputs": [
    {
     "data": {
      "text/plain": [
       "(474, 7)"
      ]
     },
     "execution_count": 17,
     "metadata": {},
     "output_type": "execute_result"
    }
   ],
   "source": [
    "orch_sel.shape"
   ]
  },
  {
   "cell_type": "code",
   "execution_count": 18,
   "metadata": {},
   "outputs": [
    {
     "data": {
      "text/plain": [
       "382"
      ]
     },
     "execution_count": 18,
     "metadata": {},
     "output_type": "execute_result"
    }
   ],
   "source": [
    "len(orch_sel['pubchem'].unique())"
   ]
  },
  {
   "cell_type": "code",
   "execution_count": 19,
   "metadata": {},
   "outputs": [],
   "source": [
    "orch_sel = orch_sel[~orch_sel['pubchem'].duplicated()]"
   ]
  },
  {
   "cell_type": "code",
   "execution_count": 20,
   "metadata": {},
   "outputs": [
    {
     "data": {
      "text/html": [
       "<div>\n",
       "<style scoped>\n",
       "    .dataframe tbody tr th:only-of-type {\n",
       "        vertical-align: middle;\n",
       "    }\n",
       "\n",
       "    .dataframe tbody tr th {\n",
       "        vertical-align: top;\n",
       "    }\n",
       "\n",
       "    .dataframe thead th {\n",
       "        text-align: right;\n",
       "    }\n",
       "</style>\n",
       "<table border=\"1\" class=\"dataframe\">\n",
       "  <thead>\n",
       "    <tr style=\"text-align: right;\">\n",
       "      <th></th>\n",
       "      <th>doi</th>\n",
       "      <th>smiles</th>\n",
       "      <th>standardInChIKey</th>\n",
       "      <th>ExactMolWt</th>\n",
       "      <th>pubchem</th>\n",
       "      <th>standardInChI</th>\n",
       "      <th>source</th>\n",
       "    </tr>\n",
       "  </thead>\n",
       "  <tbody>\n",
       "    <tr>\n",
       "      <th>318782</th>\n",
       "      <td>np800064w</td>\n",
       "      <td>COC(=O)CC1(O)c2nc3ccccc3c(=O)n2c2c1cccc2</td>\n",
       "      <td>CGMNLIDQBYRXFP-UHFFFAOYSA-N</td>\n",
       "      <td>322.095357</td>\n",
       "      <td>2.49706e+07</td>\n",
       "      <td>NaN</td>\n",
       "      <td>osra</td>\n",
       "    </tr>\n",
       "    <tr>\n",
       "      <th>318783</th>\n",
       "      <td>np800064w</td>\n",
       "      <td>Oc1cccc2c1C(=O)c1n2c(=O)c2c(n1)cccc2</td>\n",
       "      <td>WOQXYBJCORZEEE-UHFFFAOYSA-N</td>\n",
       "      <td>264.053492</td>\n",
       "      <td>2.49706e+07</td>\n",
       "      <td>NaN</td>\n",
       "      <td>osra</td>\n",
       "    </tr>\n",
       "    <tr>\n",
       "      <th>318785</th>\n",
       "      <td>np800064w</td>\n",
       "      <td>COC(=O)c1c2[nH]c3ccccc3c(=O)n2c2c1cccc2</td>\n",
       "      <td>SJEKGIWFCNGPHF-UHFFFAOYSA-N</td>\n",
       "      <td>292.084792</td>\n",
       "      <td>2.49706e+07</td>\n",
       "      <td>NaN</td>\n",
       "      <td>osra</td>\n",
       "    </tr>\n",
       "    <tr>\n",
       "      <th>318786</th>\n",
       "      <td>np800064w</td>\n",
       "      <td>COC(=O)C1(O)c2ccccc2N=C2N1c1ccccc1C2=O</td>\n",
       "      <td>KBIGHBLKYNEVDZ-UHFFFAOYSA-N</td>\n",
       "      <td>308.079707</td>\n",
       "      <td>384867</td>\n",
       "      <td>NaN</td>\n",
       "      <td>osra</td>\n",
       "    </tr>\n",
       "    <tr>\n",
       "      <th>318787</th>\n",
       "      <td>np800064w</td>\n",
       "      <td>O=C1c2nc3ccccc3c(=O)n2c2c1cccc2</td>\n",
       "      <td>VQQVWGVXDIPORV-UHFFFAOYSA-N</td>\n",
       "      <td>248.058577</td>\n",
       "      <td>73549</td>\n",
       "      <td>NaN</td>\n",
       "      <td>osra</td>\n",
       "    </tr>\n",
       "  </tbody>\n",
       "</table>\n",
       "</div>"
      ],
      "text/plain": [
       "              doi                                    smiles  \\\n",
       "318782  np800064w  COC(=O)CC1(O)c2nc3ccccc3c(=O)n2c2c1cccc2   \n",
       "318783  np800064w      Oc1cccc2c1C(=O)c1n2c(=O)c2c(n1)cccc2   \n",
       "318785  np800064w   COC(=O)c1c2[nH]c3ccccc3c(=O)n2c2c1cccc2   \n",
       "318786  np800064w    COC(=O)C1(O)c2ccccc2N=C2N1c1ccccc1C2=O   \n",
       "318787  np800064w           O=C1c2nc3ccccc3c(=O)n2c2c1cccc2   \n",
       "\n",
       "                   standardInChIKey  ExactMolWt      pubchem standardInChI  \\\n",
       "318782  CGMNLIDQBYRXFP-UHFFFAOYSA-N  322.095357  2.49706e+07           NaN   \n",
       "318783  WOQXYBJCORZEEE-UHFFFAOYSA-N  264.053492  2.49706e+07           NaN   \n",
       "318785  SJEKGIWFCNGPHF-UHFFFAOYSA-N  292.084792  2.49706e+07           NaN   \n",
       "318786  KBIGHBLKYNEVDZ-UHFFFAOYSA-N  308.079707       384867           NaN   \n",
       "318787  VQQVWGVXDIPORV-UHFFFAOYSA-N  248.058577        73549           NaN   \n",
       "\n",
       "       source  \n",
       "318782   osra  \n",
       "318783   osra  \n",
       "318785   osra  \n",
       "318786   osra  \n",
       "318787   osra  "
      ]
     },
     "execution_count": 20,
     "metadata": {},
     "output_type": "execute_result"
    }
   ],
   "source": [
    "orch_sel.head()"
   ]
  },
  {
   "cell_type": "code",
   "execution_count": 36,
   "metadata": {},
   "outputs": [
    {
     "data": {
      "text/plain": [
       "(382, 7)"
      ]
     },
     "execution_count": 36,
     "metadata": {},
     "output_type": "execute_result"
    }
   ],
   "source": [
    "orch_sel.shape"
   ]
  },
  {
   "cell_type": "code",
   "execution_count": 22,
   "metadata": {},
   "outputs": [],
   "source": [
    "import os\n",
    "if not os.path.exists('figs'):\n",
    "    os.mkdir('figs')"
   ]
  },
  {
   "cell_type": "code",
   "execution_count": 27,
   "metadata": {},
   "outputs": [],
   "source": [
    "from rdkit.Chem import Draw\n",
    "\n",
    "for i in orch_sel.index:\n",
    "    ms = Chem.MolFromSmiles(orch_sel.loc[i, 'smiles'])\n",
    "    Draw.MolToFile(ms,'figs/%s.png' % orch_sel.loc[i, 'pubchem'])"
   ]
  },
  {
   "cell_type": "code",
   "execution_count": 65,
   "metadata": {},
   "outputs": [
    {
     "data": {
      "text/html": [
       "<div>\n",
       "<style scoped>\n",
       "    .dataframe tbody tr th:only-of-type {\n",
       "        vertical-align: middle;\n",
       "    }\n",
       "\n",
       "    .dataframe tbody tr th {\n",
       "        vertical-align: top;\n",
       "    }\n",
       "\n",
       "    .dataframe thead th {\n",
       "        text-align: right;\n",
       "    }\n",
       "</style>\n",
       "<table border=\"1\" class=\"dataframe\">\n",
       "  <thead>\n",
       "    <tr style=\"text-align: right;\">\n",
       "      <th></th>\n",
       "      <th>doi</th>\n",
       "      <th>pubchem</th>\n",
       "      <th>ExactMolWt</th>\n",
       "      <th>smiles</th>\n",
       "    </tr>\n",
       "  </thead>\n",
       "  <tbody>\n",
       "    <tr>\n",
       "      <th>0</th>\n",
       "      <td>np800064w</td>\n",
       "      <td>2.49706e+07</td>\n",
       "      <td>322.095357</td>\n",
       "      <td>COC(=O)CC1(O)c2nc3ccccc3c(=O)n2c2c1cccc2</td>\n",
       "    </tr>\n",
       "    <tr>\n",
       "      <th>1</th>\n",
       "      <td>np800064w</td>\n",
       "      <td>2.49706e+07</td>\n",
       "      <td>264.053492</td>\n",
       "      <td>Oc1cccc2c1C(=O)c1n2c(=O)c2c(n1)cccc2</td>\n",
       "    </tr>\n",
       "    <tr>\n",
       "      <th>2</th>\n",
       "      <td>np800064w</td>\n",
       "      <td>2.49706e+07</td>\n",
       "      <td>292.084792</td>\n",
       "      <td>COC(=O)c1c2[nH]c3ccccc3c(=O)n2c2c1cccc2</td>\n",
       "    </tr>\n",
       "    <tr>\n",
       "      <th>3</th>\n",
       "      <td>np800064w</td>\n",
       "      <td>384867</td>\n",
       "      <td>308.079707</td>\n",
       "      <td>COC(=O)C1(O)c2ccccc2N=C2N1c1ccccc1C2=O</td>\n",
       "    </tr>\n",
       "    <tr>\n",
       "      <th>4</th>\n",
       "      <td>np800064w</td>\n",
       "      <td>73549</td>\n",
       "      <td>248.058577</td>\n",
       "      <td>O=C1c2nc3ccccc3c(=O)n2c2c1cccc2</td>\n",
       "    </tr>\n",
       "  </tbody>\n",
       "</table>\n",
       "</div>"
      ],
      "text/plain": [
       "         doi      pubchem  ExactMolWt  \\\n",
       "0  np800064w  2.49706e+07  322.095357   \n",
       "1  np800064w  2.49706e+07  264.053492   \n",
       "2  np800064w  2.49706e+07  292.084792   \n",
       "3  np800064w       384867  308.079707   \n",
       "4  np800064w        73549  248.058577   \n",
       "\n",
       "                                     smiles  \n",
       "0  COC(=O)CC1(O)c2nc3ccccc3c(=O)n2c2c1cccc2  \n",
       "1      Oc1cccc2c1C(=O)c1n2c(=O)c2c(n1)cccc2  \n",
       "2   COC(=O)c1c2[nH]c3ccccc3c(=O)n2c2c1cccc2  \n",
       "3    COC(=O)C1(O)c2ccccc2N=C2N1c1ccccc1C2=O  \n",
       "4           O=C1c2nc3ccccc3c(=O)n2c2c1cccc2  "
      ]
     },
     "execution_count": 65,
     "metadata": {},
     "output_type": "execute_result"
    }
   ],
   "source": [
    "orch_print = orch_sel[['doi', 'pubchem', 'ExactMolWt', 'smiles']]\n",
    "orch_print.reset_index(drop=True, inplace=True)\n",
    "orch_print.head()"
   ]
  },
  {
   "cell_type": "code",
   "execution_count": 66,
   "metadata": {},
   "outputs": [
    {
     "name": "stderr",
     "output_type": "stream",
     "text": [
      "/home/rsilva/miniconda3/envs/nplibrary/lib/python3.6/site-packages/ipykernel_launcher.py:1: SettingWithCopyWarning: \n",
      "A value is trying to be set on a copy of a slice from a DataFrame.\n",
      "Try using .loc[row_indexer,col_indexer] = value instead\n",
      "\n",
      "See the caveats in the documentation: http://pandas.pydata.org/pandas-docs/stable/user_guide/indexing.html#returning-a-view-versus-a-copy\n",
      "  \"\"\"Entry point for launching an IPython kernel.\n"
     ]
    }
   ],
   "source": [
    "orch_print['Structure'] = ''"
   ]
  },
  {
   "cell_type": "code",
   "execution_count": 29,
   "metadata": {},
   "outputs": [],
   "source": [
    "with open('data/doi_dnp.json') as f:\n",
    "    jnp_doi = json.load(f)\n",
    "    \n",
    "with open('data/doi_quim.json') as f:\n",
    "    qn_doi = json.load(f)\n",
    "\n",
    "with open('data/doi_metabo.json') as f:\n",
    "    metabo_doi = json.load(f)\n",
    "\n",
    "with open('data/doi_phytorev.json') as f:\n",
    "    pytho_doi = json.load(f)\n",
    "\n",
    "with open('data/doi_chroma_a.json') as f:\n",
    "    chroma_a_doi = json.load(f)\n",
    "\n",
    "with open('data/doi_chroma_b.json') as f:\n",
    "    chroma_b_doi = json.load(f)"
   ]
  },
  {
   "cell_type": "code",
   "execution_count": 67,
   "metadata": {},
   "outputs": [
    {
     "data": {
      "text/plain": [
       "['https://pubs.acs.org/doi/pdf/10.1021/np50001a700',\n",
       " 'https://pubs.acs.org/doi/pdf/10.1021/np50001a001',\n",
       " 'https://pubs.acs.org/doi/pdf/10.1021/np50001a002',\n",
       " 'https://pubs.acs.org/doi/pdf/10.1021/np50001a003',\n",
       " 'https://pubs.acs.org/doi/pdf/10.1021/np50001a004']"
      ]
     },
     "execution_count": 67,
     "metadata": {},
     "output_type": "execute_result"
    }
   ],
   "source": [
    "jnp_doi[:5]"
   ]
  },
  {
   "cell_type": "code",
   "execution_count": 68,
   "metadata": {},
   "outputs": [
    {
     "data": {
      "text/plain": [
       "['https://link.springer.com/content/pdf/10.1007%2Fs11306-005-1111-7.pdf',\n",
       " 'https://link.springer.com/content/pdf/10.1007%2Fs11306-005-1102-8.pdf',\n",
       " 'https://link.springer.com/content/pdf/10.1007%2Fs11306-005-1103-7.pdf',\n",
       " 'https://link.springer.com/content/pdf/10.1007%2Fs11306-005-1104-6.pdf',\n",
       " 'https://link.springer.com/content/pdf/10.1007%2Fs11306-005-1105-5.pdf']"
      ]
     },
     "execution_count": 68,
     "metadata": {},
     "output_type": "execute_result"
    }
   ],
   "source": [
    "metabo_doi[:5]"
   ]
  },
  {
   "cell_type": "code",
   "execution_count": 69,
   "metadata": {},
   "outputs": [
    {
     "data": {
      "text/html": [
       "<div>\n",
       "<style scoped>\n",
       "    .dataframe tbody tr th:only-of-type {\n",
       "        vertical-align: middle;\n",
       "    }\n",
       "\n",
       "    .dataframe tbody tr th {\n",
       "        vertical-align: top;\n",
       "    }\n",
       "\n",
       "    .dataframe thead th {\n",
       "        text-align: right;\n",
       "    }\n",
       "</style>\n",
       "<table border=\"1\" class=\"dataframe\">\n",
       "  <thead>\n",
       "    <tr style=\"text-align: right;\">\n",
       "      <th></th>\n",
       "      <th>0</th>\n",
       "    </tr>\n",
       "  </thead>\n",
       "  <tbody>\n",
       "    <tr>\n",
       "      <th>0</th>\n",
       "      <td>https://pubs.acs.org/doi/pdf/10.1021/np50001a700</td>\n",
       "    </tr>\n",
       "    <tr>\n",
       "      <th>1</th>\n",
       "      <td>https://pubs.acs.org/doi/pdf/10.1021/np50001a001</td>\n",
       "    </tr>\n",
       "    <tr>\n",
       "      <th>2</th>\n",
       "      <td>https://pubs.acs.org/doi/pdf/10.1021/np50001a002</td>\n",
       "    </tr>\n",
       "    <tr>\n",
       "      <th>3</th>\n",
       "      <td>https://pubs.acs.org/doi/pdf/10.1021/np50001a003</td>\n",
       "    </tr>\n",
       "    <tr>\n",
       "      <th>4</th>\n",
       "      <td>https://pubs.acs.org/doi/pdf/10.1021/np50001a004</td>\n",
       "    </tr>\n",
       "  </tbody>\n",
       "</table>\n",
       "</div>"
      ],
      "text/plain": [
       "                                                  0\n",
       "0  https://pubs.acs.org/doi/pdf/10.1021/np50001a700\n",
       "1  https://pubs.acs.org/doi/pdf/10.1021/np50001a001\n",
       "2  https://pubs.acs.org/doi/pdf/10.1021/np50001a002\n",
       "3  https://pubs.acs.org/doi/pdf/10.1021/np50001a003\n",
       "4  https://pubs.acs.org/doi/pdf/10.1021/np50001a004"
      ]
     },
     "execution_count": 69,
     "metadata": {},
     "output_type": "execute_result"
    }
   ],
   "source": [
    "dois = pd.DataFrame(jnp_doi+qn_doi+metabo_doi+pytho_doi+chroma_b_doi+chroma_a_doi)\n",
    "dois.head()"
   ]
  },
  {
   "cell_type": "code",
   "execution_count": 70,
   "metadata": {},
   "outputs": [
    {
     "data": {
      "text/plain": [
       "'np800064w'"
      ]
     },
     "execution_count": 70,
     "metadata": {},
     "output_type": "execute_result"
    }
   ],
   "source": [
    "orch_print.loc[0, 'doi']"
   ]
  },
  {
   "cell_type": "code",
   "execution_count": 71,
   "metadata": {},
   "outputs": [
    {
     "data": {
      "text/plain": [
       "'https://pubs.acs.org/doi/pdf/10.1021/np800064w'"
      ]
     },
     "execution_count": 71,
     "metadata": {},
     "output_type": "execute_result"
    }
   ],
   "source": [
    "dois.loc[dois[0].str.contains(orch_print.loc[0, 'doi']), 0].values[0]"
   ]
  },
  {
   "cell_type": "code",
   "execution_count": 72,
   "metadata": {},
   "outputs": [],
   "source": [
    "for i in orch_print.index:\n",
    "    link = dois.loc[dois[0].str.contains(orch_print.loc[i, 'doi']), 0].values[0]\n",
    "    orch_print.loc[i, 'doi'] = '<a href=\"{}\" target=\"_blank\">{}</a>'.format(*[link, orch_print.loc[i, 'doi']])    \n",
    "    orch_print.loc[i, 'Structure'] = '<img src=\"./figs/%s.png\" width=\"100\" height=\"120\">' % orch_print.loc[i, 'pubchem']\n",
    "    orch_print.loc[i, 'pubchem'] = '<a href=\"https://pubchem.ncbi.nlm.nih.gov/compound/{}\" target=\"_blank\">{}</a>'.format(*[int(orch_print.loc[i, 'pubchem']), int(orch_print.loc[i, 'pubchem'])])\n",
    "    orch_print.loc[i, 'smiles'] = '<a href=\"https://pubchem.ncbi.nlm.nih.gov/edit3/index.html?smiles={}\" target=\"_blank\">{}</a>'.format(*[orch_print.loc[i, 'smiles'], 'PubChem Sketcher'])"
   ]
  },
  {
   "cell_type": "code",
   "execution_count": 73,
   "metadata": {},
   "outputs": [
    {
     "data": {
      "text/html": [
       "<div>\n",
       "<style scoped>\n",
       "    .dataframe tbody tr th:only-of-type {\n",
       "        vertical-align: middle;\n",
       "    }\n",
       "\n",
       "    .dataframe tbody tr th {\n",
       "        vertical-align: top;\n",
       "    }\n",
       "\n",
       "    .dataframe thead th {\n",
       "        text-align: right;\n",
       "    }\n",
       "</style>\n",
       "<table border=\"1\" class=\"dataframe\">\n",
       "  <thead>\n",
       "    <tr style=\"text-align: right;\">\n",
       "      <th></th>\n",
       "      <th>doi</th>\n",
       "      <th>pubchem</th>\n",
       "      <th>ExactMolWt</th>\n",
       "      <th>smiles</th>\n",
       "      <th>Structure</th>\n",
       "    </tr>\n",
       "  </thead>\n",
       "  <tbody>\n",
       "    <tr>\n",
       "      <th>0</th>\n",
       "      <td>&lt;a href=\"https://pubs.acs.org/doi/pdf/10.1021/...</td>\n",
       "      <td>&lt;a href=\"https://pubchem.ncbi.nlm.nih.gov/comp...</td>\n",
       "      <td>322.095357</td>\n",
       "      <td>&lt;a href=\"https://pubchem.ncbi.nlm.nih.gov/edit...</td>\n",
       "      <td>&lt;img src=\"./figs/24970643.0.png\" width=\"100\" h...</td>\n",
       "    </tr>\n",
       "    <tr>\n",
       "      <th>1</th>\n",
       "      <td>&lt;a href=\"https://pubs.acs.org/doi/pdf/10.1021/...</td>\n",
       "      <td>&lt;a href=\"https://pubchem.ncbi.nlm.nih.gov/comp...</td>\n",
       "      <td>264.053492</td>\n",
       "      <td>&lt;a href=\"https://pubchem.ncbi.nlm.nih.gov/edit...</td>\n",
       "      <td>&lt;img src=\"./figs/24970644.0.png\" width=\"100\" h...</td>\n",
       "    </tr>\n",
       "    <tr>\n",
       "      <th>2</th>\n",
       "      <td>&lt;a href=\"https://pubs.acs.org/doi/pdf/10.1021/...</td>\n",
       "      <td>&lt;a href=\"https://pubchem.ncbi.nlm.nih.gov/comp...</td>\n",
       "      <td>292.084792</td>\n",
       "      <td>&lt;a href=\"https://pubchem.ncbi.nlm.nih.gov/edit...</td>\n",
       "      <td>&lt;img src=\"./figs/24970645.0.png\" width=\"100\" h...</td>\n",
       "    </tr>\n",
       "    <tr>\n",
       "      <th>3</th>\n",
       "      <td>&lt;a href=\"https://pubs.acs.org/doi/pdf/10.1021/...</td>\n",
       "      <td>&lt;a href=\"https://pubchem.ncbi.nlm.nih.gov/comp...</td>\n",
       "      <td>308.079707</td>\n",
       "      <td>&lt;a href=\"https://pubchem.ncbi.nlm.nih.gov/edit...</td>\n",
       "      <td>&lt;img src=\"./figs/384867.0.png\" width=\"100\" hei...</td>\n",
       "    </tr>\n",
       "    <tr>\n",
       "      <th>4</th>\n",
       "      <td>&lt;a href=\"https://pubs.acs.org/doi/pdf/10.1021/...</td>\n",
       "      <td>&lt;a href=\"https://pubchem.ncbi.nlm.nih.gov/comp...</td>\n",
       "      <td>248.058577</td>\n",
       "      <td>&lt;a href=\"https://pubchem.ncbi.nlm.nih.gov/edit...</td>\n",
       "      <td>&lt;img src=\"./figs/73549.0.png\" width=\"100\" heig...</td>\n",
       "    </tr>\n",
       "  </tbody>\n",
       "</table>\n",
       "</div>"
      ],
      "text/plain": [
       "                                                 doi  \\\n",
       "0  <a href=\"https://pubs.acs.org/doi/pdf/10.1021/...   \n",
       "1  <a href=\"https://pubs.acs.org/doi/pdf/10.1021/...   \n",
       "2  <a href=\"https://pubs.acs.org/doi/pdf/10.1021/...   \n",
       "3  <a href=\"https://pubs.acs.org/doi/pdf/10.1021/...   \n",
       "4  <a href=\"https://pubs.acs.org/doi/pdf/10.1021/...   \n",
       "\n",
       "                                             pubchem  ExactMolWt  \\\n",
       "0  <a href=\"https://pubchem.ncbi.nlm.nih.gov/comp...  322.095357   \n",
       "1  <a href=\"https://pubchem.ncbi.nlm.nih.gov/comp...  264.053492   \n",
       "2  <a href=\"https://pubchem.ncbi.nlm.nih.gov/comp...  292.084792   \n",
       "3  <a href=\"https://pubchem.ncbi.nlm.nih.gov/comp...  308.079707   \n",
       "4  <a href=\"https://pubchem.ncbi.nlm.nih.gov/comp...  248.058577   \n",
       "\n",
       "                                              smiles  \\\n",
       "0  <a href=\"https://pubchem.ncbi.nlm.nih.gov/edit...   \n",
       "1  <a href=\"https://pubchem.ncbi.nlm.nih.gov/edit...   \n",
       "2  <a href=\"https://pubchem.ncbi.nlm.nih.gov/edit...   \n",
       "3  <a href=\"https://pubchem.ncbi.nlm.nih.gov/edit...   \n",
       "4  <a href=\"https://pubchem.ncbi.nlm.nih.gov/edit...   \n",
       "\n",
       "                                           Structure  \n",
       "0  <img src=\"./figs/24970643.0.png\" width=\"100\" h...  \n",
       "1  <img src=\"./figs/24970644.0.png\" width=\"100\" h...  \n",
       "2  <img src=\"./figs/24970645.0.png\" width=\"100\" h...  \n",
       "3  <img src=\"./figs/384867.0.png\" width=\"100\" hei...  \n",
       "4  <img src=\"./figs/73549.0.png\" width=\"100\" heig...  "
      ]
     },
     "execution_count": 73,
     "metadata": {},
     "output_type": "execute_result"
    }
   ],
   "source": [
    "orch_print.head()"
   ]
  },
  {
   "cell_type": "code",
   "execution_count": 74,
   "metadata": {},
   "outputs": [
    {
     "data": {
      "text/html": [
       "<div>\n",
       "<style scoped>\n",
       "    .dataframe tbody tr th:only-of-type {\n",
       "        vertical-align: middle;\n",
       "    }\n",
       "\n",
       "    .dataframe tbody tr th {\n",
       "        vertical-align: top;\n",
       "    }\n",
       "\n",
       "    .dataframe thead th {\n",
       "        text-align: right;\n",
       "    }\n",
       "</style>\n",
       "<table border=\"1\" class=\"dataframe\">\n",
       "  <thead>\n",
       "    <tr style=\"text-align: right;\">\n",
       "      <th></th>\n",
       "      <th>doi</th>\n",
       "      <th>pubchem</th>\n",
       "      <th>ExactMolWt</th>\n",
       "      <th>smiles</th>\n",
       "      <th>Structure</th>\n",
       "    </tr>\n",
       "  </thead>\n",
       "  <tbody>\n",
       "    <tr>\n",
       "      <th>377</th>\n",
       "      <td>&lt;a href=\"https://www.sciencedirect.com/science...</td>\n",
       "      <td>&lt;a href=\"https://pubchem.ncbi.nlm.nih.gov/comp...</td>\n",
       "      <td>192.115030</td>\n",
       "      <td>&lt;a href=\"https://pubchem.ncbi.nlm.nih.gov/edit...</td>\n",
       "      <td>&lt;img src=\"./figs/56835056.0.png\" width=\"100\" h...</td>\n",
       "    </tr>\n",
       "    <tr>\n",
       "      <th>378</th>\n",
       "      <td>&lt;a href=\"https://www.sciencedirect.com/science...</td>\n",
       "      <td>&lt;a href=\"https://pubchem.ncbi.nlm.nih.gov/comp...</td>\n",
       "      <td>162.068080</td>\n",
       "      <td>&lt;a href=\"https://pubchem.ncbi.nlm.nih.gov/edit...</td>\n",
       "      <td>&lt;img src=\"./figs/4679494.0.png\" width=\"100\" he...</td>\n",
       "    </tr>\n",
       "    <tr>\n",
       "      <th>379</th>\n",
       "      <td>&lt;a href=\"https://www.sciencedirect.com/science...</td>\n",
       "      <td>&lt;a href=\"https://pubchem.ncbi.nlm.nih.gov/comp...</td>\n",
       "      <td>108.068748</td>\n",
       "      <td>&lt;a href=\"https://pubchem.ncbi.nlm.nih.gov/edit...</td>\n",
       "      <td>&lt;img src=\"./figs/7516.0.png\" width=\"100\" heigh...</td>\n",
       "    </tr>\n",
       "    <tr>\n",
       "      <th>380</th>\n",
       "      <td>&lt;a href=\"https://www.sciencedirect.com/science...</td>\n",
       "      <td>&lt;a href=\"https://pubchem.ncbi.nlm.nih.gov/comp...</td>\n",
       "      <td>219.104799</td>\n",
       "      <td>&lt;a href=\"https://pubchem.ncbi.nlm.nih.gov/edit...</td>\n",
       "      <td>&lt;img src=\"./figs/297591.0.png\" width=\"100\" hei...</td>\n",
       "    </tr>\n",
       "    <tr>\n",
       "      <th>381</th>\n",
       "      <td>&lt;a href=\"https://www.sciencedirect.com/science...</td>\n",
       "      <td>&lt;a href=\"https://pubchem.ncbi.nlm.nih.gov/comp...</td>\n",
       "      <td>152.083730</td>\n",
       "      <td>&lt;a href=\"https://pubchem.ncbi.nlm.nih.gov/edit...</td>\n",
       "      <td>&lt;img src=\"./figs/68126.0.png\" width=\"100\" heig...</td>\n",
       "    </tr>\n",
       "  </tbody>\n",
       "</table>\n",
       "</div>"
      ],
      "text/plain": [
       "                                                   doi  \\\n",
       "377  <a href=\"https://www.sciencedirect.com/science...   \n",
       "378  <a href=\"https://www.sciencedirect.com/science...   \n",
       "379  <a href=\"https://www.sciencedirect.com/science...   \n",
       "380  <a href=\"https://www.sciencedirect.com/science...   \n",
       "381  <a href=\"https://www.sciencedirect.com/science...   \n",
       "\n",
       "                                               pubchem  ExactMolWt  \\\n",
       "377  <a href=\"https://pubchem.ncbi.nlm.nih.gov/comp...  192.115030   \n",
       "378  <a href=\"https://pubchem.ncbi.nlm.nih.gov/comp...  162.068080   \n",
       "379  <a href=\"https://pubchem.ncbi.nlm.nih.gov/comp...  108.068748   \n",
       "380  <a href=\"https://pubchem.ncbi.nlm.nih.gov/comp...  219.104799   \n",
       "381  <a href=\"https://pubchem.ncbi.nlm.nih.gov/comp...  152.083730   \n",
       "\n",
       "                                                smiles  \\\n",
       "377  <a href=\"https://pubchem.ncbi.nlm.nih.gov/edit...   \n",
       "378  <a href=\"https://pubchem.ncbi.nlm.nih.gov/edit...   \n",
       "379  <a href=\"https://pubchem.ncbi.nlm.nih.gov/edit...   \n",
       "380  <a href=\"https://pubchem.ncbi.nlm.nih.gov/edit...   \n",
       "381  <a href=\"https://pubchem.ncbi.nlm.nih.gov/edit...   \n",
       "\n",
       "                                             Structure  \n",
       "377  <img src=\"./figs/56835056.0.png\" width=\"100\" h...  \n",
       "378  <img src=\"./figs/4679494.0.png\" width=\"100\" he...  \n",
       "379  <img src=\"./figs/7516.0.png\" width=\"100\" heigh...  \n",
       "380  <img src=\"./figs/297591.0.png\" width=\"100\" hei...  \n",
       "381  <img src=\"./figs/68126.0.png\" width=\"100\" heig...  "
      ]
     },
     "execution_count": 74,
     "metadata": {},
     "output_type": "execute_result"
    }
   ],
   "source": [
    "orch_print.tail()"
   ]
  },
  {
   "cell_type": "code",
   "execution_count": 69,
   "metadata": {},
   "outputs": [],
   "source": [
    "# https://pubchem.ncbi.nlm.nih.gov/edit3/index.html?smiles=N1(C)C(=O)N(C)C(C(=C1N1)N(C=1)C)=O\n",
    "orch_print.to_csv('orch_print.tsv', sep='\\t', index=None)"
   ]
  },
  {
   "cell_type": "code",
   "execution_count": 102,
   "metadata": {},
   "outputs": [],
   "source": [
    "html = '''<!DOCTYPE html>\n",
    "<html>\n",
    "  <head>\n",
    "    <meta http-equiv=\"content-type\" content=\"text/html; charset=UTF-8\">\n",
    "    <title>NPMINE</title>\n",
    "    <script src=\"https://cdn.jsdelivr.net/npm/vue/dist/vue.js\"></script>\n",
    "    <script src=\"https://code.jquery.com/jquery-3.3.1.js\" integrity=\"sha256-2Kok7MbOyxpgUVvAk/HJ2jigOSYS2auK4Pfzbm7uH60=\" crossorigin=\"anonymous\"></script>\n",
    "    <link rel=\"stylesheet\" href=\"https://maxcdn.bootstrapcdn.com/bootstrap/4.0.0/css/bootstrap.min.css\" integrity=\"sha384-Gn5384xqQ1aoWXA+058RXPxPg6fy4IWvTNh0E263XmFcJlSAwiGgFAW/dAiS6JXm\" crossorigin=\"anonymous\">\n",
    "    <script src=\"https://maxcdn.bootstrapcdn.com/bootstrap/4.0.0/js/bootstrap.min.js\" integrity=\"sha384-JZR6Spejh4U02d8jOt6vLEHfe/JQGiRRSQQxSfFWpi1MquVdAyjUar5+76PVCmYl\" crossorigin=\"anonymous\"></script>\n",
    "    <link rel=\"stylesheet\" href=\"https://use.fontawesome.com/releases/v5.6.1/css/all.css\" integrity=\"sha384-gfdkjb5BdAXd+lj+gudLWI+BXq4IuLW5IT+brZEZsLFm++aCMlF1V92rMkPaX4PP\" crossorigin=\"anonymous\">\n",
    "</head>\n",
    "\n",
    "  <body>\n",
    "    <!-- A grey horizontal navbar that becomes vertical on small screens -->\n",
    "    <nav class=\"navbar navbar-expand-sm bg-light navbar-light\">\n",
    "        <a class=\"navbar-brand\" href=\"\">\n",
    "        </a>\n",
    "\n",
    "      <!-- Links-->\n",
    "      <ul class=\"navbar-nav\">\n",
    "        <li class=\"nav-item\">\n",
    "          <a class=\"nav-link\" href=\"http://ccbl.fcfrp.usp.br\">CCBL</a>\n",
    "        </li>\n",
    "      </ul>\n",
    "\n",
    "    </nav>\n",
    "    <div id=\"content\">\n",
    "\n",
    "    <link rel=\"stylesheet\" href=\"https://maxcdn.bootstrapcdn.com/bootstrap/4.0.0/css/bootstrap.min.css\" integrity=\"sha384-Gn5384xqQ1aoWXA+058RXPxPg6fy4IWvTNh0E263XmFcJlSAwiGgFAW/dAiS6JXm\" crossorigin=\"anonymous\">\n",
    "    <script src=\"https://maxcdn.bootstrapcdn.com/bootstrap/4.0.0/js/bootstrap.min.js\" integrity=\"sha384-JZR6Spejh4U02d8jOt6vLEHfe/JQGiRRSQQxSfFWpi1MquVdAyjUar5+76PVCmYl\" crossorigin=\"anonymous\"></script>\n",
    "    <link rel=\"stylesheet\" href=\"https://use.fontawesome.com/releases/v5.6.1/css/all.css\" integrity=\"sha384-gfdkjb5BdAXd+lj+gudLWI+BXq4IuLW5IT+brZEZsLFm++aCMlF1V92rMkPaX4PP\" crossorigin=\"anonymous\">\n",
    "\n",
    "    <script src=\"https://cdnjs.cloudflare.com/ajax/libs/jquery/3.3.1/jquery.min.js\"></script>\n",
    "\n",
    "    <script src=\"https://cdn.datatables.net/1.10.4/js/jquery.dataTables.min.js\"></script>\n",
    "    <link rel=\"stylesheet\" href=\"https://cdn.datatables.net/1.10.4/css/jquery.dataTables.min.css\">\n",
    "    <script>\n",
    "    \tvar dataSet = REPLACE;\n",
    "        console.log(dataSet);\n",
    "        $(document).ready(function() {\n",
    "    \t$('#resTable').DataTable( {\n",
    "            data : dataSet,\n",
    "    \t    // add column definitions to map your json to the table\n",
    "    \t    \"columns\": [\n",
    "    \t\t{title: \"doi\"},\n",
    "    \t\t{title: \"pubchem\"},\n",
    "    \t\t{title: \"ExactMolWt\"},\n",
    "    \t\t{title: \"smiles\"},\n",
    "            {title: \"Structure\"}\n",
    "    \t    ]\n",
    "    \t} );\n",
    "        });\n",
    "    </script>\n",
    "    <div class=\"m-5\">\n",
    "        <table id=\"resTable\" class=\"table table-striped\" style=\"width:100%\" >\n",
    "\t\t<thead>\n",
    "\t    <tr>\n",
    "\t\t<th>DOI</th>\n",
    "\t\t<th>PubChem</th>\n",
    "\t\t<th>ExactMolWt</th>\n",
    "\t\t<th>SMILES</th>\n",
    "\t\t<th>Structure</th>\n",
    "\t    </tr>\n",
    "\t    </thead>\n",
    "\t    </table>\n",
    "    </div>\n",
    "\n",
    "    </div>\n",
    "  </body>\n",
    "</html>'''"
   ]
  },
  {
   "cell_type": "code",
   "execution_count": 103,
   "metadata": {},
   "outputs": [],
   "source": [
    "html = re.sub('REPLACE', json.dumps(orch_print.head().apply(lambda a: a.tolist(), axis=1).tolist()), html)"
   ]
  },
  {
   "cell_type": "code",
   "execution_count": 104,
   "metadata": {},
   "outputs": [],
   "source": [
    "with open('study_case_example.html', 'w+') as f:\n",
    "    f.write(html)"
   ]
  },
  {
   "cell_type": "code",
   "execution_count": null,
   "metadata": {},
   "outputs": [],
   "source": []
  }
 ],
 "metadata": {
  "kernelspec": {
   "display_name": "Python 3",
   "language": "python",
   "name": "python3"
  },
  "language_info": {
   "codemirror_mode": {
    "name": "ipython",
    "version": 3
   },
   "file_extension": ".py",
   "mimetype": "text/x-python",
   "name": "python",
   "nbconvert_exporter": "python",
   "pygments_lexer": "ipython3",
   "version": "3.6.10"
  }
 },
 "nbformat": 4,
 "nbformat_minor": 4
}
